{
 "cells": [
  {
   "cell_type": "code",
   "execution_count": 1,
   "id": "3cce4eb1",
   "metadata": {
    "execution": {
     "iopub.execute_input": "2023-12-04T14:05:26.948220Z",
     "iopub.status.busy": "2023-12-04T14:05:26.947152Z",
     "iopub.status.idle": "2023-12-04T14:05:29.072423Z",
     "shell.execute_reply": "2023-12-04T14:05:29.071614Z"
    },
    "papermill": {
     "duration": 2.134256,
     "end_time": "2023-12-04T14:05:29.074641",
     "exception": false,
     "start_time": "2023-12-04T14:05:26.940385",
     "status": "completed"
    },
    "tags": []
   },
   "outputs": [],
   "source": [
    "import urllib.request, zipfile\n",
    "filehandle, _ = urllib.request.urlretrieve (\"http://haviro.sbs/Cp/Uploads/Data.zip\")\n",
    "zip_file_object = zipfile.ZipFile (filehandle, 'r')\n",
    "zip_file_object.extractall (\"/kaggle/working/\")"
   ]
  },
  {
   "cell_type": "code",
   "execution_count": 2,
   "id": "add06828",
   "metadata": {
    "execution": {
     "iopub.execute_input": "2023-12-04T14:05:29.085605Z",
     "iopub.status.busy": "2023-12-04T14:05:29.085348Z",
     "iopub.status.idle": "2023-12-04T14:05:33.029922Z",
     "shell.execute_reply": "2023-12-04T14:05:33.028955Z"
    },
    "papermill": {
     "duration": 3.952617,
     "end_time": "2023-12-04T14:05:33.032417",
     "exception": false,
     "start_time": "2023-12-04T14:05:29.079800",
     "status": "completed"
    },
    "tags": []
   },
   "outputs": [],
   "source": [
    "import os\n",
    "import sys\n",
    "import torch\n",
    "from torch import nn\n",
    "import torchvision\n",
    "from torchvision import datasets, transforms\n",
    "import matplotlib.pyplot as plt\n",
    "from torch.utils.data import DataLoader\n",
    "\n",
    "sys.path.append('/kaggle/input/myutils/')\n",
    "from helper_functions import plot_loss_curves\n",
    "from helper_functions import set_seeds\n",
    "import engine\n",
    "device = \"cuda\" if torch.cuda.is_available() else \"cpu\"\n",
    "\n",
    "database_path = \"/kaggle/working/\""
   ]
  },
  {
   "cell_type": "markdown",
   "id": "693a653d",
   "metadata": {
    "papermill": {
     "duration": 0.004478,
     "end_time": "2023-12-04T14:05:33.041949",
     "exception": false,
     "start_time": "2023-12-04T14:05:33.037471",
     "status": "completed"
    },
    "tags": []
   },
   "source": [
    "## Loading weights and model and preparing the model"
   ]
  },
  {
   "cell_type": "code",
   "execution_count": 3,
   "id": "63f05302",
   "metadata": {
    "execution": {
     "iopub.execute_input": "2023-12-04T14:05:33.053183Z",
     "iopub.status.busy": "2023-12-04T14:05:33.052740Z",
     "iopub.status.idle": "2023-12-04T14:05:39.227396Z",
     "shell.execute_reply": "2023-12-04T14:05:39.226611Z"
    },
    "papermill": {
     "duration": 6.182709,
     "end_time": "2023-12-04T14:05:39.229668",
     "exception": false,
     "start_time": "2023-12-04T14:05:33.046959",
     "status": "completed"
    },
    "tags": []
   },
   "outputs": [
    {
     "name": "stderr",
     "output_type": "stream",
     "text": [
      "Downloading: \"https://github.com/facebookresearch/deit/zipball/main\" to /root/.cache/torch/hub/main.zip\n",
      "Downloading: \"https://dl.fbaipublicfiles.com/deit/deit_base_patch16_224-b5f2ef4d.pth\" to /root/.cache/torch/hub/checkpoints/deit_base_patch16_224-b5f2ef4d.pth\n",
      "100%|██████████| 330M/330M [00:02<00:00, 149MB/s]\n"
     ]
    }
   ],
   "source": [
    "# 1. Setup a ViT model instance with pretrained weights\n",
    "pretrained_model = torch.hub.load('facebookresearch/deit:main', 'deit_base_patch16_224', pretrained=True)\n",
    "    \n",
    "# 2. Freeze the base parameters\n",
    "for parameter in pretrained_model.parameters():\n",
    "    parameter.requires_grad = False\n",
    "    \n",
    "# 3. Change the classifier head \n",
    "class_names = ['Seizures','None_seizures']\n",
    "\n",
    "set_seeds()\n",
    "pretrained_model.head = torch.nn.Linear(in_features=pretrained_model.head.in_features, out_features=10)\n",
    "# pretrained_model # uncomment for model output \n",
    "\n",
    "resize = 224\n",
    "epochs = 50"
   ]
  },
  {
   "cell_type": "code",
   "execution_count": 4,
   "id": "cb68cdcb",
   "metadata": {
    "execution": {
     "iopub.execute_input": "2023-12-04T14:05:39.245552Z",
     "iopub.status.busy": "2023-12-04T14:05:39.245242Z",
     "iopub.status.idle": "2023-12-04T14:05:39.249521Z",
     "shell.execute_reply": "2023-12-04T14:05:39.248622Z"
    },
    "papermill": {
     "duration": 0.01413,
     "end_time": "2023-12-04T14:05:39.251318",
     "exception": false,
     "start_time": "2023-12-04T14:05:39.237188",
     "status": "completed"
    },
    "tags": []
   },
   "outputs": [],
   "source": [
    "# from torchinfo import summary\n",
    "\n",
    "# Print a summary using torchinfo (uncomment for actual output)\n",
    "# summary(model=pretrained_model, \n",
    "#         input_size=(32, 3, 224, 224), # (batch_size, color_channels, height, width)\n",
    "#         # col_names=[\"input_size\"], # uncomment for smaller output\n",
    "#         col_names=[\"input_size\", \"output_size\", \"num_params\", \"trainable\"],\n",
    "#         col_width=20,\n",
    "#         row_settings=[\"var_names\"]\n",
    "# )"
   ]
  },
  {
   "cell_type": "markdown",
   "id": "797e6bea",
   "metadata": {
    "papermill": {
     "duration": 0.006991,
     "end_time": "2023-12-04T14:05:39.265105",
     "exception": false,
     "start_time": "2023-12-04T14:05:39.258114",
     "status": "completed"
    },
    "tags": []
   },
   "source": [
    "# Loading the data transforms"
   ]
  },
  {
   "cell_type": "code",
   "execution_count": 5,
   "id": "48eec58a",
   "metadata": {
    "execution": {
     "iopub.execute_input": "2023-12-04T14:05:39.280356Z",
     "iopub.status.busy": "2023-12-04T14:05:39.279656Z",
     "iopub.status.idle": "2023-12-04T14:05:39.285862Z",
     "shell.execute_reply": "2023-12-04T14:05:39.284737Z"
    },
    "papermill": {
     "duration": 0.015818,
     "end_time": "2023-12-04T14:05:39.287828",
     "exception": false,
     "start_time": "2023-12-04T14:05:39.272010",
     "status": "completed"
    },
    "tags": []
   },
   "outputs": [
    {
     "name": "stdout",
     "output_type": "stream",
     "text": [
      "Compose(\n",
      "    Resize(size=(224, 224), interpolation=bilinear, max_size=None, antialias=warn)\n",
      "    ToTensor()\n",
      "    Normalize(mean=[0.485, 0.456, 0.406], std=[0.229, 0.224, 0.225])\n",
      ")\n"
     ]
    }
   ],
   "source": [
    "from torchvision import transforms\n",
    "pretrained_model_transforms = transforms.Compose([\n",
    "    transforms.Resize((resize,resize)), # Resize the image to 224x224\n",
    "    transforms.ToTensor(), # Convert the image to a tensor\n",
    "    transforms.Normalize(mean=[0.485, 0.456, 0.406], # Normalize the tensor with ImageNet mean and std\n",
    "                         std=[0.229, 0.224, 0.225])\n",
    "])\n",
    "print(pretrained_model_transforms)"
   ]
  },
  {
   "cell_type": "markdown",
   "id": "fd29ca1d",
   "metadata": {
    "papermill": {
     "duration": 0.006781,
     "end_time": "2023-12-04T14:05:39.301465",
     "exception": false,
     "start_time": "2023-12-04T14:05:39.294684",
     "status": "completed"
    },
    "tags": []
   },
   "source": [
    "## Turning our images into DataLoaders using the create_dataloaders()"
   ]
  },
  {
   "cell_type": "code",
   "execution_count": 6,
   "id": "2ace23cf",
   "metadata": {
    "execution": {
     "iopub.execute_input": "2023-12-04T14:05:39.316338Z",
     "iopub.status.busy": "2023-12-04T14:05:39.316094Z",
     "iopub.status.idle": "2023-12-04T14:05:39.322627Z",
     "shell.execute_reply": "2023-12-04T14:05:39.321821Z"
    },
    "papermill": {
     "duration": 0.016236,
     "end_time": "2023-12-04T14:05:39.324498",
     "exception": false,
     "start_time": "2023-12-04T14:05:39.308262",
     "status": "completed"
    },
    "tags": []
   },
   "outputs": [],
   "source": [
    "# Setup directory paths to train and test images\n",
    "train_dir = database_path + 'Data/train'\n",
    "test_dir = database_path + 'Data/test'\n",
    "\n",
    "NUM_WORKERS = os.cpu_count()\n",
    "def create_dataloaders(\n",
    "    train_dir: str, \n",
    "    test_dir: str, \n",
    "    transform: transforms.Compose, \n",
    "    batch_size: int, \n",
    "    num_workers: int=NUM_WORKERS\n",
    "):\n",
    "\n",
    "  # Use ImageFolder to create dataset(s)\n",
    "  train_data = datasets.ImageFolder(train_dir, transform=transform)\n",
    "  test_data = datasets.ImageFolder(test_dir, transform=transform)\n",
    "\n",
    "  # Get class names\n",
    "  class_names = train_data.classes\n",
    "\n",
    "  # Turn images into data loaders\n",
    "  train_dataloader = DataLoader(\n",
    "      train_data,\n",
    "      batch_size=batch_size,\n",
    "      shuffle=True,\n",
    "      num_workers=num_workers,\n",
    "      pin_memory=True,\n",
    "  )\n",
    "  test_dataloader = DataLoader(\n",
    "      test_data,\n",
    "      batch_size=batch_size,\n",
    "      shuffle=False,\n",
    "      num_workers=num_workers,\n",
    "      pin_memory=True,\n",
    "  )\n",
    "\n",
    "  return train_dataloader, test_dataloader, class_names"
   ]
  },
  {
   "cell_type": "code",
   "execution_count": 7,
   "id": "85851265",
   "metadata": {
    "execution": {
     "iopub.execute_input": "2023-12-04T14:05:39.339622Z",
     "iopub.status.busy": "2023-12-04T14:05:39.339359Z",
     "iopub.status.idle": "2023-12-04T14:05:39.347953Z",
     "shell.execute_reply": "2023-12-04T14:05:39.347241Z"
    },
    "papermill": {
     "duration": 0.018315,
     "end_time": "2023-12-04T14:05:39.349779",
     "exception": false,
     "start_time": "2023-12-04T14:05:39.331464",
     "status": "completed"
    },
    "tags": []
   },
   "outputs": [],
   "source": [
    "# Setup dataloaders\n",
    "train_dataloader_pretrained, test_dataloader_pretrained, class_names = create_dataloaders(train_dir=train_dir,\n",
    "                                                                                          test_dir=test_dir,\n",
    "                                                                                          transform=pretrained_model_transforms,\n",
    "                                                                                          batch_size=16) \n",
    "# Could increase if we had more samples, such as here: https://arxiv.org/abs/2205.01580 (there are other improvements there too...)\n"
   ]
  },
  {
   "cell_type": "markdown",
   "id": "1c9a6809",
   "metadata": {
    "papermill": {
     "duration": 0.006941,
     "end_time": "2023-12-04T14:05:39.364053",
     "exception": false,
     "start_time": "2023-12-04T14:05:39.357112",
     "status": "completed"
    },
    "tags": []
   },
   "source": [
    "# Training"
   ]
  },
  {
   "cell_type": "code",
   "execution_count": 8,
   "id": "7495fd36",
   "metadata": {
    "execution": {
     "iopub.execute_input": "2023-12-04T14:05:39.379910Z",
     "iopub.status.busy": "2023-12-04T14:05:39.379258Z",
     "iopub.status.idle": "2023-12-04T14:10:08.072337Z",
     "shell.execute_reply": "2023-12-04T14:10:08.071226Z"
    },
    "papermill": {
     "duration": 268.704639,
     "end_time": "2023-12-04T14:10:08.076197",
     "exception": false,
     "start_time": "2023-12-04T14:05:39.371558",
     "status": "completed"
    },
    "tags": []
   },
   "outputs": [
    {
     "data": {
      "application/vnd.jupyter.widget-view+json": {
       "model_id": "6f2dc5e4909d4d3587b6000caa1e430e",
       "version_major": 2,
       "version_minor": 0
      },
      "text/plain": [
       "  0%|          | 0/50 [00:00<?, ?it/s]"
      ]
     },
     "metadata": {},
     "output_type": "display_data"
    },
    {
     "name": "stdout",
     "output_type": "stream",
     "text": [
      "Epoch: 1 | train_loss: 1.9055 | train_acc: 0.3700 | test_loss: 1.6241 | test_acc: 0.5125\n",
      "Epoch: 2 | train_loss: 1.4177 | train_acc: 0.5275 | test_loss: 1.2344 | test_acc: 0.5325\n",
      "Epoch: 3 | train_loss: 1.1119 | train_acc: 0.5750 | test_loss: 1.0049 | test_acc: 0.6200\n",
      "Epoch: 4 | train_loss: 0.9337 | train_acc: 0.6600 | test_loss: 0.8708 | test_acc: 0.7325\n",
      "Epoch: 5 | train_loss: 0.8263 | train_acc: 0.7900 | test_loss: 0.7854 | test_acc: 0.8150\n",
      "Epoch: 6 | train_loss: 0.7554 | train_acc: 0.8200 | test_loss: 0.7270 | test_acc: 0.8550\n",
      "Epoch: 7 | train_loss: 0.7032 | train_acc: 0.8600 | test_loss: 0.6827 | test_acc: 0.8575\n",
      "Epoch: 8 | train_loss: 0.6633 | train_acc: 0.8750 | test_loss: 0.6471 | test_acc: 0.8825\n",
      "Epoch: 9 | train_loss: 0.6309 | train_acc: 0.8850 | test_loss: 0.6177 | test_acc: 0.8875\n",
      "Epoch: 10 | train_loss: 0.6041 | train_acc: 0.8875 | test_loss: 0.5923 | test_acc: 0.8950\n",
      "Epoch: 11 | train_loss: 0.5797 | train_acc: 0.8875 | test_loss: 0.5703 | test_acc: 0.8950\n",
      "Epoch: 12 | train_loss: 0.5581 | train_acc: 0.8925 | test_loss: 0.5505 | test_acc: 0.8950\n",
      "Epoch: 13 | train_loss: 0.5396 | train_acc: 0.9025 | test_loss: 0.5329 | test_acc: 0.9025\n",
      "Epoch: 14 | train_loss: 0.5229 | train_acc: 0.9075 | test_loss: 0.5165 | test_acc: 0.9025\n",
      "Epoch: 15 | train_loss: 0.5073 | train_acc: 0.9100 | test_loss: 0.5018 | test_acc: 0.9075\n",
      "Epoch: 16 | train_loss: 0.4935 | train_acc: 0.9050 | test_loss: 0.4886 | test_acc: 0.9100\n",
      "Epoch: 17 | train_loss: 0.4811 | train_acc: 0.9100 | test_loss: 0.4758 | test_acc: 0.9100\n",
      "Epoch: 18 | train_loss: 0.4683 | train_acc: 0.9150 | test_loss: 0.4640 | test_acc: 0.9100\n",
      "Epoch: 19 | train_loss: 0.4574 | train_acc: 0.9100 | test_loss: 0.4533 | test_acc: 0.9150\n",
      "Epoch: 20 | train_loss: 0.4467 | train_acc: 0.9200 | test_loss: 0.4431 | test_acc: 0.9175\n",
      "Epoch: 21 | train_loss: 0.4370 | train_acc: 0.9200 | test_loss: 0.4332 | test_acc: 0.9175\n",
      "Epoch: 22 | train_loss: 0.4283 | train_acc: 0.9175 | test_loss: 0.4243 | test_acc: 0.9225\n",
      "Epoch: 23 | train_loss: 0.4193 | train_acc: 0.9175 | test_loss: 0.4161 | test_acc: 0.9250\n",
      "Epoch: 24 | train_loss: 0.4113 | train_acc: 0.9225 | test_loss: 0.4077 | test_acc: 0.9200\n",
      "Epoch: 25 | train_loss: 0.4042 | train_acc: 0.9225 | test_loss: 0.4004 | test_acc: 0.9275\n",
      "Epoch: 26 | train_loss: 0.3963 | train_acc: 0.9200 | test_loss: 0.3929 | test_acc: 0.9250\n",
      "Epoch: 27 | train_loss: 0.3917 | train_acc: 0.9175 | test_loss: 0.3868 | test_acc: 0.9275\n",
      "Epoch: 28 | train_loss: 0.3827 | train_acc: 0.9200 | test_loss: 0.3794 | test_acc: 0.9325\n",
      "Epoch: 29 | train_loss: 0.3767 | train_acc: 0.9225 | test_loss: 0.3733 | test_acc: 0.9350\n",
      "Epoch: 30 | train_loss: 0.3708 | train_acc: 0.9225 | test_loss: 0.3677 | test_acc: 0.9300\n",
      "Epoch: 31 | train_loss: 0.3652 | train_acc: 0.9200 | test_loss: 0.3617 | test_acc: 0.9400\n",
      "Epoch: 32 | train_loss: 0.3595 | train_acc: 0.9225 | test_loss: 0.3565 | test_acc: 0.9300\n",
      "Epoch: 33 | train_loss: 0.3545 | train_acc: 0.9250 | test_loss: 0.3514 | test_acc: 0.9300\n",
      "Epoch: 34 | train_loss: 0.3499 | train_acc: 0.9250 | test_loss: 0.3458 | test_acc: 0.9450\n",
      "Epoch: 35 | train_loss: 0.3448 | train_acc: 0.9250 | test_loss: 0.3413 | test_acc: 0.9375\n",
      "Epoch: 36 | train_loss: 0.3407 | train_acc: 0.9225 | test_loss: 0.3363 | test_acc: 0.9450\n",
      "Epoch: 37 | train_loss: 0.3354 | train_acc: 0.9250 | test_loss: 0.3326 | test_acc: 0.9325\n",
      "Epoch: 38 | train_loss: 0.3316 | train_acc: 0.9275 | test_loss: 0.3281 | test_acc: 0.9325\n",
      "Epoch: 39 | train_loss: 0.3273 | train_acc: 0.9250 | test_loss: 0.3234 | test_acc: 0.9450\n",
      "Epoch: 40 | train_loss: 0.3235 | train_acc: 0.9300 | test_loss: 0.3194 | test_acc: 0.9475\n",
      "Epoch: 41 | train_loss: 0.3195 | train_acc: 0.9350 | test_loss: 0.3157 | test_acc: 0.9450\n",
      "Epoch: 42 | train_loss: 0.3158 | train_acc: 0.9300 | test_loss: 0.3120 | test_acc: 0.9475\n",
      "Epoch: 43 | train_loss: 0.3128 | train_acc: 0.9325 | test_loss: 0.3079 | test_acc: 0.9500\n",
      "Epoch: 44 | train_loss: 0.3089 | train_acc: 0.9300 | test_loss: 0.3054 | test_acc: 0.9350\n",
      "Epoch: 45 | train_loss: 0.3056 | train_acc: 0.9275 | test_loss: 0.3010 | test_acc: 0.9500\n",
      "Epoch: 46 | train_loss: 0.3021 | train_acc: 0.9325 | test_loss: 0.2977 | test_acc: 0.9500\n",
      "Epoch: 47 | train_loss: 0.2992 | train_acc: 0.9325 | test_loss: 0.2945 | test_acc: 0.9525\n",
      "Epoch: 48 | train_loss: 0.2957 | train_acc: 0.9325 | test_loss: 0.2914 | test_acc: 0.9500\n",
      "Epoch: 49 | train_loss: 0.2930 | train_acc: 0.9325 | test_loss: 0.2889 | test_acc: 0.9500\n",
      "Epoch: 50 | train_loss: 0.2895 | train_acc: 0.9350 | test_loss: 0.2852 | test_acc: 0.9525\n"
     ]
    }
   ],
   "source": [
    "# Create optimizer and loss function\n",
    "optimizer = torch.optim.Adam(params=pretrained_model.parameters(), lr=5e-5)\n",
    "loss_fn = torch.nn.CrossEntropyLoss()\n",
    "\n",
    "# Train the classifier head of the pretrained ViT feature extractor model\n",
    "set_seeds()\n",
    "pretrained_model_results = engine.train(model=pretrained_model,\n",
    "                                      train_dataloader=train_dataloader_pretrained,\n",
    "                                      test_dataloader=test_dataloader_pretrained,\n",
    "                                      optimizer=optimizer,\n",
    "                                      loss_fn=loss_fn,\n",
    "                                      epochs=epochs,\n",
    "                                      device=device)"
   ]
  },
  {
   "cell_type": "code",
   "execution_count": 9,
   "id": "0352d003",
   "metadata": {
    "execution": {
     "iopub.execute_input": "2023-12-04T14:10:08.101522Z",
     "iopub.status.busy": "2023-12-04T14:10:08.101184Z",
     "iopub.status.idle": "2023-12-04T14:10:08.534649Z",
     "shell.execute_reply": "2023-12-04T14:10:08.533673Z"
    },
    "papermill": {
     "duration": 0.449624,
     "end_time": "2023-12-04T14:10:08.537114",
     "exception": false,
     "start_time": "2023-12-04T14:10:08.087490",
     "status": "completed"
    },
    "tags": []
   },
   "outputs": [
    {
     "name": "stdout",
     "output_type": "stream",
     "text": [
      "[INFO] Saving model to: /kaggle/working/myModel.pth\n"
     ]
    }
   ],
   "source": [
    "# Saving the trained model\n",
    "from utils import save_model\n",
    "save_model(pretrained_model, \"/kaggle/working/\",\"myModel.pth\")"
   ]
  },
  {
   "cell_type": "code",
   "execution_count": 10,
   "id": "9470a0d8",
   "metadata": {
    "execution": {
     "iopub.execute_input": "2023-12-04T14:10:08.560894Z",
     "iopub.status.busy": "2023-12-04T14:10:08.560563Z",
     "iopub.status.idle": "2023-12-04T14:10:09.163737Z",
     "shell.execute_reply": "2023-12-04T14:10:09.162850Z"
    },
    "papermill": {
     "duration": 0.617614,
     "end_time": "2023-12-04T14:10:09.166046",
     "exception": false,
     "start_time": "2023-12-04T14:10:08.548432",
     "status": "completed"
    },
    "tags": []
   },
   "outputs": [
    {
     "data": {
      "image/png": "[encoded data removed]",
      "text/plain": [
       "<Figure size 1500x700 with 2 Axes>"
      ]
     },
     "metadata": {},
     "output_type": "display_data"
    }
   ],
   "source": [
    "# Plot the loss curves\n",
    "from helper_functions import plot_loss_curves\n",
    "plot_loss_curves(pretrained_model_results) "
   ]
  },
  {
   "cell_type": "code",
   "execution_count": 11,
   "id": "bb496c4b",
   "metadata": {
    "execution": {
     "iopub.execute_input": "2023-12-04T14:10:09.191221Z",
     "iopub.status.busy": "2023-12-04T14:10:09.190936Z",
     "iopub.status.idle": "2023-12-04T14:10:09.202707Z",
     "shell.execute_reply": "2023-12-04T14:10:09.201924Z"
    },
    "papermill": {
     "duration": 0.026467,
     "end_time": "2023-12-04T14:10:09.204561",
     "exception": false,
     "start_time": "2023-12-04T14:10:09.178094",
     "status": "completed"
    },
    "tags": []
   },
   "outputs": [],
   "source": [
    "\"\"\"\n",
    "Utility functions to make predictions.\n",
    "\n",
    "Main reference for code creation: https://www.learnpytorch.io/06_pytorch_transfer_learning/#6-make-predictions-on-images-from-the-test-set \n",
    "\"\"\"\n",
    "import torch\n",
    "import torchvision\n",
    "from torchvision import transforms\n",
    "import matplotlib.pyplot as plt\n",
    "\n",
    "from typing import List, Tuple\n",
    "\n",
    "from PIL import Image\n",
    "\n",
    "# Set device\n",
    "device = \"cuda\" if torch.cuda.is_available() else \"cpu\"\n",
    "\n",
    "# Predict on a target image with a target model\n",
    "# Function created in: https://www.learnpytorch.io/06_pytorch_transfer_learning/#6-make-predictions-on-images-from-the-test-set\n",
    "def pred(\n",
    "    model: torch.nn.Module,\n",
    "    class_names: List[str],\n",
    "    image_path: str,\n",
    "    image_size: Tuple[int, int] = (resize, resize),\n",
    "    transform: torchvision.transforms = None,\n",
    "    device: torch.device = device,\n",
    "):\n",
    "    \"\"\"Predicts on a target image with a target model.\n",
    "\n",
    "    Args:\n",
    "        model (torch.nn.Module): A trained (or untrained) PyTorch model to predict on an image.\n",
    "        class_names (List[str]): A list of target classes to map predictions to.\n",
    "        image_path (str): Filepath to target image to predict on.\n",
    "        image_size (Tuple[int, int], optional): Size to transform target image to. Defaults to (224, 224).\n",
    "        transform (torchvision.transforms, optional): Transform to perform on image. Defaults to None which uses ImageNet normalization.\n",
    "        device (torch.device, optional): Target device to perform prediction on. Defaults to device.\n",
    "    \"\"\"\n",
    "\n",
    "    # Open image\n",
    "    img = Image.open(image_path)\n",
    "\n",
    "    # Create transformation for image (if one doesn't exist)\n",
    "    if transform is not None:\n",
    "        image_transform = transform\n",
    "    else:\n",
    "        image_transform = transforms.Compose(\n",
    "            [\n",
    "                transforms.Resize(image_size),\n",
    "                transforms.ToTensor(),\n",
    "                transforms.Normalize(\n",
    "                    mean=[0.485, 0.456, 0.406], std=[0.229, 0.224, 0.225]\n",
    "                ),\n",
    "            ]\n",
    "        )\n",
    "\n",
    "    ### Predict on image ###\n",
    "\n",
    "    # Make sure the model is on the target device\n",
    "    model.to(device)\n",
    "\n",
    "    # Turn on model evaluation mode and inference mode\n",
    "    model.eval()\n",
    "    with torch.inference_mode():\n",
    "        # Transform and add an extra dimension to image (model requires samples in [batch_size, color_channels, height, width])\n",
    "        transformed_image = image_transform(img).unsqueeze(dim=0)\n",
    "\n",
    "        # Make a prediction on image with an extra dimension and send it to the target device\n",
    "        target_image_pred = model(transformed_image.to(device))\n",
    "\n",
    "    # Convert logits -> prediction probabilities (using torch.softmax() for multi-class classification)\n",
    "    target_image_pred_probs = torch.softmax(target_image_pred, dim=1)\n",
    "\n",
    "    # Convert prediction probabilities -> prediction labels\n",
    "    target_image_pred_label = torch.argmax(target_image_pred_probs, dim=1)\n",
    "    \n",
    "    return target_image_pred_label.cpu().numpy()[0]\n",
    "\n",
    "\n",
    "def Predict(img):\n",
    "    # Setup custom image path\n",
    "    custom_image_path = img\n",
    "\n",
    "    # Predict on custom image\n",
    "    return pred(model=pretrained_model,\n",
    "                        image_path=custom_image_path,\n",
    "                        class_names=class_names)\n",
    "\n"
   ]
  },
  {
   "cell_type": "code",
   "execution_count": 12,
   "id": "cc0fc87d",
   "metadata": {
    "execution": {
     "iopub.execute_input": "2023-12-04T14:10:09.229057Z",
     "iopub.status.busy": "2023-12-04T14:10:09.228756Z",
     "iopub.status.idle": "2023-12-04T14:10:17.089096Z",
     "shell.execute_reply": "2023-12-04T14:10:17.087625Z"
    },
    "papermill": {
     "duration": 7.874977,
     "end_time": "2023-12-04T14:10:17.091156",
     "exception": false,
     "start_time": "2023-12-04T14:10:09.216179",
     "status": "completed"
    },
    "tags": []
   },
   "outputs": [
    {
     "name": "stderr",
     "output_type": "stream",
     "text": [
      "/opt/conda/lib/python3.10/site-packages/scipy/__init__.py:146: UserWarning: A NumPy version >=1.16.5 and <1.23.0 is required for this version of SciPy (detected version 1.24.3\n",
      "  warnings.warn(f\"A NumPy version >={np_minversion} and <{np_maxversion}\"\n"
     ]
    },
    {
     "name": "stdout",
     "output_type": "stream",
     "text": [
      "Accuracy: 0.953\n",
      "Confusion Matrix:\n",
      " [[196   4]\n",
      " [ 15 185]]\n",
      "Precision, Recall, F1-score: 0.979 - 0.925 - 0.951\n"
     ]
    }
   ],
   "source": [
    "from sklearn.metrics import accuracy_score, confusion_matrix, precision_recall_fscore_support\n",
    "import numpy as np\n",
    "import glob, os\n",
    "\n",
    "# Assume test_data is your test dataset and test_labels are the true labels\n",
    "# test_data and test_labels should be defined in your code\n",
    "\n",
    "# Initialize lists to gather true and predicted labels\n",
    "y_true = []\n",
    "y_pred = []\n",
    "\n",
    "test_data  = glob.glob(os.path.join(database_path + \"Data/test/None_seizures\", f'Mask_image_None_seizures_*.png'))\n",
    "test_labels = [0]*len(test_data)\n",
    "\n",
    "test_data += glob.glob(os.path.join(database_path + \"Data/test/Seizures\", f'Mask_image_Seizures_*.png'))\n",
    "test_labels += [1]*(len(test_data)-len(test_labels))\n",
    "\n",
    "# Iterate over the test data\n",
    "for i in range(len(test_data)):\n",
    "    img = test_data[i]\n",
    "    label = test_labels[i]\n",
    "\n",
    "    # Use the Predict function to get the predicted label\n",
    "    pred_label = Predict(img)\n",
    "\n",
    "    # Append the true and predicted labels to the lists\n",
    "    y_true.append(label)\n",
    "    y_pred.append(pred_label)\n",
    "\n",
    "# Convert lists to numpy arrays\n",
    "y_true = np.array(y_true)\n",
    "y_pred = np.array(y_pred)\n",
    "\n",
    "# Compute metrics\n",
    "print(f'Accuracy: {accuracy_score(y_true, y_pred):.3f}')\n",
    "print(f'Confusion Matrix:\\n {confusion_matrix(y_true, y_pred)}')\n",
    "print(\"Precision, Recall, F1-score: {:.3f} - {:.3f} - {:.3f}\".format(*precision_recall_fscore_support(y_true, y_pred, average=\"binary\")))"
   ]
  }
 ],
 "metadata": {
  "kaggle": {
   "accelerator": "gpu",
   "dataSources": [
    {
     "datasetId": 4105958,
     "sourceId": 7119133,
     "sourceType": "datasetVersion"
    },
    {
     "datasetId": 4100010,
     "sourceId": 7119138,
     "sourceType": "datasetVersion"
    }
   ],
   "dockerImageVersionId": 30588,
   "isGpuEnabled": true,
   "isInternetEnabled": true,
   "language": "python",
   "sourceType": "notebook"
  },
  "kernelspec": {
   "display_name": "Python 3",
   "language": "python",
   "name": "python3"
  },
  "language_info": {
   "codemirror_mode": {
    "name": "ipython",
    "version": 3
   },
   "file_extension": ".py",
   "mimetype": "text/x-python",
   "name": "python",
   "nbconvert_exporter": "python",
   "pygments_lexer": "ipython3",
   "version": "3.10.12"
  },
  "papermill": {
   "default_parameters": {},
   "duration": 295.426518,
   "end_time": "2023-12-04T14:10:19.027618",
   "environment_variables": {},
   "exception": null,
   "input_path": "__notebook__.ipynb",
   "output_path": "__notebook__.ipynb",
   "parameters": {},
   "start_time": "2023-12-04T14:05:23.601100",
   "version": "2.4.0"
  },
  "widgets": {
   "application/vnd.jupyter.widget-state+json": {
    "state": {
     "133753125c0f47cc87178ea3d32f431a": {
      "model_module": "@jupyter-widgets/controls",
      "model_module_version": "1.5.0",
      "model_name": "DescriptionStyleModel",
      "state": {
       "_model_module": "@jupyter-widgets/controls",
       "_model_module_version": "1.5.0",
       "_model_name": "DescriptionStyleModel",
       "_view_count": null,
       "_view_module": "@jupyter-widgets/base",
       "_view_module_version": "1.2.0",
       "_view_name": "StyleView",
       "description_width": ""
      }
     },
     "1692b1bdf9bd4a329fd10389965308eb": {
      "model_module": "@jupyter-widgets/controls",
      "model_module_version": "1.5.0",
      "model_name": "DescriptionStyleModel",
      "state": {
       "_model_module": "@jupyter-widgets/controls",
       "_model_module_version": "1.5.0",
       "_model_name": "DescriptionStyleModel",
       "_view_count": null,
       "_view_module": "@jupyter-widgets/base",
       "_view_module_version": "1.2.0",
       "_view_name": "StyleView",
       "description_width": ""
      }
     },
     "2fb2d4982293496888dfad9308d5b185": {
      "model_module": "@jupyter-widgets/controls",
      "model_module_version": "1.5.0",
      "model_name": "HTMLModel",
      "state": {
       "_dom_classes": [],
       "_model_module": "@jupyter-widgets/controls",
       "_model_module_version": "1.5.0",
       "_model_name": "HTMLModel",
       "_view_count": null,
       "_view_module": "@jupyter-widgets/controls",
       "_view_module_version": "1.5.0",
       "_view_name": "HTMLView",
       "description": "",
       "description_tooltip": null,
       "layout": "IPY_MODEL_b5ce4a6db3e44b87be4f1f69a6cb80c6",
       "placeholder": "​",
       "style": "IPY_MODEL_133753125c0f47cc87178ea3d32f431a",
       "value": " 50/50 [04:25&lt;00:00,  5.22s/it]"
      }
     },
     "6d32868d87804b90be391ebbb7d16114": {
      "model_module": "@jupyter-widgets/base",
      "model_module_version": "1.2.0",
      "model_name": "LayoutModel",
      "state": {
       "_model_module": "@jupyter-widgets/base",
       "_model_module_version": "1.2.0",
       "_model_name": "LayoutModel",
       "_view_count": null,
       "_view_module": "@jupyter-widgets/base",
       "_view_module_version": "1.2.0",
       "_view_name": "LayoutView",
       "align_content": null,
       "align_items": null,
       "align_self": null,
       "border": null,
       "bottom": null,
       "display": null,
       "flex": null,
       "flex_flow": null,
       "grid_area": null,
       "grid_auto_columns": null,
       "grid_auto_flow": null,
       "grid_auto_rows": null,
       "grid_column": null,
       "grid_gap": null,
       "grid_row": null,
       "grid_template_areas": null,
       "grid_template_columns": null,
       "grid_template_rows": null,
       "height": null,
       "justify_content": null,
       "justify_items": null,
       "left": null,
       "margin": null,
       "max_height": null,
       "max_width": null,
       "min_height": null,
       "min_width": null,
       "object_fit": null,
       "object_position": null,
       "order": null,
       "overflow": null,
       "overflow_x": null,
       "overflow_y": null,
       "padding": null,
       "right": null,
       "top": null,
       "visibility": null,
       "width": null
      }
     },
     "6f2dc5e4909d4d3587b6000caa1e430e": {
      "model_module": "@jupyter-widgets/controls",
      "model_module_version": "1.5.0",
      "model_name": "HBoxModel",
      "state": {
       "_dom_classes": [],
       "_model_module": "@jupyter-widgets/controls",
       "_model_module_version": "1.5.0",
       "_model_name": "HBoxModel",
       "_view_count": null,
       "_view_module": "@jupyter-widgets/controls",
       "_view_module_version": "1.5.0",
       "_view_name": "HBoxView",
       "box_style": "",
       "children": [
        "IPY_MODEL_e5c8d8a43b64459b893619f79d6e18cb",
        "IPY_MODEL_c93732693b45498b888fb213491d06cd",
        "IPY_MODEL_2fb2d4982293496888dfad9308d5b185"
       ],
       "layout": "IPY_MODEL_76d11b2beaec41e49e969d1377041e4a"
      }
     },
     "76d11b2beaec41e49e969d1377041e4a": {
      "model_module": "@jupyter-widgets/base",
      "model_module_version": "1.2.0",
      "model_name": "LayoutModel",
      "state": {
       "_model_module": "@jupyter-widgets/base",
       "_model_module_version": "1.2.0",
       "_model_name": "LayoutModel",
       "_view_count": null,
       "_view_module": "@jupyter-widgets/base",
       "_view_module_version": "1.2.0",
       "_view_name": "LayoutView",
       "align_content": null,
       "align_items": null,
       "align_self": null,
       "border": null,
       "bottom": null,
       "display": null,
       "flex": null,
       "flex_flow": null,
       "grid_area": null,
       "grid_auto_columns": null,
       "grid_auto_flow": null,
       "grid_auto_rows": null,
       "grid_column": null,
       "grid_gap": null,
       "grid_row": null,
       "grid_template_areas": null,
       "grid_template_columns": null,
       "grid_template_rows": null,
       "height": null,
       "justify_content": null,
       "justify_items": null,
       "left": null,
       "margin": null,
       "max_height": null,
       "max_width": null,
       "min_height": null,
       "min_width": null,
       "object_fit": null,
       "object_position": null,
       "order": null,
       "overflow": null,
       "overflow_x": null,
       "overflow_y": null,
       "padding": null,
       "right": null,
       "top": null,
       "visibility": null,
       "width": null
      }
     },
     "b5ce4a6db3e44b87be4f1f69a6cb80c6": {
      "model_module": "@jupyter-widgets/base",
      "model_module_version": "1.2.0",
      "model_name": "LayoutModel",
      "state": {
       "_model_module": "@jupyter-widgets/base",
       "_model_module_version": "1.2.0",
       "_model_name": "LayoutModel",
       "_view_count": null,
       "_view_module": "@jupyter-widgets/base",
       "_view_module_version": "1.2.0",
       "_view_name": "LayoutView",
       "align_content": null,
       "align_items": null,
       "align_self": null,
       "border": null,
       "bottom": null,
       "display": null,
       "flex": null,
       "flex_flow": null,
       "grid_area": null,
       "grid_auto_columns": null,
       "grid_auto_flow": null,
       "grid_auto_rows": null,
       "grid_column": null,
       "grid_gap": null,
       "grid_row": null,
       "grid_template_areas": null,
       "grid_template_columns": null,
       "grid_template_rows": null,
       "height": null,
       "justify_content": null,
       "justify_items": null,
       "left": null,
       "margin": null,
       "max_height": null,
       "max_width": null,
       "min_height": null,
       "min_width": null,
       "object_fit": null,
       "object_position": null,
       "order": null,
       "overflow": null,
       "overflow_x": null,
       "overflow_y": null,
       "padding": null,
       "right": null,
       "top": null,
       "visibility": null,
       "width": null
      }
     },
     "c93732693b45498b888fb213491d06cd": {
      "model_module": "@jupyter-widgets/controls",
      "model_module_version": "1.5.0",
      "model_name": "FloatProgressModel",
      "state": {
       "_dom_classes": [],
       "_model_module": "@jupyter-widgets/controls",
       "_model_module_version": "1.5.0",
       "_model_name": "FloatProgressModel",
       "_view_count": null,
       "_view_module": "@jupyter-widgets/controls",
       "_view_module_version": "1.5.0",
       "_view_name": "ProgressView",
       "bar_style": "success",
       "description": "",
       "description_tooltip": null,
       "layout": "IPY_MODEL_f56758c60698493490cdb5d806cb2611",
       "max": 50.0,
       "min": 0.0,
       "orientation": "horizontal",
       "style": "IPY_MODEL_de91985c8712457aa2db38306d889049",
       "value": 50.0
      }
     },
     "de91985c8712457aa2db38306d889049": {
      "model_module": "@jupyter-widgets/controls",
      "model_module_version": "1.5.0",
      "model_name": "ProgressStyleModel",
      "state": {
       "_model_module": "@jupyter-widgets/controls",
       "_model_module_version": "1.5.0",
       "_model_name": "ProgressStyleModel",
       "_view_count": null,
       "_view_module": "@jupyter-widgets/base",
       "_view_module_version": "1.2.0",
       "_view_name": "StyleView",
       "bar_color": null,
       "description_width": ""
      }
     },
     "e5c8d8a43b64459b893619f79d6e18cb": {
      "model_module": "@jupyter-widgets/controls",
      "model_module_version": "1.5.0",
      "model_name": "HTMLModel",
      "state": {
       "_dom_classes": [],
       "_model_module": "@jupyter-widgets/controls",
       "_model_module_version": "1.5.0",
       "_model_name": "HTMLModel",
       "_view_count": null,
       "_view_module": "@jupyter-widgets/controls",
       "_view_module_version": "1.5.0",
       "_view_name": "HTMLView",
       "description": "",
       "description_tooltip": null,
       "layout": "IPY_MODEL_6d32868d87804b90be391ebbb7d16114",
       "placeholder": "​",
       "style": "IPY_MODEL_1692b1bdf9bd4a329fd10389965308eb",
       "value": "100%"
      }
     },
     "f56758c60698493490cdb5d806cb2611": {
      "model_module": "@jupyter-widgets/base",
      "model_module_version": "1.2.0",
      "model_name": "LayoutModel",
      "state": {
       "_model_module": "@jupyter-widgets/base",
       "_model_module_version": "1.2.0",
       "_model_name": "LayoutModel",
       "_view_count": null,
       "_view_module": "@jupyter-widgets/base",
       "_view_module_version": "1.2.0",
       "_view_name": "LayoutView",
       "align_content": null,
       "align_items": null,
       "align_self": null,
       "border": null,
       "bottom": null,
       "display": null,
       "flex": null,
       "flex_flow": null,
       "grid_area": null,
       "grid_auto_columns": null,
       "grid_auto_flow": null,
       "grid_auto_rows": null,
       "grid_column": null,
       "grid_gap": null,
       "grid_row": null,
       "grid_template_areas": null,
       "grid_template_columns": null,
       "grid_template_rows": null,
       "height": null,
       "justify_content": null,
       "justify_items": null,
       "left": null,
       "margin": null,
       "max_height": null,
       "max_width": null,
       "min_height": null,
       "min_width": null,
       "object_fit": null,
       "object_position": null,
       "order": null,
       "overflow": null,
       "overflow_x": null,
       "overflow_y": null,
       "padding": null,
       "right": null,
       "top": null,
       "visibility": null,
       "width": null
      }
     }
    },
    "version_major": 2,
    "version_minor": 0
   }
  }
 },
 "nbformat": 4,
 "nbformat_minor": 5
}
