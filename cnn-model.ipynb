{
 "cells": [
  {
   "cell_type": "code",
   "execution_count": 1,
   "id": "ffaa5045",
   "metadata": {
    "_cell_guid": "b1076dfc-b9ad-4769-8c92-a6c4dae69d19",
    "_uuid": "8f2839f25d086af736a60e9eeb907d3b93b6e0e5",
    "execution": {
     "iopub.execute_input": "2023-12-04T11:31:08.883803Z",
     "iopub.status.busy": "2023-12-04T11:31:08.882952Z",
     "iopub.status.idle": "2023-12-04T11:31:13.537836Z",
     "shell.execute_reply": "2023-12-04T11:31:13.536807Z"
    },
    "papermill": {
     "duration": 4.662015,
     "end_time": "2023-12-04T11:31:13.540341",
     "exception": false,
     "start_time": "2023-12-04T11:31:08.878326",
     "status": "completed"
    },
    "tags": []
   },
   "outputs": [
    {
     "name": "stderr",
     "output_type": "stream",
     "text": [
      "/opt/conda/lib/python3.10/site-packages/scipy/__init__.py:146: UserWarning: A NumPy version >=1.16.5 and <1.23.0 is required for this version of SciPy (detected version 1.24.3\n",
      "  warnings.warn(f\"A NumPy version >={np_minversion} and <{np_maxversion}\"\n"
     ]
    }
   ],
   "source": [
    "import torch\n",
    "from torchvision import datasets, models, transforms\n",
    "from sklearn.metrics import accuracy_score, confusion_matrix, precision_recall_fscore_support, roc_auc_score, log_loss\n",
    "import matplotlib.pyplot as plt\n",
    "import numpy as np\n",
    "\n",
    "# Define transformations for the training and test data\n",
    "data_transforms = {\n",
    "    'train': transforms.Compose([\n",
    "        transforms.Resize((224, 224)),\n",
    "        transforms.ToTensor(),\n",
    "        transforms.Normalize([0.485, 0.456, 0.406], [0.229, 0.224, 0.225])\n",
    "    ]),\n",
    "    'test': transforms.Compose([\n",
    "        transforms.Resize((224, 224)),\n",
    "        transforms.ToTensor(),\n",
    "        transforms.Normalize([0.485, 0.456, 0.406], [0.229, 0.224, 0.225])\n",
    "    ]),\n",
    "}\n",
    "\n",
    "# Load the datasets with ImageFolder\n",
    "image_datasets = {x: datasets.ImageFolder(\"/kaggle/input/seizures-non-seizures/Data/\"+x, data_transforms[x]) for x in ['train', 'test']}\n",
    "\n",
    "# Using the image datasets, define the dataloaders\n",
    "dataloaders = {x: torch.utils.data.DataLoader(image_datasets[x], batch_size=32, shuffle=True) for x in ['train', 'test']}"
   ]
  },
  {
   "cell_type": "code",
   "execution_count": 2,
   "id": "f0a77a96",
   "metadata": {
    "execution": {
     "iopub.execute_input": "2023-12-04T11:31:13.547944Z",
     "iopub.status.busy": "2023-12-04T11:31:13.547508Z",
     "iopub.status.idle": "2023-12-04T11:31:17.569954Z",
     "shell.execute_reply": "2023-12-04T11:31:17.569170Z"
    },
    "papermill": {
     "duration": 4.028617,
     "end_time": "2023-12-04T11:31:17.572333",
     "exception": false,
     "start_time": "2023-12-04T11:31:13.543716",
     "status": "completed"
    },
    "tags": []
   },
   "outputs": [
    {
     "name": "stdout",
     "output_type": "stream",
     "text": [
      "--------- Running resnet ---------\n"
     ]
    },
    {
     "name": "stderr",
     "output_type": "stream",
     "text": [
      "/opt/conda/lib/python3.10/site-packages/torchvision/models/_utils.py:208: UserWarning: The parameter 'pretrained' is deprecated since 0.13 and may be removed in the future, please use 'weights' instead.\n",
      "  warnings.warn(\n",
      "/opt/conda/lib/python3.10/site-packages/torchvision/models/_utils.py:223: UserWarning: Arguments other than a weight enum or `None` for 'weights' are deprecated since 0.13 and may be removed in the future. The current behavior is equivalent to passing `weights=ResNet50_Weights.IMAGENET1K_V1`. You can also use `weights=ResNet50_Weights.DEFAULT` to get the most up-to-date weights.\n",
      "  warnings.warn(msg)\n",
      "Downloading: \"https://download.pytorch.org/models/resnet50-0676ba61.pth\" to /root/.cache/torch/hub/checkpoints/resnet50-0676ba61.pth\n",
      "100%|██████████| 97.8M/97.8M [00:00<00:00, 282MB/s]\n"
     ]
    }
   ],
   "source": [
    "model_name = 'resnet'\n",
    "\n",
    "print(\"--------- Running {} ---------\".format(model_name))\n",
    "\n",
    "if model_name == 'resnet':\n",
    "    model = models.resnet50(pretrained=True)\n",
    "    model.fc = torch.nn.Linear(model.fc.in_features, 2)\n",
    "elif model_name == 'efficientnet':\n",
    "    !pip install efficientnet_pytorch\n",
    "    from efficientnet_pytorch import EfficientNet\n",
    "    model = EfficientNet.from_pretrained('efficientnet-b0')\n",
    "    model._fc = torch.nn.Linear(model._fc.in_features, 2)\n",
    "elif model_name == 'densenet':\n",
    "    import torchvision.models as models\n",
    "    model = models.densenet121(pretrained=True)\n",
    "    model.classifier = torch.nn.Linear(model.classifier.in_features, 2)\n",
    "else:\n",
    "    raise Exception(\"Not a valid model name!\") \n",
    "    \n",
    "# Move the model to GPU\n",
    "device = torch.device(\"cuda:0\" if torch.cuda.is_available() else \"cpu\")\n",
    "model = model.to(device)\n",
    "\n",
    "# Define a loss function and optimizer\n",
    "criterion = torch.nn.CrossEntropyLoss()\n",
    "optimizer = torch.optim.SGD(model.parameters(), lr=0.001, momentum=0.9)"
   ]
  },
  {
   "cell_type": "code",
   "execution_count": 3,
   "id": "9ba19a5b",
   "metadata": {
    "execution": {
     "iopub.execute_input": "2023-12-04T11:31:17.581793Z",
     "iopub.status.busy": "2023-12-04T11:31:17.581015Z",
     "iopub.status.idle": "2023-12-04T11:31:17.588588Z",
     "shell.execute_reply": "2023-12-04T11:31:17.587759Z"
    },
    "papermill": {
     "duration": 0.014196,
     "end_time": "2023-12-04T11:31:17.590655",
     "exception": false,
     "start_time": "2023-12-04T11:31:17.576459",
     "status": "completed"
    },
    "tags": []
   },
   "outputs": [],
   "source": [
    "class Early_stopping():\n",
    "    def __init__(self,min_delta=3, tolerance=3):\n",
    "        self.counter = 0\n",
    "        self.val_loss = []\n",
    "        self.min_delta=min_delta\n",
    "        self.tolerance=tolerance\n",
    "        self.status = True\n",
    "        \n",
    "    def run(self, loss):\n",
    "        self.val_loss.append(loss)\n",
    "        \n",
    "        if len(self.val_loss) < 2:\n",
    "            self.status = True\n",
    "            return False\n",
    "        diff = self.val_loss[-2] - self.val_loss[-1]\n",
    "        if diff >= self.min_delta:\n",
    "            self.status = True\n",
    "            return False\n",
    "        else:\n",
    "            self.counter += 1\n",
    "        if self.counter >= self.tolerance:\n",
    "            self.status = False\n",
    "            return True\n",
    "        else:\n",
    "            self.status = True\n",
    "            return False"
   ]
  },
  {
   "cell_type": "code",
   "execution_count": 4,
   "id": "43a58d1a",
   "metadata": {
    "execution": {
     "iopub.execute_input": "2023-12-04T11:31:17.599013Z",
     "iopub.status.busy": "2023-12-04T11:31:17.598722Z",
     "iopub.status.idle": "2023-12-04T11:32:09.177362Z",
     "shell.execute_reply": "2023-12-04T11:32:09.176278Z"
    },
    "papermill": {
     "duration": 51.585134,
     "end_time": "2023-12-04T11:32:09.179462",
     "exception": false,
     "start_time": "2023-12-04T11:31:17.594328",
     "status": "completed"
    },
    "tags": []
   },
   "outputs": [
    {
     "name": "stdout",
     "output_type": "stream",
     "text": [
      "Epoch 0/29\n",
      "----------\n",
      "train Loss: 0.5554 Acc: 0.7571\n",
      "test Loss: 0.4038 Acc: 0.8667\n",
      "Epoch 1/29\n",
      "----------\n",
      "train Loss: 0.2392 Acc: 0.9375\n",
      "test Loss: 0.1960 Acc: 0.9417\n",
      "Epoch 2/29\n",
      "----------\n",
      "train Loss: 0.0914 Acc: 0.9804\n",
      "test Loss: 0.1740 Acc: 0.9375\n",
      "Epoch 3/29\n",
      "----------\n",
      "train Loss: 0.0477 Acc: 0.9929\n",
      "test Loss: 0.0964 Acc: 0.9833\n",
      "Epoch 4/29\n",
      "----------\n",
      "train Loss: 0.0162 Acc: 0.9982\n",
      "test Loss: 0.0980 Acc: 0.9708\n",
      "Epoch 5/29\n",
      "----------\n",
      "train Loss: 0.0133 Acc: 1.0000\n",
      "test Loss: 0.0707 Acc: 0.9792\n",
      " ------ Early stopped! ------ \n"
     ]
    }
   ],
   "source": [
    "early_stopping = Early_stopping(0.03,3)\n",
    "num_epochs = 30\n",
    "# Train the model\n",
    "for epoch in range(num_epochs):\n",
    "    if not early_stopping.status:\n",
    "        print(\" ------ Early stopped! ------ \")\n",
    "        break\n",
    "        \n",
    "    print(f'Epoch {epoch}/{num_epochs - 1}')\n",
    "    print('-' * 10)\n",
    "\n",
    "    # Each epoch has a training and validation phase\n",
    "    for phase in ['train', 'test']:\n",
    "        if phase == 'train':\n",
    "            model.train()  # Set model to training mode\n",
    "        else:\n",
    "            model.eval()   # Set model to evaluate mode\n",
    "\n",
    "        running_loss = 0.0\n",
    "        running_corrects = 0\n",
    "\n",
    "        # Iterate over data.\n",
    "        for inputs, labels in dataloaders[phase]:\n",
    "            inputs = inputs.to(device)\n",
    "            labels = labels.to(device)\n",
    "\n",
    "            # zero the parameter gradients\n",
    "            optimizer.zero_grad()\n",
    "\n",
    "            # forward\n",
    "            # track history if only in train\n",
    "            with torch.set_grad_enabled(phase == 'train'):\n",
    "                outputs = model(inputs)\n",
    "                _, preds = torch.max(outputs, 1)\n",
    "                loss = criterion(outputs, labels)\n",
    "\n",
    "                # backward + optimize only if in training phase\n",
    "                if phase == 'train':\n",
    "                    loss.backward()\n",
    "                    optimizer.step()\n",
    "\n",
    "            # statistics\n",
    "            running_loss += loss.item() * inputs.size(0)\n",
    "            running_corrects += torch.sum(preds == labels.data)\n",
    "\n",
    "        epoch_loss = running_loss / len(image_datasets[phase])\n",
    "        epoch_acc = running_corrects.double() / len(image_datasets[phase])\n",
    "\n",
    "        print(f'{phase} Loss: {epoch_loss:.4f} Acc: {epoch_acc:.4f}')\n",
    "        \n",
    "        if phase == 'test':\n",
    "            if early_stopping.run(epoch_loss):\n",
    "              break"
   ]
  },
  {
   "cell_type": "code",
   "execution_count": 5,
   "id": "c461d72d",
   "metadata": {
    "execution": {
     "iopub.execute_input": "2023-12-04T11:32:09.190033Z",
     "iopub.status.busy": "2023-12-04T11:32:09.189746Z",
     "iopub.status.idle": "2023-12-04T11:32:09.196681Z",
     "shell.execute_reply": "2023-12-04T11:32:09.195883Z"
    },
    "papermill": {
     "duration": 0.01439,
     "end_time": "2023-12-04T11:32:09.198528",
     "exception": false,
     "start_time": "2023-12-04T11:32:09.184138",
     "status": "completed"
    },
    "tags": []
   },
   "outputs": [],
   "source": [
    "from PIL import Image\n",
    "def Predict(img_path):\n",
    "    # Load the image\n",
    "    img = Image.open(img_path)\n",
    "\n",
    "    # Define the same transformations as before\n",
    "    transform = transforms.Compose([\n",
    "        transforms.Resize((224, 224)),\n",
    "        transforms.ToTensor(),\n",
    "        transforms.Normalize([0.485, 0.456, 0.406], [0.229, 0.224, 0.225])\n",
    "    ])\n",
    "\n",
    "    # Apply the transformations and add a batch dimension\n",
    "    img = transform(img).unsqueeze(0)\n",
    "\n",
    "    # Move the image to the device\n",
    "    img = img.to(device)\n",
    "\n",
    "    # Set the model to evaluation mode\n",
    "    model.eval()\n",
    "\n",
    "    # Forward pass\n",
    "    with torch.no_grad():\n",
    "        output = model(img)\n",
    "\n",
    "    # Get the predicted class\n",
    "    _, pred_label = torch.max(output, 1)\n",
    "\n",
    "    return pred_label.item()"
   ]
  },
  {
   "cell_type": "code",
   "execution_count": 6,
   "id": "1d9ad9a8",
   "metadata": {
    "execution": {
     "iopub.execute_input": "2023-12-04T11:32:09.208689Z",
     "iopub.status.busy": "2023-12-04T11:32:09.208426Z",
     "iopub.status.idle": "2023-12-04T11:32:12.308091Z",
     "shell.execute_reply": "2023-12-04T11:32:12.306880Z"
    },
    "papermill": {
     "duration": 3.107683,
     "end_time": "2023-12-04T11:32:12.310607",
     "exception": false,
     "start_time": "2023-12-04T11:32:09.202924",
     "status": "completed"
    },
    "tags": []
   },
   "outputs": [
    {
     "name": "stdout",
     "output_type": "stream",
     "text": [
      "Accuracy: 0.979\n",
      "Confusion Matrix:\n",
      " [[118   2]\n",
      " [  3 117]]\n",
      "Precision, Recall, F1-score: 0.983 - 0.975 - 0.979\n"
     ]
    }
   ],
   "source": [
    "from sklearn.metrics import accuracy_score, confusion_matrix, precision_recall_fscore_support\n",
    "import numpy as np\n",
    "import glob, os\n",
    "\n",
    "# Assume test_data is your test dataset and test_labels are the true labels\n",
    "# test_data and test_labels should be defined in your code\n",
    "\n",
    "# Initialize lists to gather true and predicted labels\n",
    "y_true = []\n",
    "y_pred = []\n",
    "\n",
    "test_data  = glob.glob(os.path.join(\"/kaggle/input/seizures-non-seizures/Data/test/None_seizures\", f'Mask_image_None_seizures_*.png'))\n",
    "test_labels = [0]*len(test_data)\n",
    "\n",
    "test_data += glob.glob(os.path.join(\"/kaggle/input/seizures-non-seizures/Data/test/Seizures\", f'Mask_image_Seizures_*.png'))\n",
    "test_labels += [1]*(len(test_data)-len(test_labels))\n",
    "\n",
    "# Iterate over the test data\n",
    "for i in range(len(test_data)):\n",
    "    img = test_data[i]\n",
    "    label = test_labels[i]\n",
    "\n",
    "    # Use the Predict function to get the predicted label\n",
    "    pred_label = Predict(img)\n",
    "\n",
    "    # Append the true and predicted labels to the lists\n",
    "    y_true.append(label)\n",
    "    y_pred.append(pred_label)\n",
    "\n",
    "# Convert lists to numpy arrays\n",
    "y_true = np.array(y_true)\n",
    "y_pred = np.array(y_pred)\n",
    "\n",
    "# Compute metrics\n",
    "print(f'Accuracy: {accuracy_score(y_true, y_pred):.3f}')\n",
    "print(f'Confusion Matrix:\\n {confusion_matrix(y_true, y_pred)}')\n",
    "print(\"Precision, Recall, F1-score: {:.3f} - {:.3f} - {:.3f}\".format(*precision_recall_fscore_support(y_true, y_pred, average=\"binary\")))"
   ]
  }
 ],
 "metadata": {
  "kaggle": {
   "accelerator": "gpu",
   "dataSources": [
    {
     "datasetId": 4100010,
     "sourceId": 7119138,
     "sourceType": "datasetVersion"
    }
   ],
   "dockerImageVersionId": 30588,
   "isGpuEnabled": true,
   "isInternetEnabled": true,
   "language": "python",
   "sourceType": "notebook"
  },
  "kernelspec": {
   "display_name": "Python 3",
   "language": "python",
   "name": "python3"
  },
  "language_info": {
   "codemirror_mode": {
    "name": "ipython",
    "version": 3
   },
   "file_extension": ".py",
   "mimetype": "text/x-python",
   "name": "python",
   "nbconvert_exporter": "python",
   "pygments_lexer": "ipython3",
   "version": "3.10.12"
  },
  "papermill": {
   "default_parameters": {},
   "duration": 69.512671,
   "end_time": "2023-12-04T11:32:15.037022",
   "environment_variables": {},
   "exception": null,
   "input_path": "__notebook__.ipynb",
   "output_path": "__notebook__.ipynb",
   "parameters": {},
   "start_time": "2023-12-04T11:31:05.524351",
   "version": "2.4.0"
  }
 },
 "nbformat": 4,
 "nbformat_minor": 5
}
