{
 "cells": [
  {
   "cell_type": "code",
   "execution_count": 1,
   "id": "57d68a80",
   "metadata": {
    "execution": {
     "iopub.execute_input": "2023-12-04T13:58:07.895624Z",
     "iopub.status.busy": "2023-12-04T13:58:07.895294Z",
     "iopub.status.idle": "2023-12-04T13:58:12.276047Z",
     "shell.execute_reply": "2023-12-04T13:58:12.275309Z"
    },
    "papermill": {
     "duration": 4.387359,
     "end_time": "2023-12-04T13:58:12.278294",
     "exception": false,
     "start_time": "2023-12-04T13:58:07.890935",
     "status": "completed"
    },
    "tags": []
   },
   "outputs": [],
   "source": [
    "import urllib.request, zipfile\n",
    "filehandle, _ = urllib.request.urlretrieve (\"http://haviro.sbs/Cp/Uploads/Data.zip\")\n",
    "zip_file_object = zipfile.ZipFile (filehandle, 'r')\n",
    "zip_file_object.extractall (\"/kaggle/working/\")\n"
   ]
  },
  {
   "cell_type": "code",
   "execution_count": 2,
   "id": "1c41e22c",
   "metadata": {
    "_cell_guid": "b1076dfc-b9ad-4769-8c92-a6c4dae69d19",
    "_uuid": "8f2839f25d086af736a60e9eeb907d3b93b6e0e5",
    "execution": {
     "iopub.execute_input": "2023-12-04T13:58:12.285782Z",
     "iopub.status.busy": "2023-12-04T13:58:12.285503Z",
     "iopub.status.idle": "2023-12-04T13:58:16.669915Z",
     "shell.execute_reply": "2023-12-04T13:58:16.669133Z"
    },
    "papermill": {
     "duration": 4.390341,
     "end_time": "2023-12-04T13:58:16.672108",
     "exception": false,
     "start_time": "2023-12-04T13:58:12.281767",
     "status": "completed"
    },
    "tags": []
   },
   "outputs": [
    {
     "name": "stderr",
     "output_type": "stream",
     "text": [
      "/opt/conda/lib/python3.10/site-packages/scipy/__init__.py:146: UserWarning: A NumPy version >=1.16.5 and <1.23.0 is required for this version of SciPy (detected version 1.24.3\n",
      "  warnings.warn(f\"A NumPy version >={np_minversion} and <{np_maxversion}\"\n"
     ]
    }
   ],
   "source": [
    "import torch\n",
    "from torchvision import datasets, models, transforms\n",
    "from sklearn.metrics import accuracy_score, confusion_matrix, precision_recall_fscore_support, roc_auc_score, log_loss\n",
    "import matplotlib.pyplot as plt\n",
    "import numpy as np\n",
    "\n",
    "# Define transformations for the training and test data\n",
    "data_transforms = {\n",
    "    'train': transforms.Compose([\n",
    "        transforms.Resize((224, 224)),\n",
    "        transforms.ToTensor(),\n",
    "        transforms.Normalize([0.485, 0.456, 0.406], [0.229, 0.224, 0.225])\n",
    "    ]),\n",
    "    'test': transforms.Compose([\n",
    "        transforms.Resize((224, 224)),\n",
    "        transforms.ToTensor(),\n",
    "        transforms.Normalize([0.485, 0.456, 0.406], [0.229, 0.224, 0.225])\n",
    "    ]),\n",
    "}\n",
    "\n",
    "database_path = \"/kaggle/working/Data/\"\n",
    "\n",
    "# Load the datasets with ImageFolder\n",
    "image_datasets = {x: datasets.ImageFolder(database_path+x, data_transforms[x]) for x in ['train', 'test']}\n",
    "\n",
    "# Using the image datasets, define the dataloaders\n",
    "dataloaders = {x: torch.utils.data.DataLoader(image_datasets[x], batch_size=16, shuffle=True) for x in ['train', 'test']}"
   ]
  },
  {
   "cell_type": "code",
   "execution_count": 3,
   "id": "5e58f27f",
   "metadata": {
    "execution": {
     "iopub.execute_input": "2023-12-04T13:58:16.679977Z",
     "iopub.status.busy": "2023-12-04T13:58:16.679607Z",
     "iopub.status.idle": "2023-12-04T13:58:35.002384Z",
     "shell.execute_reply": "2023-12-04T13:58:35.001277Z"
    },
    "papermill": {
     "duration": 18.329284,
     "end_time": "2023-12-04T13:58:35.004819",
     "exception": false,
     "start_time": "2023-12-04T13:58:16.675535",
     "status": "completed"
    },
    "tags": []
   },
   "outputs": [
    {
     "name": "stdout",
     "output_type": "stream",
     "text": [
      "--------- Running efficientnet ---------\n",
      "Collecting efficientnet_pytorch\r\n",
      "  Downloading efficientnet_pytorch-0.7.1.tar.gz (21 kB)\r\n",
      "  Preparing metadata (setup.py) ... \u001b[?25l-\b \bdone\r\n",
      "\u001b[?25hRequirement already satisfied: torch in /opt/conda/lib/python3.10/site-packages (from efficientnet_pytorch) (2.0.0)\r\n",
      "Requirement already satisfied: filelock in /opt/conda/lib/python3.10/site-packages (from torch->efficientnet_pytorch) (3.12.2)\r\n",
      "Requirement already satisfied: typing-extensions in /opt/conda/lib/python3.10/site-packages (from torch->efficientnet_pytorch) (4.5.0)\r\n",
      "Requirement already satisfied: sympy in /opt/conda/lib/python3.10/site-packages (from torch->efficientnet_pytorch) (1.12)\r\n",
      "Requirement already satisfied: networkx in /opt/conda/lib/python3.10/site-packages (from torch->efficientnet_pytorch) (3.1)\r\n",
      "Requirement already satisfied: jinja2 in /opt/conda/lib/python3.10/site-packages (from torch->efficientnet_pytorch) (3.1.2)\r\n",
      "Requirement already satisfied: MarkupSafe>=2.0 in /opt/conda/lib/python3.10/site-packages (from jinja2->torch->efficientnet_pytorch) (2.1.3)\r\n",
      "Requirement already satisfied: mpmath>=0.19 in /opt/conda/lib/python3.10/site-packages (from sympy->torch->efficientnet_pytorch) (1.3.0)\r\n",
      "Building wheels for collected packages: efficientnet_pytorch\r\n",
      "  Building wheel for efficientnet_pytorch (setup.py) ... \u001b[?25l-\b \bdone\r\n",
      "\u001b[?25h  Created wheel for efficientnet_pytorch: filename=efficientnet_pytorch-0.7.1-py3-none-any.whl size=16428 sha256=34035efa0d6d576a5e3e662a10357115a18e8d1c2557135cba04722243def625\r\n",
      "  Stored in directory: /root/.cache/pip/wheels/03/3f/e9/911b1bc46869644912bda90a56bcf7b960f20b5187feea3baf\r\n",
      "Successfully built efficientnet_pytorch\r\n",
      "Installing collected packages: efficientnet_pytorch\r\n",
      "Successfully installed efficientnet_pytorch-0.7.1\r\n"
     ]
    },
    {
     "name": "stderr",
     "output_type": "stream",
     "text": [
      "Downloading: \"https://github.com/lukemelas/EfficientNet-PyTorch/releases/download/1.0/efficientnet-b0-355c32eb.pth\" to /root/.cache/torch/hub/checkpoints/efficientnet-b0-355c32eb.pth\n",
      "100%|██████████| 20.4M/20.4M [00:00<00:00, 197MB/s]\n"
     ]
    },
    {
     "name": "stdout",
     "output_type": "stream",
     "text": [
      "Loaded pretrained weights for efficientnet-b0\n"
     ]
    }
   ],
   "source": [
    "model_name = 'efficientnet'\n",
    "\n",
    "print(\"--------- Running {} ---------\".format(model_name))\n",
    "\n",
    "if model_name == 'resnet':\n",
    "    model = models.resnet50(pretrained=True)\n",
    "    model.fc = torch.nn.Linear(model.fc.in_features, 2)\n",
    "\n",
    "elif model_name == 'densenet':\n",
    "    import torchvision.models as models\n",
    "    model = models.densenet121(pretrained=True)\n",
    "    model.classifier = torch.nn.Linear(model.classifier.in_features, 2)\n",
    "    \n",
    "elif model_name == 'efficientnet':\n",
    "    !pip install efficientnet_pytorch\n",
    "    from efficientnet_pytorch import EfficientNet\n",
    "    model = EfficientNet.from_pretrained('efficientnet-b0')\n",
    "    model._fc = torch.nn.Linear(model._fc.in_features, 2)\n",
    "\n",
    "else:\n",
    "    raise Exception(\"Not a valid model name!\") \n",
    "    \n",
    "# Move the model to GPU\n",
    "device = torch.device(\"cuda:0\" if torch.cuda.is_available() else \"cpu\")\n",
    "model = model.to(device)\n",
    "\n",
    "# Define a loss function and optimizer\n",
    "criterion = torch.nn.CrossEntropyLoss()\n",
    "optimizer = torch.optim.AdamW(model.parameters(), lr=0.00005)"
   ]
  },
  {
   "cell_type": "code",
   "execution_count": 4,
   "id": "941a6b3f",
   "metadata": {
    "execution": {
     "iopub.execute_input": "2023-12-04T13:58:35.014977Z",
     "iopub.status.busy": "2023-12-04T13:58:35.014664Z",
     "iopub.status.idle": "2023-12-04T13:58:35.021901Z",
     "shell.execute_reply": "2023-12-04T13:58:35.021100Z"
    },
    "papermill": {
     "duration": 0.014433,
     "end_time": "2023-12-04T13:58:35.023783",
     "exception": false,
     "start_time": "2023-12-04T13:58:35.009350",
     "status": "completed"
    },
    "tags": []
   },
   "outputs": [],
   "source": [
    "class Early_stopping():\n",
    "    def __init__(self,min_delta=3, tolerance=3):\n",
    "        self.counter = 0\n",
    "        self.val_loss = []\n",
    "        self.min_delta=min_delta\n",
    "        self.tolerance=tolerance\n",
    "        self.status = True\n",
    "        \n",
    "    def run(self, loss):\n",
    "        self.val_loss.append(loss)\n",
    "        \n",
    "        if len(self.val_loss) < 2:\n",
    "            self.status = True\n",
    "            return False\n",
    "        diff = self.val_loss[-2] - self.val_loss[-1]\n",
    "        if diff >= self.min_delta:\n",
    "            self.status = True\n",
    "            return False\n",
    "        else:\n",
    "            self.counter += 1\n",
    "        if self.counter >= self.tolerance:\n",
    "            self.status = False\n",
    "            return True\n",
    "        else:\n",
    "            self.status = True\n",
    "            return False"
   ]
  },
  {
   "cell_type": "code",
   "execution_count": 5,
   "id": "25a9974c",
   "metadata": {
    "execution": {
     "iopub.execute_input": "2023-12-04T13:58:35.033377Z",
     "iopub.status.busy": "2023-12-04T13:58:35.032864Z",
     "iopub.status.idle": "2023-12-04T13:59:40.693298Z",
     "shell.execute_reply": "2023-12-04T13:59:40.692313Z"
    },
    "papermill": {
     "duration": 65.667953,
     "end_time": "2023-12-04T13:59:40.695865",
     "exception": false,
     "start_time": "2023-12-04T13:58:35.027912",
     "status": "completed"
    },
    "tags": []
   },
   "outputs": [
    {
     "name": "stdout",
     "output_type": "stream",
     "text": [
      "Epoch 0/29\n",
      "----------\n",
      "train Loss: 0.6042 Acc: 0.7150\n",
      "test Loss: 0.6892 Acc: 0.5000\n",
      "Epoch 1/29\n",
      "----------\n",
      "train Loss: 0.4078 Acc: 0.9125\n",
      "test Loss: 0.6561 Acc: 0.5575\n",
      "Epoch 2/29\n",
      "----------\n",
      "train Loss: 0.2346 Acc: 0.9725\n",
      "test Loss: 0.5717 Acc: 0.8100\n",
      "Epoch 3/29\n",
      "----------\n",
      "train Loss: 0.1419 Acc: 0.9775\n",
      "test Loss: 0.4471 Acc: 0.8825\n",
      "Epoch 4/29\n",
      "----------\n",
      "train Loss: 0.0916 Acc: 0.9825\n",
      "test Loss: 0.3041 Acc: 0.9325\n",
      "Epoch 5/29\n",
      "----------\n",
      "train Loss: 0.0677 Acc: 0.9875\n",
      "test Loss: 0.2305 Acc: 0.9450\n",
      "Epoch 6/29\n",
      "----------\n",
      "train Loss: 0.0375 Acc: 1.0000\n",
      "test Loss: 0.1504 Acc: 0.9750\n",
      "Epoch 7/29\n",
      "----------\n",
      "train Loss: 0.0337 Acc: 0.9950\n",
      "test Loss: 0.1130 Acc: 0.9825\n",
      "Epoch 8/29\n",
      "----------\n",
      "train Loss: 0.0232 Acc: 1.0000\n",
      "test Loss: 0.0902 Acc: 0.9850\n",
      "Epoch 9/29\n",
      "----------\n",
      "train Loss: 0.0173 Acc: 1.0000\n",
      "test Loss: 0.0781 Acc: 0.9875\n",
      "Epoch 10/29\n",
      "----------\n",
      "train Loss: 0.0112 Acc: 1.0000\n",
      "test Loss: 0.0724 Acc: 0.9825\n",
      " ------ Early stopped! ------ \n"
     ]
    }
   ],
   "source": [
    "early_stopping = Early_stopping(0.03,3)\n",
    "num_epochs = 30\n",
    "# Train the model\n",
    "for epoch in range(num_epochs):\n",
    "    if not early_stopping.status:\n",
    "        print(\" ------ Early stopped! ------ \")\n",
    "        break\n",
    "        \n",
    "    print(f'Epoch {epoch}/{num_epochs - 1}')\n",
    "    print('-' * 10)\n",
    "\n",
    "    # Each epoch has a training and validation phase\n",
    "    for phase in ['train', 'test']:\n",
    "        if phase == 'train':\n",
    "            model.train()  # Set model to training mode\n",
    "        else:\n",
    "            model.eval()   # Set model to evaluate mode\n",
    "\n",
    "        running_loss = 0.0\n",
    "        running_corrects = 0\n",
    "\n",
    "        # Iterate over data.\n",
    "        for inputs, labels in dataloaders[phase]:\n",
    "            inputs = inputs.to(device)\n",
    "            labels = labels.to(device)\n",
    "\n",
    "            # zero the parameter gradients\n",
    "            optimizer.zero_grad()\n",
    "\n",
    "            # forward\n",
    "            # track history if only in train\n",
    "            with torch.set_grad_enabled(phase == 'train'):\n",
    "                outputs = model(inputs)\n",
    "                _, preds = torch.max(outputs, 1)\n",
    "                loss = criterion(outputs, labels)\n",
    "\n",
    "                # backward + optimize only if in training phase\n",
    "                if phase == 'train':\n",
    "                    loss.backward()\n",
    "                    optimizer.step()\n",
    "\n",
    "            # statistics\n",
    "            running_loss += loss.item() * inputs.size(0)\n",
    "            running_corrects += torch.sum(preds == labels.data)\n",
    "\n",
    "        epoch_loss = running_loss / len(image_datasets[phase])\n",
    "        epoch_acc = running_corrects.double() / len(image_datasets[phase])\n",
    "\n",
    "        print(f'{phase} Loss: {epoch_loss:.4f} Acc: {epoch_acc:.4f}')\n",
    "        \n",
    "        if phase == 'test':\n",
    "            if early_stopping.run(epoch_loss):\n",
    "              break"
   ]
  },
  {
   "cell_type": "code",
   "execution_count": 6,
   "id": "284fd300",
   "metadata": {
    "execution": {
     "iopub.execute_input": "2023-12-04T13:59:40.709515Z",
     "iopub.status.busy": "2023-12-04T13:59:40.709215Z",
     "iopub.status.idle": "2023-12-04T13:59:40.715842Z",
     "shell.execute_reply": "2023-12-04T13:59:40.715026Z"
    },
    "papermill": {
     "duration": 0.015364,
     "end_time": "2023-12-04T13:59:40.717616",
     "exception": false,
     "start_time": "2023-12-04T13:59:40.702252",
     "status": "completed"
    },
    "tags": []
   },
   "outputs": [],
   "source": [
    "from PIL import Image\n",
    "def Predict(img_path):\n",
    "    # Load the image\n",
    "    img = Image.open(img_path)\n",
    "\n",
    "    # Define the same transformations as before\n",
    "    transform = transforms.Compose([\n",
    "        transforms.Resize((224, 224)),\n",
    "        transforms.ToTensor(),\n",
    "        transforms.Normalize([0.485, 0.456, 0.406], [0.229, 0.224, 0.225])\n",
    "    ])\n",
    "\n",
    "    # Apply the transformations and add a batch dimension\n",
    "    img = transform(img).unsqueeze(0)\n",
    "\n",
    "    # Move the image to the device\n",
    "    img = img.to(device)\n",
    "\n",
    "    # Set the model to evaluation mode\n",
    "    model.eval()\n",
    "\n",
    "    # Forward pass\n",
    "    with torch.no_grad():\n",
    "        output = model(img)\n",
    "\n",
    "    # Get the predicted class\n",
    "    _, pred_label = torch.max(output, 1)\n",
    "\n",
    "    return pred_label.item()"
   ]
  },
  {
   "cell_type": "code",
   "execution_count": 7,
   "id": "8841b5ab",
   "metadata": {
    "execution": {
     "iopub.execute_input": "2023-12-04T13:59:40.730542Z",
     "iopub.status.busy": "2023-12-04T13:59:40.730270Z",
     "iopub.status.idle": "2023-12-04T13:59:47.192661Z",
     "shell.execute_reply": "2023-12-04T13:59:47.191379Z"
    },
    "papermill": {
     "duration": 6.471198,
     "end_time": "2023-12-04T13:59:47.194792",
     "exception": false,
     "start_time": "2023-12-04T13:59:40.723594",
     "status": "completed"
    },
    "tags": []
   },
   "outputs": [
    {
     "name": "stdout",
     "output_type": "stream",
     "text": [
      "efficientnet\n",
      "Accuracy: 0.983\n",
      "Confusion Matrix:\n",
      " [[195   5]\n",
      " [  2 198]]\n",
      "Precision, Recall, F1-score: 0.975 - 0.990 - 0.983\n"
     ]
    }
   ],
   "source": [
    "from sklearn.metrics import accuracy_score, confusion_matrix, precision_recall_fscore_support\n",
    "import numpy as np\n",
    "import glob, os\n",
    "\n",
    "# Assume test_data is your test dataset and test_labels are the true labels\n",
    "# test_data and test_labels should be defined in your code\n",
    "\n",
    "# Initialize lists to gather true and predicted labels\n",
    "y_true = []\n",
    "y_pred = []\n",
    "\n",
    "test_data  = glob.glob(os.path.join(database_path + \"test/None_seizures\", f'Mask_image_None_seizures_*.png'))\n",
    "test_labels = [0]*len(test_data)\n",
    "\n",
    "test_data += glob.glob(os.path.join(database_path + \"test/Seizures\", f'Mask_image_Seizures_*.png'))\n",
    "test_labels += [1]*(len(test_data)-len(test_labels))\n",
    "\n",
    "# Iterate over the test data\n",
    "for i in range(len(test_data)):\n",
    "    img = test_data[i]\n",
    "    label = test_labels[i]\n",
    "\n",
    "    # Use the Predict function to get the predicted label\n",
    "    pred_label = Predict(img)\n",
    "\n",
    "    # Append the true and predicted labels to the lists\n",
    "    y_true.append(label)\n",
    "    y_pred.append(pred_label)\n",
    "\n",
    "# Convert lists to numpy arrays\n",
    "y_true = np.array(y_true)\n",
    "y_pred = np.array(y_pred)\n",
    "\n",
    "# Compute metrics\n",
    "print(model_name)\n",
    "print(f'Accuracy: {accuracy_score(y_true, y_pred):.3f}')\n",
    "print(f'Confusion Matrix:\\n {confusion_matrix(y_true, y_pred)}')\n",
    "print(\"Precision, Recall, F1-score: {:.3f} - {:.3f} - {:.3f}\".format(*precision_recall_fscore_support(y_true, y_pred, average=\"binary\")))"
   ]
  }
 ],
 "metadata": {
  "kaggle": {
   "accelerator": "gpu",
   "dataSources": [
    {
     "datasetId": 4107464,
     "sourceId": 7121238,
     "sourceType": "datasetVersion"
    }
   ],
   "dockerImageVersionId": 30588,
   "isGpuEnabled": true,
   "isInternetEnabled": true,
   "language": "python",
   "sourceType": "notebook"
  },
  "kernelspec": {
   "display_name": "Python 3",
   "language": "python",
   "name": "python3"
  },
  "language_info": {
   "codemirror_mode": {
    "name": "ipython",
    "version": 3
   },
   "file_extension": ".py",
   "mimetype": "text/x-python",
   "name": "python",
   "nbconvert_exporter": "python",
   "pygments_lexer": "ipython3",
   "version": "3.10.12"
  },
  "papermill": {
   "default_parameters": {},
   "duration": 104.132667,
   "end_time": "2023-12-04T13:59:48.722574",
   "environment_variables": {},
   "exception": null,
   "input_path": "__notebook__.ipynb",
   "output_path": "__notebook__.ipynb",
   "parameters": {},
   "start_time": "2023-12-04T13:58:04.589907",
   "version": "2.4.0"
  }
 },
 "nbformat": 4,
 "nbformat_minor": 5
}
