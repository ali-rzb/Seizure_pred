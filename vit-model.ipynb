{
 "cells": [
  {
   "cell_type": "code",
   "execution_count": 1,
   "id": "c3807923",
   "metadata": {
    "execution": {
     "iopub.execute_input": "2023-12-04T08:17:35.276861Z",
     "iopub.status.busy": "2023-12-04T08:17:35.276483Z",
     "iopub.status.idle": "2023-12-04T08:17:39.197125Z",
     "shell.execute_reply": "2023-12-04T08:17:39.196161Z"
    },
    "papermill": {
     "duration": 3.930517,
     "end_time": "2023-12-04T08:17:39.200345",
     "exception": false,
     "start_time": "2023-12-04T08:17:35.269828",
     "status": "completed"
    },
    "tags": []
   },
   "outputs": [
    {
     "data": {
      "text/plain": [
       "'cuda'"
      ]
     },
     "execution_count": 1,
     "metadata": {},
     "output_type": "execute_result"
    }
   ],
   "source": [
    "import os\n",
    "import sys\n",
    "import torch\n",
    "from torch import nn\n",
    "import torchvision\n",
    "from torchvision import datasets, transforms\n",
    "import matplotlib.pyplot as plt\n",
    "from torch.utils.data import DataLoader\n",
    "\n",
    "sys.path.append('/kaggle/input/custom-modular/going_modular/going_modular')\n",
    "sys.path.append('/kaggle/input/seizures-non-seizures')\n",
    "from helper_functions import plot_loss_curves\n",
    "from helper_functions import set_seeds\n",
    "import engine\n",
    "\n",
    "device = \"cuda\" if torch.cuda.is_available() else \"cpu\"\n",
    "device"
   ]
  },
  {
   "cell_type": "code",
   "execution_count": 2,
   "id": "227f2978",
   "metadata": {
    "execution": {
     "iopub.execute_input": "2023-12-04T08:17:39.216347Z",
     "iopub.status.busy": "2023-12-04T08:17:39.215863Z",
     "iopub.status.idle": "2023-12-04T08:17:39.223764Z",
     "shell.execute_reply": "2023-12-04T08:17:39.222675Z"
    },
    "papermill": {
     "duration": 0.018127,
     "end_time": "2023-12-04T08:17:39.225890",
     "exception": false,
     "start_time": "2023-12-04T08:17:39.207763",
     "status": "completed"
    },
    "tags": []
   },
   "outputs": [],
   "source": [
    "import torchvision\n",
    "models_info = {\n",
    "    'ViT_B_16':\n",
    "    {\n",
    "        'weights':torchvision.models.ViT_B_16_Weights,\n",
    "        'model': torchvision.models.vit_b_16,\n",
    "        'image_size': 224,\n",
    "        'in_features': 768\n",
    "    },\n",
    "    'ViT_B_32':\n",
    "    {\n",
    "        'weights':torchvision.models.ViT_B_32_Weights,\n",
    "        'model': torchvision.models.vit_b_32,\n",
    "        'image_size': 224,\n",
    "        'in_features': 768\n",
    "    },\n",
    "    'ViT_L_16':\n",
    "    {\n",
    "        'weights':torchvision.models.ViT_L_16_Weights,\n",
    "        'model': torchvision.models.vit_l_16,\n",
    "        'image_size': 224,\n",
    "        'in_features': 1024\n",
    "    },\n",
    "    'ViT_L_32':\n",
    "    {\n",
    "        'weights':torchvision.models.ViT_L_32_Weights,\n",
    "        'model': torchvision.models.vit_l_32,\n",
    "        'image_size': 224,\n",
    "        'in_features': 1024\n",
    "    },\n",
    "    'ViT_H_14':\n",
    "    {\n",
    "        'weights':torchvision.models.ViT_H_14_Weights,\n",
    "        'model': torchvision.models.vit_h_14,\n",
    "        'image_size': 518,\n",
    "        'in_features': 1280\n",
    "    }\n",
    "}"
   ]
  },
  {
   "cell_type": "code",
   "execution_count": 3,
   "id": "01a1fa1d",
   "metadata": {
    "execution": {
     "iopub.execute_input": "2023-12-04T08:17:39.237971Z",
     "iopub.status.busy": "2023-12-04T08:17:39.237590Z",
     "iopub.status.idle": "2023-12-04T08:17:39.242121Z",
     "shell.execute_reply": "2023-12-04T08:17:39.241270Z"
    },
    "papermill": {
     "duration": 0.012755,
     "end_time": "2023-12-04T08:17:39.244088",
     "exception": false,
     "start_time": "2023-12-04T08:17:39.231333",
     "status": "completed"
    },
    "tags": []
   },
   "outputs": [],
   "source": [
    "load_pretrained_weights = False\n",
    "selected_model = models_info['ViT_B_16']\n",
    "epochs = 50"
   ]
  },
  {
   "cell_type": "code",
   "execution_count": 4,
   "id": "acdda201",
   "metadata": {
    "execution": {
     "iopub.execute_input": "2023-12-04T08:17:39.255766Z",
     "iopub.status.busy": "2023-12-04T08:17:39.255461Z",
     "iopub.status.idle": "2023-12-04T08:17:43.517307Z",
     "shell.execute_reply": "2023-12-04T08:17:43.516524Z"
    },
    "papermill": {
     "duration": 4.270343,
     "end_time": "2023-12-04T08:17:43.519642",
     "exception": false,
     "start_time": "2023-12-04T08:17:39.249299",
     "status": "completed"
    },
    "tags": []
   },
   "outputs": [],
   "source": [
    "# 1. Get pretrained weights for ViT-Base\n",
    "pretrained_vit_weights = selected_model['weights'].DEFAULT\n",
    "\n",
    "if load_pretrained_weights:\n",
    "    # 2. Setup a ViT model instance with pretrained weights\n",
    "    pretrained_vit = selected_model['model'](weights=pretrained_vit_weights).to(device)\n",
    "else:\n",
    "    pretrained_vit = selected_model['model']().to(device)\n",
    "    \n",
    "# 3. Freeze the base parameters\n",
    "for parameter in pretrained_vit.parameters():\n",
    "    parameter.requires_grad = False\n",
    "    \n",
    "# 4. Change the classifier head \n",
    "class_names = ['Seizures','None_seizures']\n",
    "\n",
    "set_seeds()\n",
    "pretrained_vit.heads = nn.Linear(in_features=selected_model['in_features'], out_features=len(class_names)).to(device)\n",
    "# pretrained_vit # uncomment for model output \n",
    "\n",
    "resize = selected_model['image_size']"
   ]
  },
  {
   "cell_type": "code",
   "execution_count": 5,
   "id": "196dc59d",
   "metadata": {
    "execution": {
     "iopub.execute_input": "2023-12-04T08:17:43.531505Z",
     "iopub.status.busy": "2023-12-04T08:17:43.531166Z",
     "iopub.status.idle": "2023-12-04T08:17:43.535360Z",
     "shell.execute_reply": "2023-12-04T08:17:43.534517Z"
    },
    "papermill": {
     "duration": 0.012429,
     "end_time": "2023-12-04T08:17:43.537326",
     "exception": false,
     "start_time": "2023-12-04T08:17:43.524897",
     "status": "completed"
    },
    "tags": []
   },
   "outputs": [],
   "source": [
    "# from torchinfo import summary\n",
    "\n",
    "# Print a summary using torchinfo (uncomment for actual output)\n",
    "# summary(model=pretrained_vit, \n",
    "#         input_size=(32, 3, 224, 224), # (batch_size, color_channels, height, width)\n",
    "#         # col_names=[\"input_size\"], # uncomment for smaller output\n",
    "#         col_names=[\"input_size\", \"output_size\", \"num_params\", \"trainable\"],\n",
    "#         col_width=20,\n",
    "#         row_settings=[\"var_names\"]\n",
    "# )"
   ]
  },
  {
   "cell_type": "code",
   "execution_count": 6,
   "id": "e1759e15",
   "metadata": {
    "execution": {
     "iopub.execute_input": "2023-12-04T08:17:43.549019Z",
     "iopub.status.busy": "2023-12-04T08:17:43.548697Z",
     "iopub.status.idle": "2023-12-04T08:17:43.552856Z",
     "shell.execute_reply": "2023-12-04T08:17:43.552062Z"
    },
    "papermill": {
     "duration": 0.012326,
     "end_time": "2023-12-04T08:17:43.554845",
     "exception": false,
     "start_time": "2023-12-04T08:17:43.542519",
     "status": "completed"
    },
    "tags": []
   },
   "outputs": [],
   "source": [
    "# Setup directory paths to train and test images\n",
    "train_dir = '/kaggle/input/seizures-non-seizures/Data/train'\n",
    "test_dir = '/kaggle/input/seizures-non-seizures/Data/test'"
   ]
  },
  {
   "cell_type": "code",
   "execution_count": 7,
   "id": "13fbf845",
   "metadata": {
    "execution": {
     "iopub.execute_input": "2023-12-04T08:17:43.566815Z",
     "iopub.status.busy": "2023-12-04T08:17:43.566033Z",
     "iopub.status.idle": "2023-12-04T08:17:43.571365Z",
     "shell.execute_reply": "2023-12-04T08:17:43.570522Z"
    },
    "papermill": {
     "duration": 0.013615,
     "end_time": "2023-12-04T08:17:43.573582",
     "exception": false,
     "start_time": "2023-12-04T08:17:43.559967",
     "status": "completed"
    },
    "tags": []
   },
   "outputs": [
    {
     "name": "stdout",
     "output_type": "stream",
     "text": [
      "ImageClassification(\n",
      "    crop_size=[224]\n",
      "    resize_size=[224]\n",
      "    mean=[0.485, 0.456, 0.406]\n",
      "    std=[0.229, 0.224, 0.225]\n",
      "    interpolation=InterpolationMode.BILINEAR\n",
      ")\n"
     ]
    }
   ],
   "source": [
    "# Get automatic transforms from pretrained ViT weights\n",
    "pretrained_vit_transforms = pretrained_vit_weights.transforms()\n",
    "pretrained_vit_transforms.crop_size = [resize]\n",
    "pretrained_vit_transforms.resize_size = [resize]\n",
    "print(pretrained_vit_transforms)"
   ]
  },
  {
   "cell_type": "markdown",
   "id": "cc1ee62d",
   "metadata": {
    "papermill": {
     "duration": 0.004805,
     "end_time": "2023-12-04T08:17:43.583468",
     "exception": false,
     "start_time": "2023-12-04T08:17:43.578663",
     "status": "completed"
    },
    "tags": []
   },
   "source": [
    "import os## Turning our images into DataLoaders using the create_dataloaders()"
   ]
  },
  {
   "cell_type": "code",
   "execution_count": 8,
   "id": "ec798624",
   "metadata": {
    "execution": {
     "iopub.execute_input": "2023-12-04T08:17:43.595395Z",
     "iopub.status.busy": "2023-12-04T08:17:43.594616Z",
     "iopub.status.idle": "2023-12-04T08:17:43.601449Z",
     "shell.execute_reply": "2023-12-04T08:17:43.600577Z"
    },
    "papermill": {
     "duration": 0.01501,
     "end_time": "2023-12-04T08:17:43.603425",
     "exception": false,
     "start_time": "2023-12-04T08:17:43.588415",
     "status": "completed"
    },
    "tags": []
   },
   "outputs": [],
   "source": [
    "NUM_WORKERS = os.cpu_count()\n",
    "\n",
    "def create_dataloaders(\n",
    "    train_dir: str, \n",
    "    test_dir: str, \n",
    "    transform: transforms.Compose, \n",
    "    batch_size: int, \n",
    "    num_workers: int=NUM_WORKERS\n",
    "):\n",
    "\n",
    "  # Use ImageFolder to create dataset(s)\n",
    "  train_data = datasets.ImageFolder(train_dir, transform=transform)\n",
    "  test_data = datasets.ImageFolder(test_dir, transform=transform)\n",
    "\n",
    "  # Get class names\n",
    "  class_names = train_data.classes\n",
    "\n",
    "  # Turn images into data loaders\n",
    "  train_dataloader = DataLoader(\n",
    "      train_data,\n",
    "      batch_size=batch_size,\n",
    "      shuffle=True,\n",
    "      num_workers=num_workers,\n",
    "      pin_memory=True,\n",
    "  )\n",
    "  test_dataloader = DataLoader(\n",
    "      test_data,\n",
    "      batch_size=batch_size,\n",
    "      shuffle=False,\n",
    "      num_workers=num_workers,\n",
    "      pin_memory=True,\n",
    "  )\n",
    "\n",
    "  return train_dataloader, test_dataloader, class_names"
   ]
  },
  {
   "cell_type": "code",
   "execution_count": 9,
   "id": "f61ed9d0",
   "metadata": {
    "execution": {
     "iopub.execute_input": "2023-12-04T08:17:43.615344Z",
     "iopub.status.busy": "2023-12-04T08:17:43.614748Z",
     "iopub.status.idle": "2023-12-04T08:17:44.002973Z",
     "shell.execute_reply": "2023-12-04T08:17:44.002173Z"
    },
    "papermill": {
     "duration": 0.396734,
     "end_time": "2023-12-04T08:17:44.005320",
     "exception": false,
     "start_time": "2023-12-04T08:17:43.608586",
     "status": "completed"
    },
    "tags": []
   },
   "outputs": [],
   "source": [
    "# Setup dataloaders\n",
    "train_dataloader_pretrained, test_dataloader_pretrained, class_names = create_dataloaders(train_dir=train_dir,\n",
    "                                                                                          test_dir=test_dir,\n",
    "                                                                                          transform=pretrained_vit_transforms,\n",
    "                                                                                          batch_size=32) \n",
    "# Could increase if we had more samples, such as here: https://arxiv.org/abs/2205.01580 (there are other improvements there too...)\n"
   ]
  },
  {
   "cell_type": "code",
   "execution_count": 10,
   "id": "2b09cde1",
   "metadata": {
    "execution": {
     "iopub.execute_input": "2023-12-04T08:17:44.017155Z",
     "iopub.status.busy": "2023-12-04T08:17:44.016865Z",
     "iopub.status.idle": "2023-12-04T08:22:31.447068Z",
     "shell.execute_reply": "2023-12-04T08:22:31.445964Z"
    },
    "papermill": {
     "duration": 287.439944,
     "end_time": "2023-12-04T08:22:31.450499",
     "exception": false,
     "start_time": "2023-12-04T08:17:44.010555",
     "status": "completed"
    },
    "tags": []
   },
   "outputs": [
    {
     "data": {
      "application/vnd.jupyter.widget-view+json": {
       "model_id": "5493e1aba03344a19d7e8a30961f1d53",
       "version_major": 2,
       "version_minor": 0
      },
      "text/plain": [
       "  0%|          | 0/50 [00:00<?, ?it/s]"
      ]
     },
     "metadata": {},
     "output_type": "display_data"
    },
    {
     "name": "stdout",
     "output_type": "stream",
     "text": [
      "Epoch: 1 | train_loss: 0.6583 | train_acc: 0.5955 | test_loss: 0.5838 | test_acc: 0.7070\n",
      "Epoch: 2 | train_loss: 0.5704 | train_acc: 0.7135 | test_loss: 0.5650 | test_acc: 0.7109\n",
      "Epoch: 3 | train_loss: 0.5477 | train_acc: 0.7031 | test_loss: 0.5543 | test_acc: 0.7031\n",
      "Epoch: 4 | train_loss: 0.5519 | train_acc: 0.7222 | test_loss: 0.5649 | test_acc: 0.7344\n",
      "Epoch: 5 | train_loss: 0.5294 | train_acc: 0.7257 | test_loss: 0.5684 | test_acc: 0.6875\n",
      "Epoch: 6 | train_loss: 0.5056 | train_acc: 0.7465 | test_loss: 0.5321 | test_acc: 0.6992\n",
      "Epoch: 7 | train_loss: 0.4966 | train_acc: 0.7569 | test_loss: 0.5260 | test_acc: 0.6992\n",
      "Epoch: 8 | train_loss: 0.4801 | train_acc: 0.7778 | test_loss: 0.5227 | test_acc: 0.7109\n",
      "Epoch: 9 | train_loss: 0.4752 | train_acc: 0.7760 | test_loss: 0.5073 | test_acc: 0.7266\n",
      "Epoch: 10 | train_loss: 0.4709 | train_acc: 0.7795 | test_loss: 0.5051 | test_acc: 0.7109\n",
      "Epoch: 11 | train_loss: 0.4677 | train_acc: 0.7743 | test_loss: 0.5091 | test_acc: 0.7148\n",
      "Epoch: 12 | train_loss: 0.4518 | train_acc: 0.7691 | test_loss: 0.4991 | test_acc: 0.7188\n",
      "Epoch: 13 | train_loss: 0.4515 | train_acc: 0.7795 | test_loss: 0.4909 | test_acc: 0.7383\n",
      "Epoch: 14 | train_loss: 0.4512 | train_acc: 0.7830 | test_loss: 0.5011 | test_acc: 0.7188\n",
      "Epoch: 15 | train_loss: 0.4339 | train_acc: 0.7951 | test_loss: 0.4881 | test_acc: 0.7188\n",
      "Epoch: 16 | train_loss: 0.4326 | train_acc: 0.7951 | test_loss: 0.4764 | test_acc: 0.7500\n",
      "Epoch: 17 | train_loss: 0.4357 | train_acc: 0.7951 | test_loss: 0.4686 | test_acc: 0.7461\n",
      "Epoch: 18 | train_loss: 0.4475 | train_acc: 0.7969 | test_loss: 0.5247 | test_acc: 0.7383\n",
      "Epoch: 19 | train_loss: 0.4153 | train_acc: 0.8177 | test_loss: 0.4580 | test_acc: 0.7773\n",
      "Epoch: 20 | train_loss: 0.4102 | train_acc: 0.8056 | test_loss: 0.4579 | test_acc: 0.7500\n",
      "Epoch: 21 | train_loss: 0.4356 | train_acc: 0.8003 | test_loss: 0.4587 | test_acc: 0.7500\n",
      "Epoch: 22 | train_loss: 0.4246 | train_acc: 0.7917 | test_loss: 0.4770 | test_acc: 0.7344\n",
      "Epoch: 23 | train_loss: 0.4188 | train_acc: 0.8038 | test_loss: 0.4458 | test_acc: 0.7812\n",
      "Epoch: 24 | train_loss: 0.4130 | train_acc: 0.8160 | test_loss: 0.4913 | test_acc: 0.7461\n",
      "Epoch: 25 | train_loss: 0.3888 | train_acc: 0.8160 | test_loss: 0.4478 | test_acc: 0.7461\n",
      "Epoch: 26 | train_loss: 0.3914 | train_acc: 0.8177 | test_loss: 0.4537 | test_acc: 0.7500\n",
      "Epoch: 27 | train_loss: 0.4152 | train_acc: 0.7917 | test_loss: 0.4322 | test_acc: 0.7852\n",
      "Epoch: 28 | train_loss: 0.3965 | train_acc: 0.8247 | test_loss: 0.4647 | test_acc: 0.7578\n",
      "Epoch: 29 | train_loss: 0.3889 | train_acc: 0.8212 | test_loss: 0.4248 | test_acc: 0.7891\n",
      "Epoch: 30 | train_loss: 0.3797 | train_acc: 0.8368 | test_loss: 0.4716 | test_acc: 0.7734\n",
      "Epoch: 31 | train_loss: 0.3912 | train_acc: 0.8264 | test_loss: 0.4242 | test_acc: 0.7891\n",
      "Epoch: 32 | train_loss: 0.3879 | train_acc: 0.8177 | test_loss: 0.4183 | test_acc: 0.8008\n",
      "Epoch: 33 | train_loss: 0.3885 | train_acc: 0.8212 | test_loss: 0.4746 | test_acc: 0.7656\n",
      "Epoch: 34 | train_loss: 0.3981 | train_acc: 0.8142 | test_loss: 0.4331 | test_acc: 0.7539\n",
      "Epoch: 35 | train_loss: 0.3842 | train_acc: 0.8125 | test_loss: 0.4317 | test_acc: 0.7773\n",
      "Epoch: 36 | train_loss: 0.3626 | train_acc: 0.8472 | test_loss: 0.4098 | test_acc: 0.7969\n",
      "Epoch: 37 | train_loss: 0.3729 | train_acc: 0.8212 | test_loss: 0.4060 | test_acc: 0.8008\n",
      "Epoch: 38 | train_loss: 0.3555 | train_acc: 0.8385 | test_loss: 0.4593 | test_acc: 0.7656\n",
      "Epoch: 39 | train_loss: 0.3696 | train_acc: 0.8281 | test_loss: 0.5051 | test_acc: 0.7422\n",
      "Epoch: 40 | train_loss: 0.3630 | train_acc: 0.8420 | test_loss: 0.4123 | test_acc: 0.7773\n",
      "Epoch: 41 | train_loss: 0.3711 | train_acc: 0.8490 | test_loss: 0.4264 | test_acc: 0.8164\n",
      "Epoch: 42 | train_loss: 0.3785 | train_acc: 0.8316 | test_loss: 0.4018 | test_acc: 0.8008\n",
      "Epoch: 43 | train_loss: 0.3522 | train_acc: 0.8542 | test_loss: 0.3928 | test_acc: 0.8008\n",
      "Epoch: 44 | train_loss: 0.3493 | train_acc: 0.8490 | test_loss: 0.4337 | test_acc: 0.7930\n",
      "Epoch: 45 | train_loss: 0.3484 | train_acc: 0.8681 | test_loss: 0.4024 | test_acc: 0.8125\n",
      "Epoch: 46 | train_loss: 0.3410 | train_acc: 0.8663 | test_loss: 0.3951 | test_acc: 0.8086\n",
      "Epoch: 47 | train_loss: 0.3627 | train_acc: 0.8351 | test_loss: 0.3882 | test_acc: 0.8047\n",
      "Epoch: 48 | train_loss: 0.3446 | train_acc: 0.8576 | test_loss: 0.3835 | test_acc: 0.8242\n",
      "Epoch: 49 | train_loss: 0.3576 | train_acc: 0.8299 | test_loss: 0.3815 | test_acc: 0.8203\n",
      "Epoch: 50 | train_loss: 0.3399 | train_acc: 0.8594 | test_loss: 0.3792 | test_acc: 0.8203\n"
     ]
    }
   ],
   "source": [
    "# Create optimizer and loss function\n",
    "optimizer = torch.optim.Adam(params=pretrained_vit.parameters(), lr=1e-3)\n",
    "loss_fn = torch.nn.CrossEntropyLoss()\n",
    "\n",
    "# Train the classifier head of the pretrained ViT feature extractor model\n",
    "set_seeds()\n",
    "pretrained_vit_results = engine.train(model=pretrained_vit,\n",
    "                                      train_dataloader=train_dataloader_pretrained,\n",
    "                                      test_dataloader=test_dataloader_pretrained,\n",
    "                                      optimizer=optimizer,\n",
    "                                      loss_fn=loss_fn,\n",
    "                                      epochs=epochs,\n",
    "                                      device=device)"
   ]
  },
  {
   "cell_type": "code",
   "execution_count": 11,
   "id": "a6c6e9c9",
   "metadata": {
    "execution": {
     "iopub.execute_input": "2023-12-04T08:22:31.470818Z",
     "iopub.status.busy": "2023-12-04T08:22:31.470443Z",
     "iopub.status.idle": "2023-12-04T08:22:32.066013Z",
     "shell.execute_reply": "2023-12-04T08:22:32.065173Z"
    },
    "papermill": {
     "duration": 0.608389,
     "end_time": "2023-12-04T08:22:32.068284",
     "exception": false,
     "start_time": "2023-12-04T08:22:31.459895",
     "status": "completed"
    },
    "tags": []
   },
   "outputs": [
    {
     "name": "stdout",
     "output_type": "stream",
     "text": [
      "[INFO] Saving model to: /kaggle/working/myModel.pth\n"
     ]
    }
   ],
   "source": [
    "from utils import save_model\n",
    "save_model(pretrained_vit, \"/kaggle/working/\",\"myModel.pth\")"
   ]
  },
  {
   "cell_type": "code",
   "execution_count": 12,
   "id": "8be6801a",
   "metadata": {
    "execution": {
     "iopub.execute_input": "2023-12-04T08:22:32.087984Z",
     "iopub.status.busy": "2023-12-04T08:22:32.087676Z",
     "iopub.status.idle": "2023-12-04T08:22:32.726538Z",
     "shell.execute_reply": "2023-12-04T08:22:32.725644Z"
    },
    "papermill": {
     "duration": 0.651267,
     "end_time": "2023-12-04T08:22:32.728820",
     "exception": false,
     "start_time": "2023-12-04T08:22:32.077553",
     "status": "completed"
    },
    "tags": []
   },
   "outputs": [
    {
     "data": {
      "image/png": "[encoded data removed]",
      "text/plain": [
       "<Figure size 1500x700 with 2 Axes>"
      ]
     },
     "metadata": {},
     "output_type": "display_data"
    }
   ],
   "source": [
    "# Plot the loss curves\n",
    "from helper_functions import plot_loss_curves\n",
    "plot_loss_curves(pretrained_vit_results) "
   ]
  },
  {
   "cell_type": "code",
   "execution_count": 13,
   "id": "6e8c0097",
   "metadata": {
    "execution": {
     "iopub.execute_input": "2023-12-04T08:22:32.751897Z",
     "iopub.status.busy": "2023-12-04T08:22:32.751534Z",
     "iopub.status.idle": "2023-12-04T08:22:32.763780Z",
     "shell.execute_reply": "2023-12-04T08:22:32.762956Z"
    },
    "papermill": {
     "duration": 0.026259,
     "end_time": "2023-12-04T08:22:32.765649",
     "exception": false,
     "start_time": "2023-12-04T08:22:32.739390",
     "status": "completed"
    },
    "tags": []
   },
   "outputs": [],
   "source": [
    "\"\"\"\n",
    "Utility functions to make predictions.\n",
    "\n",
    "Main reference for code creation: https://www.learnpytorch.io/06_pytorch_transfer_learning/#6-make-predictions-on-images-from-the-test-set \n",
    "\"\"\"\n",
    "import torch\n",
    "import torchvision\n",
    "from torchvision import transforms\n",
    "import matplotlib.pyplot as plt\n",
    "\n",
    "from typing import List, Tuple\n",
    "\n",
    "from PIL import Image\n",
    "\n",
    "# Set device\n",
    "device = \"cuda\" if torch.cuda.is_available() else \"cpu\"\n",
    "\n",
    "# Predict on a target image with a target model\n",
    "# Function created in: https://www.learnpytorch.io/06_pytorch_transfer_learning/#6-make-predictions-on-images-from-the-test-set\n",
    "def pred(\n",
    "    model: torch.nn.Module,\n",
    "    class_names: List[str],\n",
    "    image_path: str,\n",
    "    image_size: Tuple[int, int] = (resize, resize),\n",
    "    transform: torchvision.transforms = None,\n",
    "    device: torch.device = device,\n",
    "):\n",
    "    \"\"\"Predicts on a target image with a target model.\n",
    "\n",
    "    Args:\n",
    "        model (torch.nn.Module): A trained (or untrained) PyTorch model to predict on an image.\n",
    "        class_names (List[str]): A list of target classes to map predictions to.\n",
    "        image_path (str): Filepath to target image to predict on.\n",
    "        image_size (Tuple[int, int], optional): Size to transform target image to. Defaults to (224, 224).\n",
    "        transform (torchvision.transforms, optional): Transform to perform on image. Defaults to None which uses ImageNet normalization.\n",
    "        device (torch.device, optional): Target device to perform prediction on. Defaults to device.\n",
    "    \"\"\"\n",
    "\n",
    "    # Open image\n",
    "    img = Image.open(image_path)\n",
    "\n",
    "    # Create transformation for image (if one doesn't exist)\n",
    "    if transform is not None:\n",
    "        image_transform = transform\n",
    "    else:\n",
    "        image_transform = transforms.Compose(\n",
    "            [\n",
    "                transforms.Resize(image_size),\n",
    "                transforms.ToTensor(),\n",
    "                transforms.Normalize(\n",
    "                    mean=[0.485, 0.456, 0.406], std=[0.229, 0.224, 0.225]\n",
    "                ),\n",
    "            ]\n",
    "        )\n",
    "\n",
    "    ### Predict on image ###\n",
    "\n",
    "    # Make sure the model is on the target device\n",
    "    model.to(device)\n",
    "\n",
    "    # Turn on model evaluation mode and inference mode\n",
    "    model.eval()\n",
    "    with torch.inference_mode():\n",
    "        # Transform and add an extra dimension to image (model requires samples in [batch_size, color_channels, height, width])\n",
    "        transformed_image = image_transform(img).unsqueeze(dim=0)\n",
    "\n",
    "        # Make a prediction on image with an extra dimension and send it to the target device\n",
    "        target_image_pred = model(transformed_image.to(device))\n",
    "\n",
    "    # Convert logits -> prediction probabilities (using torch.softmax() for multi-class classification)\n",
    "    target_image_pred_probs = torch.softmax(target_image_pred, dim=1)\n",
    "\n",
    "    # Convert prediction probabilities -> prediction labels\n",
    "    target_image_pred_label = torch.argmax(target_image_pred_probs, dim=1)\n",
    "    \n",
    "    return target_image_pred_label.cpu().numpy()[0]\n",
    "\n",
    "\n",
    "def Predict(img):\n",
    "    # Setup custom image path\n",
    "    custom_image_path = img\n",
    "\n",
    "    # Predict on custom image\n",
    "    return pred(model=pretrained_vit,\n",
    "                        image_path=custom_image_path,\n",
    "                        class_names=class_names)\n",
    "\n"
   ]
  },
  {
   "cell_type": "code",
   "execution_count": 14,
   "id": "c683fe82",
   "metadata": {
    "execution": {
     "iopub.execute_input": "2023-12-04T08:22:32.787568Z",
     "iopub.status.busy": "2023-12-04T08:22:32.787254Z",
     "iopub.status.idle": "2023-12-04T08:22:37.971490Z",
     "shell.execute_reply": "2023-12-04T08:22:37.970408Z"
    },
    "papermill": {
     "duration": 5.197543,
     "end_time": "2023-12-04T08:22:37.973544",
     "exception": false,
     "start_time": "2023-12-04T08:22:32.776001",
     "status": "completed"
    },
    "tags": []
   },
   "outputs": [
    {
     "name": "stderr",
     "output_type": "stream",
     "text": [
      "/opt/conda/lib/python3.10/site-packages/scipy/__init__.py:146: UserWarning: A NumPy version >=1.16.5 and <1.23.0 is required for this version of SciPy (detected version 1.24.3\n",
      "  warnings.warn(f\"A NumPy version >={np_minversion} and <{np_maxversion}\"\n"
     ]
    },
    {
     "name": "stdout",
     "output_type": "stream",
     "text": [
      "Accuracy: 0.775\n",
      "Confusion Matrix:\n",
      " [[88 32]\n",
      " [22 98]]\n",
      "Precision, Recall, F1-score: 0.754 - 0.817 - 0.784\n"
     ]
    }
   ],
   "source": [
    "from sklearn.metrics import accuracy_score, confusion_matrix, precision_recall_fscore_support\n",
    "import numpy as np\n",
    "import glob, os\n",
    "\n",
    "# Assume test_data is your test dataset and test_labels are the true labels\n",
    "# test_data and test_labels should be defined in your code\n",
    "\n",
    "# Initialize lists to gather true and predicted labels\n",
    "y_true = []\n",
    "y_pred = []\n",
    "\n",
    "test_data  = glob.glob(os.path.join(\"/kaggle/input/seizures-non-seizures/Data/test/None_seizures\", f'Mask_image_None_seizures_*.png'))\n",
    "test_labels = [0]*len(test_data)\n",
    "\n",
    "test_data += glob.glob(os.path.join(\"/kaggle/input/seizures-non-seizures/Data/test/Seizures\", f'Mask_image_Seizures_*.png'))\n",
    "test_labels += [1]*(len(test_data)-len(test_labels))\n",
    "\n",
    "# Iterate over the test data\n",
    "for i in range(len(test_data)):\n",
    "    img = test_data[i]\n",
    "    label = test_labels[i]\n",
    "\n",
    "    # Use the Predict function to get the predicted label\n",
    "    pred_label = Predict(img)\n",
    "\n",
    "    # Append the true and predicted labels to the lists\n",
    "    y_true.append(label)\n",
    "    y_pred.append(pred_label)\n",
    "\n",
    "# Convert lists to numpy arrays\n",
    "y_true = np.array(y_true)\n",
    "y_pred = np.array(y_pred)\n",
    "\n",
    "# Compute metrics\n",
    "print(f'Accuracy: {accuracy_score(y_true, y_pred):.3f}')\n",
    "print(f'Confusion Matrix:\\n {confusion_matrix(y_true, y_pred)}')\n",
    "print(\"Precision, Recall, F1-score: {:.3f} - {:.3f} - {:.3f}\".format(*precision_recall_fscore_support(y_true, y_pred, average=\"binary\")))"
   ]
  }
 ],
 "metadata": {
  "kaggle": {
   "accelerator": "gpu",
   "dataSources": [
    {
     "datasetId": 4099975,
     "sourceId": 7110720,
     "sourceType": "datasetVersion"
    },
    {
     "datasetId": 4100010,
     "sourceId": 7111330,
     "sourceType": "datasetVersion"
    },
    {
     "datasetId": 4101205,
     "sourceId": 7112378,
     "sourceType": "datasetVersion"
    }
   ],
   "dockerImageVersionId": 30588,
   "isGpuEnabled": true,
   "isInternetEnabled": true,
   "language": "python",
   "sourceType": "notebook"
  },
  "kernelspec": {
   "display_name": "Python 3",
   "language": "python",
   "name": "python3"
  },
  "language_info": {
   "codemirror_mode": {
    "name": "ipython",
    "version": 3
   },
   "file_extension": ".py",
   "mimetype": "text/x-python",
   "name": "python",
   "nbconvert_exporter": "python",
   "pygments_lexer": "ipython3",
   "version": "3.10.12"
  },
  "papermill": {
   "default_parameters": {},
   "duration": 308.660483,
   "end_time": "2023-12-04T08:22:40.529923",
   "environment_variables": {},
   "exception": null,
   "input_path": "__notebook__.ipynb",
   "output_path": "__notebook__.ipynb",
   "parameters": {},
   "start_time": "2023-12-04T08:17:31.869440",
   "version": "2.4.0"
  },
  "widgets": {
   "application/vnd.jupyter.widget-state+json": {
    "state": {
     "0494b69a540a4d6e936835d30af78a78": {
      "model_module": "@jupyter-widgets/controls",
      "model_module_version": "1.5.0",
      "model_name": "FloatProgressModel",
      "state": {
       "_dom_classes": [],
       "_model_module": "@jupyter-widgets/controls",
       "_model_module_version": "1.5.0",
       "_model_name": "FloatProgressModel",
       "_view_count": null,
       "_view_module": "@jupyter-widgets/controls",
       "_view_module_version": "1.5.0",
       "_view_name": "ProgressView",
       "bar_style": "success",
       "description": "",
       "description_tooltip": null,
       "layout": "IPY_MODEL_356c3aabf4eb4a26a7ca35f2b8d8526e",
       "max": 50.0,
       "min": 0.0,
       "orientation": "horizontal",
       "style": "IPY_MODEL_41dd5a65a274402480562deeba1e3d78",
       "value": 50.0
      }
     },
     "0a98a4f899c14e3c9589bd217f8bfe5c": {
      "model_module": "@jupyter-widgets/controls",
      "model_module_version": "1.5.0",
      "model_name": "HTMLModel",
      "state": {
       "_dom_classes": [],
       "_model_module": "@jupyter-widgets/controls",
       "_model_module_version": "1.5.0",
       "_model_name": "HTMLModel",
       "_view_count": null,
       "_view_module": "@jupyter-widgets/controls",
       "_view_module_version": "1.5.0",
       "_view_name": "HTMLView",
       "description": "",
       "description_tooltip": null,
       "layout": "IPY_MODEL_7dfd18e0c2dc4b149535c5001fba25e0",
       "placeholder": "​",
       "style": "IPY_MODEL_d0c853c1b992406798b951420203b3c8",
       "value": "100%"
      }
     },
     "356c3aabf4eb4a26a7ca35f2b8d8526e": {
      "model_module": "@jupyter-widgets/base",
      "model_module_version": "1.2.0",
      "model_name": "LayoutModel",
      "state": {
       "_model_module": "@jupyter-widgets/base",
       "_model_module_version": "1.2.0",
       "_model_name": "LayoutModel",
       "_view_count": null,
       "_view_module": "@jupyter-widgets/base",
       "_view_module_version": "1.2.0",
       "_view_name": "LayoutView",
       "align_content": null,
       "align_items": null,
       "align_self": null,
       "border": null,
       "bottom": null,
       "display": null,
       "flex": null,
       "flex_flow": null,
       "grid_area": null,
       "grid_auto_columns": null,
       "grid_auto_flow": null,
       "grid_auto_rows": null,
       "grid_column": null,
       "grid_gap": null,
       "grid_row": null,
       "grid_template_areas": null,
       "grid_template_columns": null,
       "grid_template_rows": null,
       "height": null,
       "justify_content": null,
       "justify_items": null,
       "left": null,
       "margin": null,
       "max_height": null,
       "max_width": null,
       "min_height": null,
       "min_width": null,
       "object_fit": null,
       "object_position": null,
       "order": null,
       "overflow": null,
       "overflow_x": null,
       "overflow_y": null,
       "padding": null,
       "right": null,
       "top": null,
       "visibility": null,
       "width": null
      }
     },
     "3e2d9b2ee4064be7a60a178d566f9cde": {
      "model_module": "@jupyter-widgets/base",
      "model_module_version": "1.2.0",
      "model_name": "LayoutModel",
      "state": {
       "_model_module": "@jupyter-widgets/base",
       "_model_module_version": "1.2.0",
       "_model_name": "LayoutModel",
       "_view_count": null,
       "_view_module": "@jupyter-widgets/base",
       "_view_module_version": "1.2.0",
       "_view_name": "LayoutView",
       "align_content": null,
       "align_items": null,
       "align_self": null,
       "border": null,
       "bottom": null,
       "display": null,
       "flex": null,
       "flex_flow": null,
       "grid_area": null,
       "grid_auto_columns": null,
       "grid_auto_flow": null,
       "grid_auto_rows": null,
       "grid_column": null,
       "grid_gap": null,
       "grid_row": null,
       "grid_template_areas": null,
       "grid_template_columns": null,
       "grid_template_rows": null,
       "height": null,
       "justify_content": null,
       "justify_items": null,
       "left": null,
       "margin": null,
       "max_height": null,
       "max_width": null,
       "min_height": null,
       "min_width": null,
       "object_fit": null,
       "object_position": null,
       "order": null,
       "overflow": null,
       "overflow_x": null,
       "overflow_y": null,
       "padding": null,
       "right": null,
       "top": null,
       "visibility": null,
       "width": null
      }
     },
     "415fa53660dd469ba5a69452b10df581": {
      "model_module": "@jupyter-widgets/controls",
      "model_module_version": "1.5.0",
      "model_name": "DescriptionStyleModel",
      "state": {
       "_model_module": "@jupyter-widgets/controls",
       "_model_module_version": "1.5.0",
       "_model_name": "DescriptionStyleModel",
       "_view_count": null,
       "_view_module": "@jupyter-widgets/base",
       "_view_module_version": "1.2.0",
       "_view_name": "StyleView",
       "description_width": ""
      }
     },
     "41dd5a65a274402480562deeba1e3d78": {
      "model_module": "@jupyter-widgets/controls",
      "model_module_version": "1.5.0",
      "model_name": "ProgressStyleModel",
      "state": {
       "_model_module": "@jupyter-widgets/controls",
       "_model_module_version": "1.5.0",
       "_model_name": "ProgressStyleModel",
       "_view_count": null,
       "_view_module": "@jupyter-widgets/base",
       "_view_module_version": "1.2.0",
       "_view_name": "StyleView",
       "bar_color": null,
       "description_width": ""
      }
     },
     "5493e1aba03344a19d7e8a30961f1d53": {
      "model_module": "@jupyter-widgets/controls",
      "model_module_version": "1.5.0",
      "model_name": "HBoxModel",
      "state": {
       "_dom_classes": [],
       "_model_module": "@jupyter-widgets/controls",
       "_model_module_version": "1.5.0",
       "_model_name": "HBoxModel",
       "_view_count": null,
       "_view_module": "@jupyter-widgets/controls",
       "_view_module_version": "1.5.0",
       "_view_name": "HBoxView",
       "box_style": "",
       "children": [
        "IPY_MODEL_0a98a4f899c14e3c9589bd217f8bfe5c",
        "IPY_MODEL_0494b69a540a4d6e936835d30af78a78",
        "IPY_MODEL_7556aaaa790e46d08c02dde0caf64522"
       ],
       "layout": "IPY_MODEL_3e2d9b2ee4064be7a60a178d566f9cde"
      }
     },
     "7556aaaa790e46d08c02dde0caf64522": {
      "model_module": "@jupyter-widgets/controls",
      "model_module_version": "1.5.0",
      "model_name": "HTMLModel",
      "state": {
       "_dom_classes": [],
       "_model_module": "@jupyter-widgets/controls",
       "_model_module_version": "1.5.0",
       "_model_name": "HTMLModel",
       "_view_count": null,
       "_view_module": "@jupyter-widgets/controls",
       "_view_module_version": "1.5.0",
       "_view_name": "HTMLView",
       "description": "",
       "description_tooltip": null,
       "layout": "IPY_MODEL_94eedfd2f840470cb5f8b75be36daf9c",
       "placeholder": "​",
       "style": "IPY_MODEL_415fa53660dd469ba5a69452b10df581",
       "value": " 50/50 [04:47&lt;00:00,  5.67s/it]"
      }
     },
     "7dfd18e0c2dc4b149535c5001fba25e0": {
      "model_module": "@jupyter-widgets/base",
      "model_module_version": "1.2.0",
      "model_name": "LayoutModel",
      "state": {
       "_model_module": "@jupyter-widgets/base",
       "_model_module_version": "1.2.0",
       "_model_name": "LayoutModel",
       "_view_count": null,
       "_view_module": "@jupyter-widgets/base",
       "_view_module_version": "1.2.0",
       "_view_name": "LayoutView",
       "align_content": null,
       "align_items": null,
       "align_self": null,
       "border": null,
       "bottom": null,
       "display": null,
       "flex": null,
       "flex_flow": null,
       "grid_area": null,
       "grid_auto_columns": null,
       "grid_auto_flow": null,
       "grid_auto_rows": null,
       "grid_column": null,
       "grid_gap": null,
       "grid_row": null,
       "grid_template_areas": null,
       "grid_template_columns": null,
       "grid_template_rows": null,
       "height": null,
       "justify_content": null,
       "justify_items": null,
       "left": null,
       "margin": null,
       "max_height": null,
       "max_width": null,
       "min_height": null,
       "min_width": null,
       "object_fit": null,
       "object_position": null,
       "order": null,
       "overflow": null,
       "overflow_x": null,
       "overflow_y": null,
       "padding": null,
       "right": null,
       "top": null,
       "visibility": null,
       "width": null
      }
     },
     "94eedfd2f840470cb5f8b75be36daf9c": {
      "model_module": "@jupyter-widgets/base",
      "model_module_version": "1.2.0",
      "model_name": "LayoutModel",
      "state": {
       "_model_module": "@jupyter-widgets/base",
       "_model_module_version": "1.2.0",
       "_model_name": "LayoutModel",
       "_view_count": null,
       "_view_module": "@jupyter-widgets/base",
       "_view_module_version": "1.2.0",
       "_view_name": "LayoutView",
       "align_content": null,
       "align_items": null,
       "align_self": null,
       "border": null,
       "bottom": null,
       "display": null,
       "flex": null,
       "flex_flow": null,
       "grid_area": null,
       "grid_auto_columns": null,
       "grid_auto_flow": null,
       "grid_auto_rows": null,
       "grid_column": null,
       "grid_gap": null,
       "grid_row": null,
       "grid_template_areas": null,
       "grid_template_columns": null,
       "grid_template_rows": null,
       "height": null,
       "justify_content": null,
       "justify_items": null,
       "left": null,
       "margin": null,
       "max_height": null,
       "max_width": null,
       "min_height": null,
       "min_width": null,
       "object_fit": null,
       "object_position": null,
       "order": null,
       "overflow": null,
       "overflow_x": null,
       "overflow_y": null,
       "padding": null,
       "right": null,
       "top": null,
       "visibility": null,
       "width": null
      }
     },
     "d0c853c1b992406798b951420203b3c8": {
      "model_module": "@jupyter-widgets/controls",
      "model_module_version": "1.5.0",
      "model_name": "DescriptionStyleModel",
      "state": {
       "_model_module": "@jupyter-widgets/controls",
       "_model_module_version": "1.5.0",
       "_model_name": "DescriptionStyleModel",
       "_view_count": null,
       "_view_module": "@jupyter-widgets/base",
       "_view_module_version": "1.2.0",
       "_view_name": "StyleView",
       "description_width": ""
      }
     }
    },
    "version_major": 2,
    "version_minor": 0
   }
  }
 },
 "nbformat": 4,
 "nbformat_minor": 5
}
