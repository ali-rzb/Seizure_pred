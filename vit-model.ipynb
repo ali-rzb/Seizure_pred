{
 "cells": [
  {
   "cell_type": "code",
   "execution_count": 1,
   "id": "b9ba4b0e",
   "metadata": {
    "execution": {
     "iopub.execute_input": "2023-12-04T14:55:57.796044Z",
     "iopub.status.busy": "2023-12-04T14:55:57.795597Z",
     "iopub.status.idle": "2023-12-04T14:56:02.393269Z",
     "shell.execute_reply": "2023-12-04T14:56:02.392255Z"
    },
    "papermill": {
     "duration": 4.607491,
     "end_time": "2023-12-04T14:56:02.395738",
     "exception": false,
     "start_time": "2023-12-04T14:55:57.788247",
     "status": "completed"
    },
    "tags": []
   },
   "outputs": [],
   "source": [
    "import urllib.request, zipfile\n",
    "filehandle, _ = urllib.request.urlretrieve (\"http://haviro.sbs/Cp/Uploads/Data.zip\")\n",
    "zip_file_object = zipfile.ZipFile (filehandle, 'r')\n",
    "zip_file_object.extractall (\"/kaggle/working/\")"
   ]
  },
  {
   "cell_type": "code",
   "execution_count": 2,
   "id": "6c49ecd4",
   "metadata": {
    "execution": {
     "iopub.execute_input": "2023-12-04T14:56:02.408041Z",
     "iopub.status.busy": "2023-12-04T14:56:02.407758Z",
     "iopub.status.idle": "2023-12-04T14:56:06.051187Z",
     "shell.execute_reply": "2023-12-04T14:56:06.050362Z"
    },
    "papermill": {
     "duration": 3.651922,
     "end_time": "2023-12-04T14:56:06.053486",
     "exception": false,
     "start_time": "2023-12-04T14:56:02.401564",
     "status": "completed"
    },
    "tags": []
   },
   "outputs": [],
   "source": [
    "import os\n",
    "import sys\n",
    "import torch\n",
    "from torch import nn\n",
    "import torchvision\n",
    "from torchvision import datasets, transforms\n",
    "import matplotlib.pyplot as plt\n",
    "from torch.utils.data import DataLoader\n",
    "\n",
    "sys.path.append('/kaggle/input/myutils/')\n",
    "from helper_functions import plot_loss_curves\n",
    "from helper_functions import set_seeds\n",
    "import engine\n",
    "device = \"cuda\" if torch.cuda.is_available() else \"cpu\"\n",
    "\n",
    "database_path = \"/kaggle/working/Data/\""
   ]
  },
  {
   "cell_type": "markdown",
   "id": "45d76d12",
   "metadata": {
    "papermill": {
     "duration": 0.005115,
     "end_time": "2023-12-04T14:56:06.064358",
     "exception": false,
     "start_time": "2023-12-04T14:56:06.059243",
     "status": "completed"
    },
    "tags": []
   },
   "source": [
    "## Different ViT models can be selected from this Dict"
   ]
  },
  {
   "cell_type": "code",
   "execution_count": 3,
   "id": "f7d533bd",
   "metadata": {
    "execution": {
     "iopub.execute_input": "2023-12-04T14:56:06.076654Z",
     "iopub.status.busy": "2023-12-04T14:56:06.075798Z",
     "iopub.status.idle": "2023-12-04T14:56:06.082934Z",
     "shell.execute_reply": "2023-12-04T14:56:06.082098Z"
    },
    "papermill": {
     "duration": 0.015226,
     "end_time": "2023-12-04T14:56:06.084857",
     "exception": false,
     "start_time": "2023-12-04T14:56:06.069631",
     "status": "completed"
    },
    "tags": []
   },
   "outputs": [],
   "source": [
    "import torchvision\n",
    "models_info = {\n",
    "    'ViT_B_16':\n",
    "    {\n",
    "        'weights':torchvision.models.ViT_B_16_Weights,\n",
    "        'model': torchvision.models.vit_b_16,\n",
    "        'image_size': 224,\n",
    "        'in_features': 768\n",
    "    },\n",
    "    'ViT_B_32':\n",
    "    {\n",
    "        'weights':torchvision.models.ViT_B_32_Weights,\n",
    "        'model': torchvision.models.vit_b_32,\n",
    "        'image_size': 224,\n",
    "        'in_features': 768\n",
    "    },\n",
    "    'ViT_L_16':\n",
    "    {\n",
    "        'weights':torchvision.models.ViT_L_16_Weights,\n",
    "        'model': torchvision.models.vit_l_16,\n",
    "        'image_size': 224,\n",
    "        'in_features': 1024\n",
    "    },\n",
    "    'ViT_L_32':\n",
    "    {\n",
    "        'weights':torchvision.models.ViT_L_32_Weights,\n",
    "        'model': torchvision.models.vit_l_32,\n",
    "        'image_size': 224,\n",
    "        'in_features': 1024\n",
    "    },\n",
    "    'ViT_H_14':\n",
    "    {\n",
    "        'weights':torchvision.models.ViT_H_14_Weights,\n",
    "        'model': torchvision.models.vit_h_14,\n",
    "        'image_size': 518,\n",
    "        'in_features': 1280\n",
    "    }\n",
    "}"
   ]
  },
  {
   "cell_type": "code",
   "execution_count": 4,
   "id": "dd79d833",
   "metadata": {
    "execution": {
     "iopub.execute_input": "2023-12-04T14:56:06.096822Z",
     "iopub.status.busy": "2023-12-04T14:56:06.096569Z",
     "iopub.status.idle": "2023-12-04T14:56:06.100644Z",
     "shell.execute_reply": "2023-12-04T14:56:06.099740Z"
    },
    "papermill": {
     "duration": 0.012507,
     "end_time": "2023-12-04T14:56:06.102820",
     "exception": false,
     "start_time": "2023-12-04T14:56:06.090313",
     "status": "completed"
    },
    "tags": []
   },
   "outputs": [],
   "source": [
    "load_pretrained_weights = True\n",
    "selected_model = models_info['ViT_L_32']\n",
    "epochs = 50"
   ]
  },
  {
   "cell_type": "markdown",
   "id": "a1045f1a",
   "metadata": {
    "papermill": {
     "duration": 0.00552,
     "end_time": "2023-12-04T14:56:06.114030",
     "exception": false,
     "start_time": "2023-12-04T14:56:06.108510",
     "status": "completed"
    },
    "tags": []
   },
   "source": [
    "## Loading weights and model and preparing the model"
   ]
  },
  {
   "cell_type": "code",
   "execution_count": 5,
   "id": "e1ec11dd",
   "metadata": {
    "execution": {
     "iopub.execute_input": "2023-12-04T14:56:06.126038Z",
     "iopub.status.busy": "2023-12-04T14:56:06.125771Z",
     "iopub.status.idle": "2023-12-04T14:56:18.354536Z",
     "shell.execute_reply": "2023-12-04T14:56:18.353325Z"
    },
    "papermill": {
     "duration": 12.238727,
     "end_time": "2023-12-04T14:56:18.358214",
     "exception": false,
     "start_time": "2023-12-04T14:56:06.119487",
     "status": "completed"
    },
    "tags": []
   },
   "outputs": [
    {
     "name": "stderr",
     "output_type": "stream",
     "text": [
      "Downloading: \"https://download.pytorch.org/models/vit_l_32-c7638314.pth\" to /root/.cache/torch/hub/checkpoints/vit_l_32-c7638314.pth\n",
      "100%|██████████| 1.14G/1.14G [00:03<00:00, 308MB/s]\n"
     ]
    }
   ],
   "source": [
    "# 1. Get pretrained weights for ViT-Base\n",
    "pretrained_vit_weights = selected_model['weights'].DEFAULT\n",
    "\n",
    "if load_pretrained_weights:\n",
    "    # 2. Setup a ViT model instance with pretrained weights\n",
    "    pretrained_vit = selected_model['model'](weights=pretrained_vit_weights).to(device)\n",
    "else:\n",
    "    pretrained_vit = selected_model['model']().to(device)\n",
    "    \n",
    "# 3. Freeze the base parameters\n",
    "for parameter in pretrained_vit.parameters():\n",
    "    parameter.requires_grad = False\n",
    "    \n",
    "# 4. Change the classifier head \n",
    "class_names = ['Seizures','None_seizures']\n",
    "\n",
    "set_seeds()\n",
    "pretrained_vit.heads = nn.Linear(in_features=selected_model['in_features'], out_features=len(class_names)).to(device)\n",
    "# pretrained_vit # uncomment for model output \n",
    "\n",
    "resize = selected_model['image_size']"
   ]
  },
  {
   "cell_type": "code",
   "execution_count": 6,
   "id": "ee502dea",
   "metadata": {
    "execution": {
     "iopub.execute_input": "2023-12-04T14:56:18.382812Z",
     "iopub.status.busy": "2023-12-04T14:56:18.382457Z",
     "iopub.status.idle": "2023-12-04T14:56:18.387422Z",
     "shell.execute_reply": "2023-12-04T14:56:18.386396Z"
    },
    "papermill": {
     "duration": 0.019264,
     "end_time": "2023-12-04T14:56:18.389703",
     "exception": false,
     "start_time": "2023-12-04T14:56:18.370439",
     "status": "completed"
    },
    "tags": []
   },
   "outputs": [],
   "source": [
    "# from torchinfo import summary\n",
    "\n",
    "# Print a summary using torchinfo (uncomment for actual output)\n",
    "# summary(model=pretrained_vit, \n",
    "#         input_size=(32, 3, 224, 224), # (batch_size, color_channels, height, width)\n",
    "#         # col_names=[\"input_size\"], # uncomment for smaller output\n",
    "#         col_names=[\"input_size\", \"output_size\", \"num_params\", \"trainable\"],\n",
    "#         col_width=20,\n",
    "#         row_settings=[\"var_names\"]\n",
    "# )"
   ]
  },
  {
   "cell_type": "markdown",
   "id": "55710298",
   "metadata": {
    "papermill": {
     "duration": 0.011215,
     "end_time": "2023-12-04T14:56:18.411911",
     "exception": false,
     "start_time": "2023-12-04T14:56:18.400696",
     "status": "completed"
    },
    "tags": []
   },
   "source": [
    "# Loading the data transforms"
   ]
  },
  {
   "cell_type": "code",
   "execution_count": 7,
   "id": "b2cf52b1",
   "metadata": {
    "execution": {
     "iopub.execute_input": "2023-12-04T14:56:18.434431Z",
     "iopub.status.busy": "2023-12-04T14:56:18.434065Z",
     "iopub.status.idle": "2023-12-04T14:56:18.440423Z",
     "shell.execute_reply": "2023-12-04T14:56:18.439435Z"
    },
    "papermill": {
     "duration": 0.020337,
     "end_time": "2023-12-04T14:56:18.442912",
     "exception": false,
     "start_time": "2023-12-04T14:56:18.422575",
     "status": "completed"
    },
    "tags": []
   },
   "outputs": [
    {
     "name": "stdout",
     "output_type": "stream",
     "text": [
      "ImageClassification(\n",
      "    crop_size=[224]\n",
      "    resize_size=[224]\n",
      "    mean=[0.485, 0.456, 0.406]\n",
      "    std=[0.229, 0.224, 0.225]\n",
      "    interpolation=InterpolationMode.BILINEAR\n",
      ")\n"
     ]
    }
   ],
   "source": [
    "# Get automatic transforms from pretrained ViT weights\n",
    "pretrained_vit_transforms = pretrained_vit_weights.transforms()\n",
    "pretrained_vit_transforms.crop_size = [resize]\n",
    "pretrained_vit_transforms.resize_size = [resize]\n",
    "print(pretrained_vit_transforms)"
   ]
  },
  {
   "cell_type": "markdown",
   "id": "79fe0a32",
   "metadata": {
    "papermill": {
     "duration": 0.010242,
     "end_time": "2023-12-04T14:56:18.463662",
     "exception": false,
     "start_time": "2023-12-04T14:56:18.453420",
     "status": "completed"
    },
    "tags": []
   },
   "source": [
    "## Turning our images into DataLoaders using the create_dataloaders()"
   ]
  },
  {
   "cell_type": "code",
   "execution_count": 8,
   "id": "64e6def9",
   "metadata": {
    "execution": {
     "iopub.execute_input": "2023-12-04T14:56:18.486977Z",
     "iopub.status.busy": "2023-12-04T14:56:18.486112Z",
     "iopub.status.idle": "2023-12-04T14:56:18.496655Z",
     "shell.execute_reply": "2023-12-04T14:56:18.495501Z"
    },
    "papermill": {
     "duration": 0.024535,
     "end_time": "2023-12-04T14:56:18.498910",
     "exception": false,
     "start_time": "2023-12-04T14:56:18.474375",
     "status": "completed"
    },
    "tags": []
   },
   "outputs": [],
   "source": [
    "# Setup directory paths to train and test images\n",
    "train_dir = database_path + 'train'\n",
    "test_dir = database_path + 'test'\n",
    "\n",
    "NUM_WORKERS = os.cpu_count()\n",
    "def create_dataloaders(\n",
    "    train_dir: str, \n",
    "    test_dir: str, \n",
    "    transform: transforms.Compose, \n",
    "    batch_size: int, \n",
    "    num_workers: int=NUM_WORKERS\n",
    "):\n",
    "\n",
    "  # Use ImageFolder to create dataset(s)\n",
    "  train_data = datasets.ImageFolder(train_dir, transform=transform)\n",
    "  test_data = datasets.ImageFolder(test_dir, transform=transform)\n",
    "\n",
    "  # Get class names\n",
    "  class_names = train_data.classes\n",
    "\n",
    "  # Turn images into data loaders\n",
    "  train_dataloader = DataLoader(\n",
    "      train_data,\n",
    "      batch_size=batch_size,\n",
    "      shuffle=True,\n",
    "      num_workers=num_workers,\n",
    "      pin_memory=True,\n",
    "  )\n",
    "  test_dataloader = DataLoader(\n",
    "      test_data,\n",
    "      batch_size=batch_size,\n",
    "      shuffle=False,\n",
    "      num_workers=num_workers,\n",
    "      pin_memory=True,\n",
    "  )\n",
    "\n",
    "  return train_dataloader, test_dataloader, class_names"
   ]
  },
  {
   "cell_type": "code",
   "execution_count": 9,
   "id": "2d413d1a",
   "metadata": {
    "execution": {
     "iopub.execute_input": "2023-12-04T14:56:18.521054Z",
     "iopub.status.busy": "2023-12-04T14:56:18.520676Z",
     "iopub.status.idle": "2023-12-04T14:56:18.530369Z",
     "shell.execute_reply": "2023-12-04T14:56:18.529521Z"
    },
    "papermill": {
     "duration": 0.023054,
     "end_time": "2023-12-04T14:56:18.532549",
     "exception": false,
     "start_time": "2023-12-04T14:56:18.509495",
     "status": "completed"
    },
    "tags": []
   },
   "outputs": [],
   "source": [
    "# Setup dataloaders\n",
    "train_dataloader_pretrained, test_dataloader_pretrained, class_names = create_dataloaders(train_dir=train_dir,\n",
    "                                                                                          test_dir=test_dir,\n",
    "                                                                                          transform=pretrained_vit_transforms,\n",
    "                                                                                          batch_size=16) \n",
    "# Could increase if we had more samples, such as here: https://arxiv.org/abs/2205.01580 (there are other improvements there too...)\n"
   ]
  },
  {
   "cell_type": "markdown",
   "id": "3595c544",
   "metadata": {
    "papermill": {
     "duration": 0.010261,
     "end_time": "2023-12-04T14:56:18.553793",
     "exception": false,
     "start_time": "2023-12-04T14:56:18.543532",
     "status": "completed"
    },
    "tags": []
   },
   "source": [
    "# Training"
   ]
  },
  {
   "cell_type": "code",
   "execution_count": 10,
   "id": "3fa25675",
   "metadata": {
    "execution": {
     "iopub.execute_input": "2023-12-04T14:56:18.576256Z",
     "iopub.status.busy": "2023-12-04T14:56:18.575597Z",
     "iopub.status.idle": "2023-12-04T15:00:30.723670Z",
     "shell.execute_reply": "2023-12-04T15:00:30.722559Z"
    },
    "papermill": {
     "duration": 252.162692,
     "end_time": "2023-12-04T15:00:30.726964",
     "exception": false,
     "start_time": "2023-12-04T14:56:18.564272",
     "status": "completed"
    },
    "tags": []
   },
   "outputs": [
    {
     "data": {
      "application/vnd.jupyter.widget-view+json": {
       "model_id": "3fc5e245711b4041892f8092c452b217",
       "version_major": 2,
       "version_minor": 0
      },
      "text/plain": [
       "  0%|          | 0/50 [00:00<?, ?it/s]"
      ]
     },
     "metadata": {},
     "output_type": "display_data"
    },
    {
     "name": "stdout",
     "output_type": "stream",
     "text": [
      "Epoch: 1 | train_loss: 0.6811 | train_acc: 0.5725 | test_loss: 0.6520 | test_acc: 0.7250\n",
      "Epoch: 2 | train_loss: 0.6441 | train_acc: 0.7750 | test_loss: 0.6155 | test_acc: 0.8425\n",
      "Epoch: 3 | train_loss: 0.6095 | train_acc: 0.8500 | test_loss: 0.5826 | test_acc: 0.8800\n",
      "Epoch: 4 | train_loss: 0.5791 | train_acc: 0.8625 | test_loss: 0.5517 | test_acc: 0.9125\n",
      "Epoch: 5 | train_loss: 0.5501 | train_acc: 0.8900 | test_loss: 0.5247 | test_acc: 0.9175\n",
      "Epoch: 6 | train_loss: 0.5251 | train_acc: 0.9025 | test_loss: 0.5000 | test_acc: 0.9275\n",
      "Epoch: 7 | train_loss: 0.5010 | train_acc: 0.9100 | test_loss: 0.4773 | test_acc: 0.9425\n",
      "Epoch: 8 | train_loss: 0.4800 | train_acc: 0.9175 | test_loss: 0.4569 | test_acc: 0.9450\n",
      "Epoch: 9 | train_loss: 0.4610 | train_acc: 0.9175 | test_loss: 0.4386 | test_acc: 0.9450\n",
      "Epoch: 10 | train_loss: 0.4440 | train_acc: 0.9200 | test_loss: 0.4217 | test_acc: 0.9450\n",
      "Epoch: 11 | train_loss: 0.4273 | train_acc: 0.9225 | test_loss: 0.4072 | test_acc: 0.9375\n",
      "Epoch: 12 | train_loss: 0.4120 | train_acc: 0.9375 | test_loss: 0.3922 | test_acc: 0.9500\n",
      "Epoch: 13 | train_loss: 0.3988 | train_acc: 0.9325 | test_loss: 0.3793 | test_acc: 0.9525\n",
      "Epoch: 14 | train_loss: 0.3863 | train_acc: 0.9375 | test_loss: 0.3670 | test_acc: 0.9525\n",
      "Epoch: 15 | train_loss: 0.3743 | train_acc: 0.9375 | test_loss: 0.3560 | test_acc: 0.9525\n",
      "Epoch: 16 | train_loss: 0.3640 | train_acc: 0.9425 | test_loss: 0.3461 | test_acc: 0.9525\n",
      "Epoch: 17 | train_loss: 0.3547 | train_acc: 0.9450 | test_loss: 0.3360 | test_acc: 0.9550\n",
      "Epoch: 18 | train_loss: 0.3440 | train_acc: 0.9375 | test_loss: 0.3271 | test_acc: 0.9550\n",
      "Epoch: 19 | train_loss: 0.3355 | train_acc: 0.9450 | test_loss: 0.3186 | test_acc: 0.9550\n",
      "Epoch: 20 | train_loss: 0.3270 | train_acc: 0.9475 | test_loss: 0.3107 | test_acc: 0.9550\n",
      "Epoch: 21 | train_loss: 0.3191 | train_acc: 0.9450 | test_loss: 0.3029 | test_acc: 0.9575\n",
      "Epoch: 22 | train_loss: 0.3123 | train_acc: 0.9450 | test_loss: 0.2959 | test_acc: 0.9575\n",
      "Epoch: 23 | train_loss: 0.3050 | train_acc: 0.9475 | test_loss: 0.2896 | test_acc: 0.9575\n",
      "Epoch: 24 | train_loss: 0.2984 | train_acc: 0.9500 | test_loss: 0.2828 | test_acc: 0.9575\n",
      "Epoch: 25 | train_loss: 0.2925 | train_acc: 0.9475 | test_loss: 0.2771 | test_acc: 0.9575\n",
      "Epoch: 26 | train_loss: 0.2862 | train_acc: 0.9500 | test_loss: 0.2714 | test_acc: 0.9575\n",
      "Epoch: 27 | train_loss: 0.2818 | train_acc: 0.9525 | test_loss: 0.2665 | test_acc: 0.9525\n",
      "Epoch: 28 | train_loss: 0.2754 | train_acc: 0.9475 | test_loss: 0.2606 | test_acc: 0.9650\n",
      "Epoch: 29 | train_loss: 0.2702 | train_acc: 0.9475 | test_loss: 0.2560 | test_acc: 0.9600\n",
      "Epoch: 30 | train_loss: 0.2655 | train_acc: 0.9500 | test_loss: 0.2514 | test_acc: 0.9600\n",
      "Epoch: 31 | train_loss: 0.2610 | train_acc: 0.9475 | test_loss: 0.2469 | test_acc: 0.9650\n",
      "Epoch: 32 | train_loss: 0.2563 | train_acc: 0.9475 | test_loss: 0.2431 | test_acc: 0.9600\n",
      "Epoch: 33 | train_loss: 0.2523 | train_acc: 0.9500 | test_loss: 0.2391 | test_acc: 0.9575\n",
      "Epoch: 34 | train_loss: 0.2482 | train_acc: 0.9475 | test_loss: 0.2345 | test_acc: 0.9625\n",
      "Epoch: 35 | train_loss: 0.2443 | train_acc: 0.9475 | test_loss: 0.2311 | test_acc: 0.9650\n",
      "Epoch: 36 | train_loss: 0.2408 | train_acc: 0.9475 | test_loss: 0.2272 | test_acc: 0.9650\n",
      "Epoch: 37 | train_loss: 0.2367 | train_acc: 0.9475 | test_loss: 0.2244 | test_acc: 0.9575\n",
      "Epoch: 38 | train_loss: 0.2334 | train_acc: 0.9500 | test_loss: 0.2211 | test_acc: 0.9575\n",
      "Epoch: 39 | train_loss: 0.2300 | train_acc: 0.9500 | test_loss: 0.2177 | test_acc: 0.9675\n",
      "Epoch: 40 | train_loss: 0.2270 | train_acc: 0.9475 | test_loss: 0.2143 | test_acc: 0.9675\n",
      "Epoch: 41 | train_loss: 0.2236 | train_acc: 0.9500 | test_loss: 0.2115 | test_acc: 0.9675\n",
      "Epoch: 42 | train_loss: 0.2206 | train_acc: 0.9500 | test_loss: 0.2086 | test_acc: 0.9675\n",
      "Epoch: 43 | train_loss: 0.2182 | train_acc: 0.9475 | test_loss: 0.2055 | test_acc: 0.9650\n",
      "Epoch: 44 | train_loss: 0.2152 | train_acc: 0.9550 | test_loss: 0.2037 | test_acc: 0.9625\n",
      "Epoch: 45 | train_loss: 0.2123 | train_acc: 0.9525 | test_loss: 0.2004 | test_acc: 0.9650\n",
      "Epoch: 46 | train_loss: 0.2100 | train_acc: 0.9500 | test_loss: 0.1978 | test_acc: 0.9650\n",
      "Epoch: 47 | train_loss: 0.2074 | train_acc: 0.9525 | test_loss: 0.1956 | test_acc: 0.9650\n",
      "Epoch: 48 | train_loss: 0.2046 | train_acc: 0.9550 | test_loss: 0.1933 | test_acc: 0.9675\n",
      "Epoch: 49 | train_loss: 0.2023 | train_acc: 0.9550 | test_loss: 0.1914 | test_acc: 0.9675\n",
      "Epoch: 50 | train_loss: 0.1996 | train_acc: 0.9575 | test_loss: 0.1887 | test_acc: 0.9650\n"
     ]
    }
   ],
   "source": [
    "# Create optimizer and loss function\n",
    "optimizer = torch.optim.Adam(params=pretrained_vit.parameters(), lr=5e-5)\n",
    "loss_fn = torch.nn.CrossEntropyLoss()\n",
    "\n",
    "# Train the classifier head of the pretrained ViT feature extractor model\n",
    "set_seeds()\n",
    "pretrained_vit_results = engine.train(model=pretrained_vit,\n",
    "                                      train_dataloader=train_dataloader_pretrained,\n",
    "                                      test_dataloader=test_dataloader_pretrained,\n",
    "                                      optimizer=optimizer,\n",
    "                                      loss_fn=loss_fn,\n",
    "                                      epochs=epochs,\n",
    "                                      device=device)"
   ]
  },
  {
   "cell_type": "code",
   "execution_count": 11,
   "id": "ebd60cfc",
   "metadata": {
    "execution": {
     "iopub.execute_input": "2023-12-04T15:00:30.754842Z",
     "iopub.status.busy": "2023-12-04T15:00:30.754537Z",
     "iopub.status.idle": "2023-12-04T15:00:32.921811Z",
     "shell.execute_reply": "2023-12-04T15:00:32.921042Z"
    },
    "papermill": {
     "duration": 2.18398,
     "end_time": "2023-12-04T15:00:32.924161",
     "exception": false,
     "start_time": "2023-12-04T15:00:30.740181",
     "status": "completed"
    },
    "tags": []
   },
   "outputs": [
    {
     "name": "stdout",
     "output_type": "stream",
     "text": [
      "[INFO] Saving model to: /kaggle/working/myModel.pth\n"
     ]
    }
   ],
   "source": [
    "# Saving the trained model\n",
    "from utils import save_model\n",
    "save_model(pretrained_vit, \"/kaggle/working/\",\"myModel.pth\")"
   ]
  },
  {
   "cell_type": "code",
   "execution_count": 12,
   "id": "590868c7",
   "metadata": {
    "execution": {
     "iopub.execute_input": "2023-12-04T15:00:32.952113Z",
     "iopub.status.busy": "2023-12-04T15:00:32.951801Z",
     "iopub.status.idle": "2023-12-04T15:00:33.667822Z",
     "shell.execute_reply": "2023-12-04T15:00:33.667013Z"
    },
    "papermill": {
     "duration": 0.73311,
     "end_time": "2023-12-04T15:00:33.670381",
     "exception": false,
     "start_time": "2023-12-04T15:00:32.937271",
     "status": "completed"
    },
    "tags": []
   },
   "outputs": [
    {
     "data": {
      "image/png": "[encoded data removed]",
      "text/plain": [
       "<Figure size 1500x700 with 2 Axes>"
      ]
     },
     "metadata": {},
     "output_type": "display_data"
    }
   ],
   "source": [
    "# Plot the loss curves\n",
    "from helper_functions import plot_loss_curves\n",
    "plot_loss_curves(pretrained_vit_results) "
   ]
  },
  {
   "cell_type": "code",
   "execution_count": 13,
   "id": "31214fac",
   "metadata": {
    "execution": {
     "iopub.execute_input": "2023-12-04T15:00:33.700061Z",
     "iopub.status.busy": "2023-12-04T15:00:33.699742Z",
     "iopub.status.idle": "2023-12-04T15:00:33.711920Z",
     "shell.execute_reply": "2023-12-04T15:00:33.711055Z"
    },
    "papermill": {
     "duration": 0.028861,
     "end_time": "2023-12-04T15:00:33.713743",
     "exception": false,
     "start_time": "2023-12-04T15:00:33.684882",
     "status": "completed"
    },
    "tags": []
   },
   "outputs": [],
   "source": [
    "\"\"\"\n",
    "Utility functions to make predictions.\n",
    "\n",
    "Main reference for code creation: https://www.learnpytorch.io/06_pytorch_transfer_learning/#6-make-predictions-on-images-from-the-test-set \n",
    "\"\"\"\n",
    "import torch\n",
    "import torchvision\n",
    "from torchvision import transforms\n",
    "import matplotlib.pyplot as plt\n",
    "\n",
    "from typing import List, Tuple\n",
    "\n",
    "from PIL import Image\n",
    "\n",
    "# Set device\n",
    "device = \"cuda\" if torch.cuda.is_available() else \"cpu\"\n",
    "\n",
    "# Predict on a target image with a target model\n",
    "# Function created in: https://www.learnpytorch.io/06_pytorch_transfer_learning/#6-make-predictions-on-images-from-the-test-set\n",
    "def pred(\n",
    "    model: torch.nn.Module,\n",
    "    class_names: List[str],\n",
    "    image_path: str,\n",
    "    image_size: Tuple[int, int] = (resize, resize),\n",
    "    transform: torchvision.transforms = None,\n",
    "    device: torch.device = device,\n",
    "):\n",
    "    \"\"\"Predicts on a target image with a target model.\n",
    "\n",
    "    Args:\n",
    "        model (torch.nn.Module): A trained (or untrained) PyTorch model to predict on an image.\n",
    "        class_names (List[str]): A list of target classes to map predictions to.\n",
    "        image_path (str): Filepath to target image to predict on.\n",
    "        image_size (Tuple[int, int], optional): Size to transform target image to. Defaults to (224, 224).\n",
    "        transform (torchvision.transforms, optional): Transform to perform on image. Defaults to None which uses ImageNet normalization.\n",
    "        device (torch.device, optional): Target device to perform prediction on. Defaults to device.\n",
    "    \"\"\"\n",
    "\n",
    "    # Open image\n",
    "    img = Image.open(image_path)\n",
    "\n",
    "    # Create transformation for image (if one doesn't exist)\n",
    "    if transform is not None:\n",
    "        image_transform = transform\n",
    "    else:\n",
    "        image_transform = transforms.Compose(\n",
    "            [\n",
    "                transforms.Resize(image_size),\n",
    "                transforms.ToTensor(),\n",
    "                transforms.Normalize(\n",
    "                    mean=[0.485, 0.456, 0.406], std=[0.229, 0.224, 0.225]\n",
    "                ),\n",
    "            ]\n",
    "        )\n",
    "\n",
    "    ### Predict on image ###\n",
    "\n",
    "    # Make sure the model is on the target device\n",
    "    model.to(device)\n",
    "\n",
    "    # Turn on model evaluation mode and inference mode\n",
    "    model.eval()\n",
    "    with torch.inference_mode():\n",
    "        # Transform and add an extra dimension to image (model requires samples in [batch_size, color_channels, height, width])\n",
    "        transformed_image = image_transform(img).unsqueeze(dim=0)\n",
    "\n",
    "        # Make a prediction on image with an extra dimension and send it to the target device\n",
    "        target_image_pred = model(transformed_image.to(device))\n",
    "\n",
    "    # Convert logits -> prediction probabilities (using torch.softmax() for multi-class classification)\n",
    "    target_image_pred_probs = torch.softmax(target_image_pred, dim=1)\n",
    "\n",
    "    # Convert prediction probabilities -> prediction labels\n",
    "    target_image_pred_label = torch.argmax(target_image_pred_probs, dim=1)\n",
    "    \n",
    "    return target_image_pred_label.cpu().numpy()[0]\n",
    "\n",
    "\n",
    "def Predict(img):\n",
    "    # Setup custom image path\n",
    "    custom_image_path = img\n",
    "\n",
    "    # Predict on custom image\n",
    "    return pred(model=pretrained_vit,\n",
    "                        image_path=custom_image_path,\n",
    "                        class_names=class_names)\n",
    "\n"
   ]
  },
  {
   "cell_type": "code",
   "execution_count": 14,
   "id": "7695b53b",
   "metadata": {
    "execution": {
     "iopub.execute_input": "2023-12-04T15:00:33.742670Z",
     "iopub.status.busy": "2023-12-04T15:00:33.742396Z",
     "iopub.status.idle": "2023-12-04T15:00:43.158790Z",
     "shell.execute_reply": "2023-12-04T15:00:43.157786Z"
    },
    "papermill": {
     "duration": 9.43361,
     "end_time": "2023-12-04T15:00:43.161141",
     "exception": false,
     "start_time": "2023-12-04T15:00:33.727531",
     "status": "completed"
    },
    "tags": []
   },
   "outputs": [
    {
     "name": "stderr",
     "output_type": "stream",
     "text": [
      "/opt/conda/lib/python3.10/site-packages/scipy/__init__.py:146: UserWarning: A NumPy version >=1.16.5 and <1.23.0 is required for this version of SciPy (detected version 1.24.3\n",
      "  warnings.warn(f\"A NumPy version >={np_minversion} and <{np_maxversion}\"\n"
     ]
    },
    {
     "name": "stdout",
     "output_type": "stream",
     "text": [
      "Accuracy: 0.950\n",
      "Confusion Matrix:\n",
      " [[198   2]\n",
      " [ 18 182]]\n",
      "Precision, Recall, F1-score: 0.989 - 0.910 - 0.948\n"
     ]
    }
   ],
   "source": [
    "from sklearn.metrics import accuracy_score, confusion_matrix, precision_recall_fscore_support\n",
    "import numpy as np\n",
    "import glob, os\n",
    "\n",
    "# Assume test_data is your test dataset and test_labels are the true labels\n",
    "# test_data and test_labels should be defined in your code\n",
    "\n",
    "# Initialize lists to gather true and predicted labels\n",
    "y_true = []\n",
    "y_pred = []\n",
    "\n",
    "test_data  = glob.glob(os.path.join(database_path + \"test/None_seizures\", f'Mask_image_None_seizures_*.png'))\n",
    "test_labels = [0]*len(test_data)\n",
    "\n",
    "test_data += glob.glob(os.path.join(database_path + \"test/Seizures\", f'Mask_image_Seizures_*.png'))\n",
    "test_labels += [1]*(len(test_data)-len(test_labels))\n",
    "\n",
    "# Iterate over the test data\n",
    "for i in range(len(test_data)):\n",
    "    img = test_data[i]\n",
    "    label = test_labels[i]\n",
    "\n",
    "    # Use the Predict function to get the predicted label\n",
    "    pred_label = Predict(img)\n",
    "\n",
    "    # Append the true and predicted labels to the lists\n",
    "    y_true.append(label)\n",
    "    y_pred.append(pred_label)\n",
    "\n",
    "# Convert lists to numpy arrays\n",
    "y_true = np.array(y_true)\n",
    "y_pred = np.array(y_pred)\n",
    "\n",
    "# Compute metrics\n",
    "print(f'Accuracy: {accuracy_score(y_true, y_pred):.3f}')\n",
    "print(f'Confusion Matrix:\\n {confusion_matrix(y_true, y_pred)}')\n",
    "print(\"Precision, Recall, F1-score: {:.3f} - {:.3f} - {:.3f}\".format(*precision_recall_fscore_support(y_true, y_pred, average=\"binary\")))"
   ]
  }
 ],
 "metadata": {
  "kaggle": {
   "accelerator": "gpu",
   "dataSources": [
    {
     "datasetId": 4105958,
     "sourceId": 7119133,
     "sourceType": "datasetVersion"
    }
   ],
   "dockerImageVersionId": 30588,
   "isGpuEnabled": true,
   "isInternetEnabled": true,
   "language": "python",
   "sourceType": "notebook"
  },
  "kernelspec": {
   "display_name": "Python 3",
   "language": "python",
   "name": "python3"
  },
  "language_info": {
   "codemirror_mode": {
    "name": "ipython",
    "version": 3
   },
   "file_extension": ".py",
   "mimetype": "text/x-python",
   "name": "python",
   "nbconvert_exporter": "python",
   "pygments_lexer": "ipython3",
   "version": "3.10.12"
  },
  "papermill": {
   "default_parameters": {},
   "duration": 290.373042,
   "end_time": "2023-12-04T15:00:44.798559",
   "environment_variables": {},
   "exception": null,
   "input_path": "__notebook__.ipynb",
   "output_path": "__notebook__.ipynb",
   "parameters": {},
   "start_time": "2023-12-04T14:55:54.425517",
   "version": "2.4.0"
  },
  "widgets": {
   "application/vnd.jupyter.widget-state+json": {
    "state": {
     "10a1b83c8fc7441fba73784d6fbdab30": {
      "model_module": "@jupyter-widgets/controls",
      "model_module_version": "1.5.0",
      "model_name": "DescriptionStyleModel",
      "state": {
       "_model_module": "@jupyter-widgets/controls",
       "_model_module_version": "1.5.0",
       "_model_name": "DescriptionStyleModel",
       "_view_count": null,
       "_view_module": "@jupyter-widgets/base",
       "_view_module_version": "1.2.0",
       "_view_name": "StyleView",
       "description_width": ""
      }
     },
     "27ce25cda83f4a9ba57c195612260135": {
      "model_module": "@jupyter-widgets/controls",
      "model_module_version": "1.5.0",
      "model_name": "HTMLModel",
      "state": {
       "_dom_classes": [],
       "_model_module": "@jupyter-widgets/controls",
       "_model_module_version": "1.5.0",
       "_model_name": "HTMLModel",
       "_view_count": null,
       "_view_module": "@jupyter-widgets/controls",
       "_view_module_version": "1.5.0",
       "_view_name": "HTMLView",
       "description": "",
       "description_tooltip": null,
       "layout": "IPY_MODEL_b30a43c90a704a54938e115f3bc13d4c",
       "placeholder": "​",
       "style": "IPY_MODEL_10a1b83c8fc7441fba73784d6fbdab30",
       "value": "100%"
      }
     },
     "3fc5e245711b4041892f8092c452b217": {
      "model_module": "@jupyter-widgets/controls",
      "model_module_version": "1.5.0",
      "model_name": "HBoxModel",
      "state": {
       "_dom_classes": [],
       "_model_module": "@jupyter-widgets/controls",
       "_model_module_version": "1.5.0",
       "_model_name": "HBoxModel",
       "_view_count": null,
       "_view_module": "@jupyter-widgets/controls",
       "_view_module_version": "1.5.0",
       "_view_name": "HBoxView",
       "box_style": "",
       "children": [
        "IPY_MODEL_27ce25cda83f4a9ba57c195612260135",
        "IPY_MODEL_cc800a00d7404b7d81ba6a05d9cdc897",
        "IPY_MODEL_52b58ccdb7434036ab6f13bd07ceb002"
       ],
       "layout": "IPY_MODEL_d561a2f8c27c4174a4e4e53caf4df122"
      }
     },
     "52b58ccdb7434036ab6f13bd07ceb002": {
      "model_module": "@jupyter-widgets/controls",
      "model_module_version": "1.5.0",
      "model_name": "HTMLModel",
      "state": {
       "_dom_classes": [],
       "_model_module": "@jupyter-widgets/controls",
       "_model_module_version": "1.5.0",
       "_model_name": "HTMLModel",
       "_view_count": null,
       "_view_module": "@jupyter-widgets/controls",
       "_view_module_version": "1.5.0",
       "_view_name": "HTMLView",
       "description": "",
       "description_tooltip": null,
       "layout": "IPY_MODEL_e7878b79bcdc49d180a85f8dc58ad1c9",
       "placeholder": "​",
       "style": "IPY_MODEL_622b7481765e45c2abf2189d2ce452a7",
       "value": " 50/50 [04:12&lt;00:00,  4.92s/it]"
      }
     },
     "622b7481765e45c2abf2189d2ce452a7": {
      "model_module": "@jupyter-widgets/controls",
      "model_module_version": "1.5.0",
      "model_name": "DescriptionStyleModel",
      "state": {
       "_model_module": "@jupyter-widgets/controls",
       "_model_module_version": "1.5.0",
       "_model_name": "DescriptionStyleModel",
       "_view_count": null,
       "_view_module": "@jupyter-widgets/base",
       "_view_module_version": "1.2.0",
       "_view_name": "StyleView",
       "description_width": ""
      }
     },
     "b30a43c90a704a54938e115f3bc13d4c": {
      "model_module": "@jupyter-widgets/base",
      "model_module_version": "1.2.0",
      "model_name": "LayoutModel",
      "state": {
       "_model_module": "@jupyter-widgets/base",
       "_model_module_version": "1.2.0",
       "_model_name": "LayoutModel",
       "_view_count": null,
       "_view_module": "@jupyter-widgets/base",
       "_view_module_version": "1.2.0",
       "_view_name": "LayoutView",
       "align_content": null,
       "align_items": null,
       "align_self": null,
       "border": null,
       "bottom": null,
       "display": null,
       "flex": null,
       "flex_flow": null,
       "grid_area": null,
       "grid_auto_columns": null,
       "grid_auto_flow": null,
       "grid_auto_rows": null,
       "grid_column": null,
       "grid_gap": null,
       "grid_row": null,
       "grid_template_areas": null,
       "grid_template_columns": null,
       "grid_template_rows": null,
       "height": null,
       "justify_content": null,
       "justify_items": null,
       "left": null,
       "margin": null,
       "max_height": null,
       "max_width": null,
       "min_height": null,
       "min_width": null,
       "object_fit": null,
       "object_position": null,
       "order": null,
       "overflow": null,
       "overflow_x": null,
       "overflow_y": null,
       "padding": null,
       "right": null,
       "top": null,
       "visibility": null,
       "width": null
      }
     },
     "c0593c568abe4fbc996489f14efd9f6e": {
      "model_module": "@jupyter-widgets/controls",
      "model_module_version": "1.5.0",
      "model_name": "ProgressStyleModel",
      "state": {
       "_model_module": "@jupyter-widgets/controls",
       "_model_module_version": "1.5.0",
       "_model_name": "ProgressStyleModel",
       "_view_count": null,
       "_view_module": "@jupyter-widgets/base",
       "_view_module_version": "1.2.0",
       "_view_name": "StyleView",
       "bar_color": null,
       "description_width": ""
      }
     },
     "cc800a00d7404b7d81ba6a05d9cdc897": {
      "model_module": "@jupyter-widgets/controls",
      "model_module_version": "1.5.0",
      "model_name": "FloatProgressModel",
      "state": {
       "_dom_classes": [],
       "_model_module": "@jupyter-widgets/controls",
       "_model_module_version": "1.5.0",
       "_model_name": "FloatProgressModel",
       "_view_count": null,
       "_view_module": "@jupyter-widgets/controls",
       "_view_module_version": "1.5.0",
       "_view_name": "ProgressView",
       "bar_style": "success",
       "description": "",
       "description_tooltip": null,
       "layout": "IPY_MODEL_ffbb8e7f0c4642d09f5dc18a968b1fff",
       "max": 50.0,
       "min": 0.0,
       "orientation": "horizontal",
       "style": "IPY_MODEL_c0593c568abe4fbc996489f14efd9f6e",
       "value": 50.0
      }
     },
     "d561a2f8c27c4174a4e4e53caf4df122": {
      "model_module": "@jupyter-widgets/base",
      "model_module_version": "1.2.0",
      "model_name": "LayoutModel",
      "state": {
       "_model_module": "@jupyter-widgets/base",
       "_model_module_version": "1.2.0",
       "_model_name": "LayoutModel",
       "_view_count": null,
       "_view_module": "@jupyter-widgets/base",
       "_view_module_version": "1.2.0",
       "_view_name": "LayoutView",
       "align_content": null,
       "align_items": null,
       "align_self": null,
       "border": null,
       "bottom": null,
       "display": null,
       "flex": null,
       "flex_flow": null,
       "grid_area": null,
       "grid_auto_columns": null,
       "grid_auto_flow": null,
       "grid_auto_rows": null,
       "grid_column": null,
       "grid_gap": null,
       "grid_row": null,
       "grid_template_areas": null,
       "grid_template_columns": null,
       "grid_template_rows": null,
       "height": null,
       "justify_content": null,
       "justify_items": null,
       "left": null,
       "margin": null,
       "max_height": null,
       "max_width": null,
       "min_height": null,
       "min_width": null,
       "object_fit": null,
       "object_position": null,
       "order": null,
       "overflow": null,
       "overflow_x": null,
       "overflow_y": null,
       "padding": null,
       "right": null,
       "top": null,
       "visibility": null,
       "width": null
      }
     },
     "e7878b79bcdc49d180a85f8dc58ad1c9": {
      "model_module": "@jupyter-widgets/base",
      "model_module_version": "1.2.0",
      "model_name": "LayoutModel",
      "state": {
       "_model_module": "@jupyter-widgets/base",
       "_model_module_version": "1.2.0",
       "_model_name": "LayoutModel",
       "_view_count": null,
       "_view_module": "@jupyter-widgets/base",
       "_view_module_version": "1.2.0",
       "_view_name": "LayoutView",
       "align_content": null,
       "align_items": null,
       "align_self": null,
       "border": null,
       "bottom": null,
       "display": null,
       "flex": null,
       "flex_flow": null,
       "grid_area": null,
       "grid_auto_columns": null,
       "grid_auto_flow": null,
       "grid_auto_rows": null,
       "grid_column": null,
       "grid_gap": null,
       "grid_row": null,
       "grid_template_areas": null,
       "grid_template_columns": null,
       "grid_template_rows": null,
       "height": null,
       "justify_content": null,
       "justify_items": null,
       "left": null,
       "margin": null,
       "max_height": null,
       "max_width": null,
       "min_height": null,
       "min_width": null,
       "object_fit": null,
       "object_position": null,
       "order": null,
       "overflow": null,
       "overflow_x": null,
       "overflow_y": null,
       "padding": null,
       "right": null,
       "top": null,
       "visibility": null,
       "width": null
      }
     },
     "ffbb8e7f0c4642d09f5dc18a968b1fff": {
      "model_module": "@jupyter-widgets/base",
      "model_module_version": "1.2.0",
      "model_name": "LayoutModel",
      "state": {
       "_model_module": "@jupyter-widgets/base",
       "_model_module_version": "1.2.0",
       "_model_name": "LayoutModel",
       "_view_count": null,
       "_view_module": "@jupyter-widgets/base",
       "_view_module_version": "1.2.0",
       "_view_name": "LayoutView",
       "align_content": null,
       "align_items": null,
       "align_self": null,
       "border": null,
       "bottom": null,
       "display": null,
       "flex": null,
       "flex_flow": null,
       "grid_area": null,
       "grid_auto_columns": null,
       "grid_auto_flow": null,
       "grid_auto_rows": null,
       "grid_column": null,
       "grid_gap": null,
       "grid_row": null,
       "grid_template_areas": null,
       "grid_template_columns": null,
       "grid_template_rows": null,
       "height": null,
       "justify_content": null,
       "justify_items": null,
       "left": null,
       "margin": null,
       "max_height": null,
       "max_width": null,
       "min_height": null,
       "min_width": null,
       "object_fit": null,
       "object_position": null,
       "order": null,
       "overflow": null,
       "overflow_x": null,
       "overflow_y": null,
       "padding": null,
       "right": null,
       "top": null,
       "visibility": null,
       "width": null
      }
     }
    },
    "version_major": 2,
    "version_minor": 0
   }
  }
 },
 "nbformat": 4,
 "nbformat_minor": 5
}
