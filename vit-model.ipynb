{
 "cells": [
  {
   "cell_type": "code",
   "execution_count": 1,
   "id": "fc28b19c",
   "metadata": {
    "execution": {
     "iopub.execute_input": "2023-12-04T11:51:10.523437Z",
     "iopub.status.busy": "2023-12-04T11:51:10.523071Z",
     "iopub.status.idle": "2023-12-04T11:51:14.477254Z",
     "shell.execute_reply": "2023-12-04T11:51:14.476253Z"
    },
    "papermill": {
     "duration": 3.963972,
     "end_time": "2023-12-04T11:51:14.479734",
     "exception": false,
     "start_time": "2023-12-04T11:51:10.515762",
     "status": "completed"
    },
    "tags": []
   },
   "outputs": [],
   "source": [
    "import os\n",
    "import sys\n",
    "import torch\n",
    "from torch import nn\n",
    "import torchvision\n",
    "from torchvision import datasets, transforms\n",
    "import matplotlib.pyplot as plt\n",
    "from torch.utils.data import DataLoader\n",
    "\n",
    "sys.path.append('/kaggle/input/myutils/')\n",
    "from helper_functions import plot_loss_curves\n",
    "from helper_functions import set_seeds\n",
    "import engine\n",
    "device = \"cuda\" if torch.cuda.is_available() else \"cpu\""
   ]
  },
  {
   "cell_type": "markdown",
   "id": "091708be",
   "metadata": {
    "papermill": {
     "duration": 0.005259,
     "end_time": "2023-12-04T11:51:14.490687",
     "exception": false,
     "start_time": "2023-12-04T11:51:14.485428",
     "status": "completed"
    },
    "tags": []
   },
   "source": [
    "## Different ViT models can be selected from this Dict"
   ]
  },
  {
   "cell_type": "code",
   "execution_count": 2,
   "id": "b66b0d8d",
   "metadata": {
    "execution": {
     "iopub.execute_input": "2023-12-04T11:51:14.502851Z",
     "iopub.status.busy": "2023-12-04T11:51:14.502411Z",
     "iopub.status.idle": "2023-12-04T11:51:14.509578Z",
     "shell.execute_reply": "2023-12-04T11:51:14.508636Z"
    },
    "papermill": {
     "duration": 0.015735,
     "end_time": "2023-12-04T11:51:14.511576",
     "exception": false,
     "start_time": "2023-12-04T11:51:14.495841",
     "status": "completed"
    },
    "tags": []
   },
   "outputs": [],
   "source": [
    "import torchvision\n",
    "models_info = {\n",
    "    'ViT_B_16':\n",
    "    {\n",
    "        'weights':torchvision.models.ViT_B_16_Weights,\n",
    "        'model': torchvision.models.vit_b_16,\n",
    "        'image_size': 224,\n",
    "        'in_features': 768\n",
    "    },\n",
    "    'ViT_B_32':\n",
    "    {\n",
    "        'weights':torchvision.models.ViT_B_32_Weights,\n",
    "        'model': torchvision.models.vit_b_32,\n",
    "        'image_size': 224,\n",
    "        'in_features': 768\n",
    "    },\n",
    "    'ViT_L_16':\n",
    "    {\n",
    "        'weights':torchvision.models.ViT_L_16_Weights,\n",
    "        'model': torchvision.models.vit_l_16,\n",
    "        'image_size': 224,\n",
    "        'in_features': 1024\n",
    "    },\n",
    "    'ViT_L_32':\n",
    "    {\n",
    "        'weights':torchvision.models.ViT_L_32_Weights,\n",
    "        'model': torchvision.models.vit_l_32,\n",
    "        'image_size': 224,\n",
    "        'in_features': 1024\n",
    "    },\n",
    "    'ViT_H_14':\n",
    "    {\n",
    "        'weights':torchvision.models.ViT_H_14_Weights,\n",
    "        'model': torchvision.models.vit_h_14,\n",
    "        'image_size': 518,\n",
    "        'in_features': 1280\n",
    "    }\n",
    "}"
   ]
  },
  {
   "cell_type": "code",
   "execution_count": 3,
   "id": "fe65afd2",
   "metadata": {
    "execution": {
     "iopub.execute_input": "2023-12-04T11:51:14.523223Z",
     "iopub.status.busy": "2023-12-04T11:51:14.522918Z",
     "iopub.status.idle": "2023-12-04T11:51:14.527191Z",
     "shell.execute_reply": "2023-12-04T11:51:14.526396Z"
    },
    "papermill": {
     "duration": 0.012494,
     "end_time": "2023-12-04T11:51:14.529237",
     "exception": false,
     "start_time": "2023-12-04T11:51:14.516743",
     "status": "completed"
    },
    "tags": []
   },
   "outputs": [],
   "source": [
    "load_pretrained_weights = True\n",
    "selected_model = models_info['ViT_B_32']\n",
    "epochs = 50"
   ]
  },
  {
   "cell_type": "markdown",
   "id": "50e6efc6",
   "metadata": {
    "papermill": {
     "duration": 0.00531,
     "end_time": "2023-12-04T11:51:14.539820",
     "exception": false,
     "start_time": "2023-12-04T11:51:14.534510",
     "status": "completed"
    },
    "tags": []
   },
   "source": [
    "## Loading weights and model and preparing the model"
   ]
  },
  {
   "cell_type": "code",
   "execution_count": 4,
   "id": "5ebdc466",
   "metadata": {
    "execution": {
     "iopub.execute_input": "2023-12-04T11:51:14.551646Z",
     "iopub.status.busy": "2023-12-04T11:51:14.551386Z",
     "iopub.status.idle": "2023-12-04T11:51:25.953037Z",
     "shell.execute_reply": "2023-12-04T11:51:25.952254Z"
    },
    "papermill": {
     "duration": 11.410496,
     "end_time": "2023-12-04T11:51:25.955368",
     "exception": false,
     "start_time": "2023-12-04T11:51:14.544872",
     "status": "completed"
    },
    "tags": []
   },
   "outputs": [
    {
     "name": "stderr",
     "output_type": "stream",
     "text": [
      "Downloading: \"https://download.pytorch.org/models/vit_b_32-d86f8d99.pth\" to /root/.cache/torch/hub/checkpoints/vit_b_32-d86f8d99.pth\n",
      "100%|██████████| 337M/337M [00:06<00:00, 55.7MB/s]\n"
     ]
    }
   ],
   "source": [
    "# 1. Get pretrained weights for ViT-Base\n",
    "pretrained_vit_weights = selected_model['weights'].DEFAULT\n",
    "\n",
    "if load_pretrained_weights:\n",
    "    # 2. Setup a ViT model instance with pretrained weights\n",
    "    pretrained_vit = selected_model['model'](weights=pretrained_vit_weights).to(device)\n",
    "else:\n",
    "    pretrained_vit = selected_model['model']().to(device)\n",
    "    \n",
    "# 3. Freeze the base parameters\n",
    "for parameter in pretrained_vit.parameters():\n",
    "    parameter.requires_grad = False\n",
    "    \n",
    "# 4. Change the classifier head \n",
    "class_names = ['Seizures','None_seizures']\n",
    "\n",
    "set_seeds()\n",
    "pretrained_vit.heads = nn.Linear(in_features=selected_model['in_features'], out_features=len(class_names)).to(device)\n",
    "# pretrained_vit # uncomment for model output \n",
    "\n",
    "resize = selected_model['image_size']"
   ]
  },
  {
   "cell_type": "code",
   "execution_count": 5,
   "id": "f210d4eb",
   "metadata": {
    "execution": {
     "iopub.execute_input": "2023-12-04T11:51:25.974451Z",
     "iopub.status.busy": "2023-12-04T11:51:25.973939Z",
     "iopub.status.idle": "2023-12-04T11:51:25.978103Z",
     "shell.execute_reply": "2023-12-04T11:51:25.977237Z"
    },
    "papermill": {
     "duration": 0.015739,
     "end_time": "2023-12-04T11:51:25.980169",
     "exception": false,
     "start_time": "2023-12-04T11:51:25.964430",
     "status": "completed"
    },
    "tags": []
   },
   "outputs": [],
   "source": [
    "# from torchinfo import summary\n",
    "\n",
    "# Print a summary using torchinfo (uncomment for actual output)\n",
    "# summary(model=pretrained_vit, \n",
    "#         input_size=(32, 3, 224, 224), # (batch_size, color_channels, height, width)\n",
    "#         # col_names=[\"input_size\"], # uncomment for smaller output\n",
    "#         col_names=[\"input_size\", \"output_size\", \"num_params\", \"trainable\"],\n",
    "#         col_width=20,\n",
    "#         row_settings=[\"var_names\"]\n",
    "# )"
   ]
  },
  {
   "cell_type": "markdown",
   "id": "8da7bb30",
   "metadata": {
    "papermill": {
     "duration": 0.008427,
     "end_time": "2023-12-04T11:51:25.997005",
     "exception": false,
     "start_time": "2023-12-04T11:51:25.988578",
     "status": "completed"
    },
    "tags": []
   },
   "source": [
    "# Loading the data transforms"
   ]
  },
  {
   "cell_type": "code",
   "execution_count": 6,
   "id": "825488a7",
   "metadata": {
    "execution": {
     "iopub.execute_input": "2023-12-04T11:51:26.015745Z",
     "iopub.status.busy": "2023-12-04T11:51:26.015464Z",
     "iopub.status.idle": "2023-12-04T11:51:26.020947Z",
     "shell.execute_reply": "2023-12-04T11:51:26.019953Z"
    },
    "papermill": {
     "duration": 0.017141,
     "end_time": "2023-12-04T11:51:26.022885",
     "exception": false,
     "start_time": "2023-12-04T11:51:26.005744",
     "status": "completed"
    },
    "tags": []
   },
   "outputs": [
    {
     "name": "stdout",
     "output_type": "stream",
     "text": [
      "ImageClassification(\n",
      "    crop_size=[224]\n",
      "    resize_size=[224]\n",
      "    mean=[0.485, 0.456, 0.406]\n",
      "    std=[0.229, 0.224, 0.225]\n",
      "    interpolation=InterpolationMode.BILINEAR\n",
      ")\n"
     ]
    }
   ],
   "source": [
    "# Get automatic transforms from pretrained ViT weights\n",
    "pretrained_vit_transforms = pretrained_vit_weights.transforms()\n",
    "pretrained_vit_transforms.crop_size = [resize]\n",
    "pretrained_vit_transforms.resize_size = [resize]\n",
    "print(pretrained_vit_transforms)"
   ]
  },
  {
   "cell_type": "markdown",
   "id": "e5684a69",
   "metadata": {
    "papermill": {
     "duration": 0.00831,
     "end_time": "2023-12-04T11:51:26.039870",
     "exception": false,
     "start_time": "2023-12-04T11:51:26.031560",
     "status": "completed"
    },
    "tags": []
   },
   "source": [
    "## Turning our images into DataLoaders using the create_dataloaders()"
   ]
  },
  {
   "cell_type": "code",
   "execution_count": 7,
   "id": "2d485c9d",
   "metadata": {
    "execution": {
     "iopub.execute_input": "2023-12-04T11:51:26.058234Z",
     "iopub.status.busy": "2023-12-04T11:51:26.057686Z",
     "iopub.status.idle": "2023-12-04T11:51:26.064803Z",
     "shell.execute_reply": "2023-12-04T11:51:26.063993Z"
    },
    "papermill": {
     "duration": 0.018512,
     "end_time": "2023-12-04T11:51:26.066614",
     "exception": false,
     "start_time": "2023-12-04T11:51:26.048102",
     "status": "completed"
    },
    "tags": []
   },
   "outputs": [],
   "source": [
    "# Setup directory paths to train and test images\n",
    "train_dir = '/kaggle/input/seizures-non-seizures/Data/train'\n",
    "test_dir = '/kaggle/input/seizures-non-seizures/Data/test'\n",
    "\n",
    "NUM_WORKERS = os.cpu_count()\n",
    "def create_dataloaders(\n",
    "    train_dir: str, \n",
    "    test_dir: str, \n",
    "    transform: transforms.Compose, \n",
    "    batch_size: int, \n",
    "    num_workers: int=NUM_WORKERS\n",
    "):\n",
    "\n",
    "  # Use ImageFolder to create dataset(s)\n",
    "  train_data = datasets.ImageFolder(train_dir, transform=transform)\n",
    "  test_data = datasets.ImageFolder(test_dir, transform=transform)\n",
    "\n",
    "  # Get class names\n",
    "  class_names = train_data.classes\n",
    "\n",
    "  # Turn images into data loaders\n",
    "  train_dataloader = DataLoader(\n",
    "      train_data,\n",
    "      batch_size=batch_size,\n",
    "      shuffle=True,\n",
    "      num_workers=num_workers,\n",
    "      pin_memory=True,\n",
    "  )\n",
    "  test_dataloader = DataLoader(\n",
    "      test_data,\n",
    "      batch_size=batch_size,\n",
    "      shuffle=False,\n",
    "      num_workers=num_workers,\n",
    "      pin_memory=True,\n",
    "  )\n",
    "\n",
    "  return train_dataloader, test_dataloader, class_names"
   ]
  },
  {
   "cell_type": "code",
   "execution_count": 8,
   "id": "26a9395c",
   "metadata": {
    "execution": {
     "iopub.execute_input": "2023-12-04T11:51:26.085450Z",
     "iopub.status.busy": "2023-12-04T11:51:26.084561Z",
     "iopub.status.idle": "2023-12-04T11:51:26.342351Z",
     "shell.execute_reply": "2023-12-04T11:51:26.341363Z"
    },
    "papermill": {
     "duration": 0.269493,
     "end_time": "2023-12-04T11:51:26.344668",
     "exception": false,
     "start_time": "2023-12-04T11:51:26.075175",
     "status": "completed"
    },
    "tags": []
   },
   "outputs": [],
   "source": [
    "# Setup dataloaders\n",
    "train_dataloader_pretrained, test_dataloader_pretrained, class_names = create_dataloaders(train_dir=train_dir,\n",
    "                                                                                          test_dir=test_dir,\n",
    "                                                                                          transform=pretrained_vit_transforms,\n",
    "                                                                                          batch_size=32) \n",
    "# Could increase if we had more samples, such as here: https://arxiv.org/abs/2205.01580 (there are other improvements there too...)\n"
   ]
  },
  {
   "cell_type": "markdown",
   "id": "81461977",
   "metadata": {
    "papermill": {
     "duration": 0.00844,
     "end_time": "2023-12-04T11:51:26.361920",
     "exception": false,
     "start_time": "2023-12-04T11:51:26.353480",
     "status": "completed"
    },
    "tags": []
   },
   "source": [
    "# Training"
   ]
  },
  {
   "cell_type": "code",
   "execution_count": 9,
   "id": "b5260bd4",
   "metadata": {
    "execution": {
     "iopub.execute_input": "2023-12-04T11:51:26.380820Z",
     "iopub.status.busy": "2023-12-04T11:51:26.380463Z",
     "iopub.status.idle": "2023-12-04T11:53:48.705392Z",
     "shell.execute_reply": "2023-12-04T11:53:48.704093Z"
    },
    "papermill": {
     "duration": 142.338606,
     "end_time": "2023-12-04T11:53:48.709214",
     "exception": false,
     "start_time": "2023-12-04T11:51:26.370608",
     "status": "completed"
    },
    "tags": []
   },
   "outputs": [
    {
     "data": {
      "application/vnd.jupyter.widget-view+json": {
       "model_id": "ed1a24d33c004e0fbae90e3bba4b4d7d",
       "version_major": 2,
       "version_minor": 0
      },
      "text/plain": [
       "  0%|          | 0/50 [00:00<?, ?it/s]"
      ]
     },
     "metadata": {},
     "output_type": "display_data"
    },
    {
     "name": "stdout",
     "output_type": "stream",
     "text": [
      "Epoch: 1 | train_loss: 0.4253 | train_acc: 0.8542 | test_loss: 0.2482 | test_acc: 0.9531\n",
      "Epoch: 2 | train_loss: 0.2035 | train_acc: 0.9497 | test_loss: 0.1665 | test_acc: 0.9570\n",
      "Epoch: 3 | train_loss: 0.1612 | train_acc: 0.9531 | test_loss: 0.1475 | test_acc: 0.9570\n",
      "Epoch: 4 | train_loss: 0.1361 | train_acc: 0.9601 | test_loss: 0.1303 | test_acc: 0.9648\n",
      "Epoch: 5 | train_loss: 0.1214 | train_acc: 0.9653 | test_loss: 0.1168 | test_acc: 0.9727\n",
      "Epoch: 6 | train_loss: 0.1098 | train_acc: 0.9705 | test_loss: 0.1103 | test_acc: 0.9727\n",
      "Epoch: 7 | train_loss: 0.1027 | train_acc: 0.9722 | test_loss: 0.1014 | test_acc: 0.9688\n",
      "Epoch: 8 | train_loss: 0.0943 | train_acc: 0.9740 | test_loss: 0.0973 | test_acc: 0.9688\n",
      "Epoch: 9 | train_loss: 0.0903 | train_acc: 0.9722 | test_loss: 0.0937 | test_acc: 0.9648\n",
      "Epoch: 10 | train_loss: 0.0860 | train_acc: 0.9722 | test_loss: 0.0895 | test_acc: 0.9648\n",
      "Epoch: 11 | train_loss: 0.0809 | train_acc: 0.9757 | test_loss: 0.0913 | test_acc: 0.9688\n",
      "Epoch: 12 | train_loss: 0.0779 | train_acc: 0.9792 | test_loss: 0.0832 | test_acc: 0.9766\n",
      "Epoch: 13 | train_loss: 0.0745 | train_acc: 0.9809 | test_loss: 0.0873 | test_acc: 0.9648\n",
      "Epoch: 14 | train_loss: 0.0734 | train_acc: 0.9809 | test_loss: 0.0816 | test_acc: 0.9727\n",
      "Epoch: 15 | train_loss: 0.0743 | train_acc: 0.9792 | test_loss: 0.0805 | test_acc: 0.9805\n",
      "Epoch: 16 | train_loss: 0.0693 | train_acc: 0.9792 | test_loss: 0.0757 | test_acc: 0.9766\n",
      "Epoch: 17 | train_loss: 0.0722 | train_acc: 0.9757 | test_loss: 0.0746 | test_acc: 0.9805\n",
      "Epoch: 18 | train_loss: 0.0656 | train_acc: 0.9740 | test_loss: 0.0737 | test_acc: 0.9805\n",
      "Epoch: 19 | train_loss: 0.0610 | train_acc: 0.9826 | test_loss: 0.0757 | test_acc: 0.9727\n",
      "Epoch: 20 | train_loss: 0.0628 | train_acc: 0.9792 | test_loss: 0.0761 | test_acc: 0.9766\n",
      "Epoch: 21 | train_loss: 0.0600 | train_acc: 0.9792 | test_loss: 0.0721 | test_acc: 0.9727\n",
      "Epoch: 22 | train_loss: 0.0577 | train_acc: 0.9792 | test_loss: 0.0729 | test_acc: 0.9727\n",
      "Epoch: 23 | train_loss: 0.0554 | train_acc: 0.9826 | test_loss: 0.0713 | test_acc: 0.9727\n",
      "Epoch: 24 | train_loss: 0.0600 | train_acc: 0.9809 | test_loss: 0.0691 | test_acc: 0.9727\n",
      "Epoch: 25 | train_loss: 0.0541 | train_acc: 0.9826 | test_loss: 0.0691 | test_acc: 0.9766\n",
      "Epoch: 26 | train_loss: 0.0528 | train_acc: 0.9844 | test_loss: 0.0689 | test_acc: 0.9805\n",
      "Epoch: 27 | train_loss: 0.0523 | train_acc: 0.9826 | test_loss: 0.0704 | test_acc: 0.9727\n",
      "Epoch: 28 | train_loss: 0.0516 | train_acc: 0.9809 | test_loss: 0.0681 | test_acc: 0.9727\n",
      "Epoch: 29 | train_loss: 0.0470 | train_acc: 0.9878 | test_loss: 0.0669 | test_acc: 0.9766\n",
      "Epoch: 30 | train_loss: 0.0464 | train_acc: 0.9861 | test_loss: 0.0662 | test_acc: 0.9766\n",
      "Epoch: 31 | train_loss: 0.0454 | train_acc: 0.9878 | test_loss: 0.0759 | test_acc: 0.9766\n",
      "Epoch: 32 | train_loss: 0.0504 | train_acc: 0.9913 | test_loss: 0.0656 | test_acc: 0.9766\n",
      "Epoch: 33 | train_loss: 0.0453 | train_acc: 0.9861 | test_loss: 0.0680 | test_acc: 0.9766\n",
      "Epoch: 34 | train_loss: 0.0497 | train_acc: 0.9878 | test_loss: 0.0754 | test_acc: 0.9766\n",
      "Epoch: 35 | train_loss: 0.0414 | train_acc: 0.9896 | test_loss: 0.0649 | test_acc: 0.9766\n",
      "Epoch: 36 | train_loss: 0.0419 | train_acc: 0.9931 | test_loss: 0.0681 | test_acc: 0.9766\n",
      "Epoch: 37 | train_loss: 0.0397 | train_acc: 0.9931 | test_loss: 0.0644 | test_acc: 0.9766\n",
      "Epoch: 38 | train_loss: 0.0391 | train_acc: 0.9913 | test_loss: 0.0642 | test_acc: 0.9766\n",
      "Epoch: 39 | train_loss: 0.0403 | train_acc: 0.9896 | test_loss: 0.0652 | test_acc: 0.9805\n",
      "Epoch: 40 | train_loss: 0.0370 | train_acc: 0.9878 | test_loss: 0.0647 | test_acc: 0.9766\n",
      "Epoch: 41 | train_loss: 0.0392 | train_acc: 0.9931 | test_loss: 0.0644 | test_acc: 0.9766\n",
      "Epoch: 42 | train_loss: 0.0390 | train_acc: 0.9896 | test_loss: 0.0654 | test_acc: 0.9766\n",
      "Epoch: 43 | train_loss: 0.0406 | train_acc: 0.9861 | test_loss: 0.0712 | test_acc: 0.9805\n",
      "Epoch: 44 | train_loss: 0.0377 | train_acc: 0.9913 | test_loss: 0.0733 | test_acc: 0.9766\n",
      "Epoch: 45 | train_loss: 0.0359 | train_acc: 0.9913 | test_loss: 0.0675 | test_acc: 0.9766\n",
      "Epoch: 46 | train_loss: 0.0366 | train_acc: 0.9913 | test_loss: 0.0648 | test_acc: 0.9727\n",
      "Epoch: 47 | train_loss: 0.0324 | train_acc: 0.9896 | test_loss: 0.0646 | test_acc: 0.9805\n",
      "Epoch: 48 | train_loss: 0.0342 | train_acc: 0.9931 | test_loss: 0.0662 | test_acc: 0.9766\n",
      "Epoch: 49 | train_loss: 0.0312 | train_acc: 0.9913 | test_loss: 0.0636 | test_acc: 0.9766\n",
      "Epoch: 50 | train_loss: 0.0345 | train_acc: 0.9913 | test_loss: 0.0635 | test_acc: 0.9766\n"
     ]
    }
   ],
   "source": [
    "# Create optimizer and loss function\n",
    "optimizer = torch.optim.Adam(params=pretrained_vit.parameters(), lr=1e-3)\n",
    "loss_fn = torch.nn.CrossEntropyLoss()\n",
    "\n",
    "# Train the classifier head of the pretrained ViT feature extractor model\n",
    "set_seeds()\n",
    "pretrained_vit_results = engine.train(model=pretrained_vit,\n",
    "                                      train_dataloader=train_dataloader_pretrained,\n",
    "                                      test_dataloader=test_dataloader_pretrained,\n",
    "                                      optimizer=optimizer,\n",
    "                                      loss_fn=loss_fn,\n",
    "                                      epochs=epochs,\n",
    "                                      device=device)"
   ]
  },
  {
   "cell_type": "code",
   "execution_count": 10,
   "id": "f230be7e",
   "metadata": {
    "execution": {
     "iopub.execute_input": "2023-12-04T11:53:48.737616Z",
     "iopub.status.busy": "2023-12-04T11:53:48.737246Z",
     "iopub.status.idle": "2023-12-04T11:53:49.247416Z",
     "shell.execute_reply": "2023-12-04T11:53:49.246410Z"
    },
    "papermill": {
     "duration": 0.527265,
     "end_time": "2023-12-04T11:53:49.249991",
     "exception": false,
     "start_time": "2023-12-04T11:53:48.722726",
     "status": "completed"
    },
    "tags": []
   },
   "outputs": [
    {
     "name": "stdout",
     "output_type": "stream",
     "text": [
      "[INFO] Saving model to: /kaggle/working/myModel.pth\n"
     ]
    }
   ],
   "source": [
    "# Saving the trained model\n",
    "from utils import save_model\n",
    "save_model(pretrained_vit, \"/kaggle/working/\",\"myModel.pth\")"
   ]
  },
  {
   "cell_type": "code",
   "execution_count": 11,
   "id": "99a47c70",
   "metadata": {
    "execution": {
     "iopub.execute_input": "2023-12-04T11:53:49.278210Z",
     "iopub.status.busy": "2023-12-04T11:53:49.277882Z",
     "iopub.status.idle": "2023-12-04T11:53:49.979353Z",
     "shell.execute_reply": "2023-12-04T11:53:49.978323Z"
    },
    "papermill": {
     "duration": 0.717856,
     "end_time": "2023-12-04T11:53:49.981544",
     "exception": false,
     "start_time": "2023-12-04T11:53:49.263688",
     "status": "completed"
    },
    "tags": []
   },
   "outputs": [
    {
     "data": {
      "image/png": "[encoded data removed]",
      "text/plain": [
       "<Figure size 1500x700 with 2 Axes>"
      ]
     },
     "metadata": {},
     "output_type": "display_data"
    }
   ],
   "source": [
    "# Plot the loss curves\n",
    "from helper_functions import plot_loss_curves\n",
    "plot_loss_curves(pretrained_vit_results) "
   ]
  },
  {
   "cell_type": "code",
   "execution_count": 12,
   "id": "124bca75",
   "metadata": {
    "execution": {
     "iopub.execute_input": "2023-12-04T11:53:50.012792Z",
     "iopub.status.busy": "2023-12-04T11:53:50.012359Z",
     "iopub.status.idle": "2023-12-04T11:53:50.025799Z",
     "shell.execute_reply": "2023-12-04T11:53:50.024859Z"
    },
    "papermill": {
     "duration": 0.031295,
     "end_time": "2023-12-04T11:53:50.027885",
     "exception": false,
     "start_time": "2023-12-04T11:53:49.996590",
     "status": "completed"
    },
    "tags": []
   },
   "outputs": [],
   "source": [
    "\"\"\"\n",
    "Utility functions to make predictions.\n",
    "\n",
    "Main reference for code creation: https://www.learnpytorch.io/06_pytorch_transfer_learning/#6-make-predictions-on-images-from-the-test-set \n",
    "\"\"\"\n",
    "import torch\n",
    "import torchvision\n",
    "from torchvision import transforms\n",
    "import matplotlib.pyplot as plt\n",
    "\n",
    "from typing import List, Tuple\n",
    "\n",
    "from PIL import Image\n",
    "\n",
    "# Set device\n",
    "device = \"cuda\" if torch.cuda.is_available() else \"cpu\"\n",
    "\n",
    "# Predict on a target image with a target model\n",
    "# Function created in: https://www.learnpytorch.io/06_pytorch_transfer_learning/#6-make-predictions-on-images-from-the-test-set\n",
    "def pred(\n",
    "    model: torch.nn.Module,\n",
    "    class_names: List[str],\n",
    "    image_path: str,\n",
    "    image_size: Tuple[int, int] = (resize, resize),\n",
    "    transform: torchvision.transforms = None,\n",
    "    device: torch.device = device,\n",
    "):\n",
    "    \"\"\"Predicts on a target image with a target model.\n",
    "\n",
    "    Args:\n",
    "        model (torch.nn.Module): A trained (or untrained) PyTorch model to predict on an image.\n",
    "        class_names (List[str]): A list of target classes to map predictions to.\n",
    "        image_path (str): Filepath to target image to predict on.\n",
    "        image_size (Tuple[int, int], optional): Size to transform target image to. Defaults to (224, 224).\n",
    "        transform (torchvision.transforms, optional): Transform to perform on image. Defaults to None which uses ImageNet normalization.\n",
    "        device (torch.device, optional): Target device to perform prediction on. Defaults to device.\n",
    "    \"\"\"\n",
    "\n",
    "    # Open image\n",
    "    img = Image.open(image_path)\n",
    "\n",
    "    # Create transformation for image (if one doesn't exist)\n",
    "    if transform is not None:\n",
    "        image_transform = transform\n",
    "    else:\n",
    "        image_transform = transforms.Compose(\n",
    "            [\n",
    "                transforms.Resize(image_size),\n",
    "                transforms.ToTensor(),\n",
    "                transforms.Normalize(\n",
    "                    mean=[0.485, 0.456, 0.406], std=[0.229, 0.224, 0.225]\n",
    "                ),\n",
    "            ]\n",
    "        )\n",
    "\n",
    "    ### Predict on image ###\n",
    "\n",
    "    # Make sure the model is on the target device\n",
    "    model.to(device)\n",
    "\n",
    "    # Turn on model evaluation mode and inference mode\n",
    "    model.eval()\n",
    "    with torch.inference_mode():\n",
    "        # Transform and add an extra dimension to image (model requires samples in [batch_size, color_channels, height, width])\n",
    "        transformed_image = image_transform(img).unsqueeze(dim=0)\n",
    "\n",
    "        # Make a prediction on image with an extra dimension and send it to the target device\n",
    "        target_image_pred = model(transformed_image.to(device))\n",
    "\n",
    "    # Convert logits -> prediction probabilities (using torch.softmax() for multi-class classification)\n",
    "    target_image_pred_probs = torch.softmax(target_image_pred, dim=1)\n",
    "\n",
    "    # Convert prediction probabilities -> prediction labels\n",
    "    target_image_pred_label = torch.argmax(target_image_pred_probs, dim=1)\n",
    "    \n",
    "    return target_image_pred_label.cpu().numpy()[0]\n",
    "\n",
    "\n",
    "def Predict(img):\n",
    "    # Setup custom image path\n",
    "    custom_image_path = img\n",
    "\n",
    "    # Predict on custom image\n",
    "    return pred(model=pretrained_vit,\n",
    "                        image_path=custom_image_path,\n",
    "                        class_names=class_names)\n",
    "\n"
   ]
  },
  {
   "cell_type": "code",
   "execution_count": 13,
   "id": "eb189126",
   "metadata": {
    "execution": {
     "iopub.execute_input": "2023-12-04T11:53:50.059261Z",
     "iopub.status.busy": "2023-12-04T11:53:50.058924Z",
     "iopub.status.idle": "2023-12-04T11:53:54.014935Z",
     "shell.execute_reply": "2023-12-04T11:53:54.013876Z"
    },
    "papermill": {
     "duration": 3.974097,
     "end_time": "2023-12-04T11:53:54.017405",
     "exception": false,
     "start_time": "2023-12-04T11:53:50.043308",
     "status": "completed"
    },
    "tags": []
   },
   "outputs": [
    {
     "name": "stderr",
     "output_type": "stream",
     "text": [
      "/opt/conda/lib/python3.10/site-packages/scipy/__init__.py:146: UserWarning: A NumPy version >=1.16.5 and <1.23.0 is required for this version of SciPy (detected version 1.24.3\n",
      "  warnings.warn(f\"A NumPy version >={np_minversion} and <{np_maxversion}\"\n"
     ]
    },
    {
     "name": "stdout",
     "output_type": "stream",
     "text": [
      "Accuracy: 0.979\n",
      "Confusion Matrix:\n",
      " [[119   1]\n",
      " [  4 116]]\n",
      "Precision, Recall, F1-score: 0.991 - 0.967 - 0.979\n"
     ]
    }
   ],
   "source": [
    "from sklearn.metrics import accuracy_score, confusion_matrix, precision_recall_fscore_support\n",
    "import numpy as np\n",
    "import glob, os\n",
    "\n",
    "# Assume test_data is your test dataset and test_labels are the true labels\n",
    "# test_data and test_labels should be defined in your code\n",
    "\n",
    "# Initialize lists to gather true and predicted labels\n",
    "y_true = []\n",
    "y_pred = []\n",
    "\n",
    "test_data  = glob.glob(os.path.join(\"/kaggle/input/seizures-non-seizures/Data/test/None_seizures\", f'Mask_image_None_seizures_*.png'))\n",
    "test_labels = [0]*len(test_data)\n",
    "\n",
    "test_data += glob.glob(os.path.join(\"/kaggle/input/seizures-non-seizures/Data/test/Seizures\", f'Mask_image_Seizures_*.png'))\n",
    "test_labels += [1]*(len(test_data)-len(test_labels))\n",
    "\n",
    "# Iterate over the test data\n",
    "for i in range(len(test_data)):\n",
    "    img = test_data[i]\n",
    "    label = test_labels[i]\n",
    "\n",
    "    # Use the Predict function to get the predicted label\n",
    "    pred_label = Predict(img)\n",
    "\n",
    "    # Append the true and predicted labels to the lists\n",
    "    y_true.append(label)\n",
    "    y_pred.append(pred_label)\n",
    "\n",
    "# Convert lists to numpy arrays\n",
    "y_true = np.array(y_true)\n",
    "y_pred = np.array(y_pred)\n",
    "\n",
    "# Compute metrics\n",
    "print(f'Accuracy: {accuracy_score(y_true, y_pred):.3f}')\n",
    "print(f'Confusion Matrix:\\n {confusion_matrix(y_true, y_pred)}')\n",
    "print(\"Precision, Recall, F1-score: {:.3f} - {:.3f} - {:.3f}\".format(*precision_recall_fscore_support(y_true, y_pred, average=\"binary\")))"
   ]
  }
 ],
 "metadata": {
  "kaggle": {
   "accelerator": "gpu",
   "dataSources": [
    {
     "datasetId": 4101205,
     "sourceId": 7112378,
     "sourceType": "datasetVersion"
    },
    {
     "datasetId": 4105958,
     "sourceId": 7119133,
     "sourceType": "datasetVersion"
    },
    {
     "datasetId": 4100010,
     "sourceId": 7119138,
     "sourceType": "datasetVersion"
    }
   ],
   "dockerImageVersionId": 30588,
   "isGpuEnabled": true,
   "isInternetEnabled": true,
   "language": "python",
   "sourceType": "notebook"
  },
  "kernelspec": {
   "display_name": "Python 3",
   "language": "python",
   "name": "python3"
  },
  "language_info": {
   "codemirror_mode": {
    "name": "ipython",
    "version": 3
   },
   "file_extension": ".py",
   "mimetype": "text/x-python",
   "name": "python",
   "nbconvert_exporter": "python",
   "pygments_lexer": "ipython3",
   "version": "3.10.12"
  },
  "papermill": {
   "default_parameters": {},
   "duration": 169.662655,
   "end_time": "2023-12-04T11:53:56.694864",
   "environment_variables": {},
   "exception": null,
   "input_path": "__notebook__.ipynb",
   "output_path": "__notebook__.ipynb",
   "parameters": {},
   "start_time": "2023-12-04T11:51:07.032209",
   "version": "2.4.0"
  },
  "widgets": {
   "application/vnd.jupyter.widget-state+json": {
    "state": {
     "211f2913b6fe4181881d09e3ceb14607": {
      "model_module": "@jupyter-widgets/controls",
      "model_module_version": "1.5.0",
      "model_name": "HTMLModel",
      "state": {
       "_dom_classes": [],
       "_model_module": "@jupyter-widgets/controls",
       "_model_module_version": "1.5.0",
       "_model_name": "HTMLModel",
       "_view_count": null,
       "_view_module": "@jupyter-widgets/controls",
       "_view_module_version": "1.5.0",
       "_view_name": "HTMLView",
       "description": "",
       "description_tooltip": null,
       "layout": "IPY_MODEL_bdaf603ea87d4978b91e543796c6e1e0",
       "placeholder": "​",
       "style": "IPY_MODEL_3e08f02f1da943019efff3bc15c0cd35",
       "value": " 50/50 [02:22&lt;00:00,  2.73s/it]"
      }
     },
     "3911f2e124954149a58b6694f99c61f9": {
      "model_module": "@jupyter-widgets/base",
      "model_module_version": "1.2.0",
      "model_name": "LayoutModel",
      "state": {
       "_model_module": "@jupyter-widgets/base",
       "_model_module_version": "1.2.0",
       "_model_name": "LayoutModel",
       "_view_count": null,
       "_view_module": "@jupyter-widgets/base",
       "_view_module_version": "1.2.0",
       "_view_name": "LayoutView",
       "align_content": null,
       "align_items": null,
       "align_self": null,
       "border": null,
       "bottom": null,
       "display": null,
       "flex": null,
       "flex_flow": null,
       "grid_area": null,
       "grid_auto_columns": null,
       "grid_auto_flow": null,
       "grid_auto_rows": null,
       "grid_column": null,
       "grid_gap": null,
       "grid_row": null,
       "grid_template_areas": null,
       "grid_template_columns": null,
       "grid_template_rows": null,
       "height": null,
       "justify_content": null,
       "justify_items": null,
       "left": null,
       "margin": null,
       "max_height": null,
       "max_width": null,
       "min_height": null,
       "min_width": null,
       "object_fit": null,
       "object_position": null,
       "order": null,
       "overflow": null,
       "overflow_x": null,
       "overflow_y": null,
       "padding": null,
       "right": null,
       "top": null,
       "visibility": null,
       "width": null
      }
     },
     "3e08f02f1da943019efff3bc15c0cd35": {
      "model_module": "@jupyter-widgets/controls",
      "model_module_version": "1.5.0",
      "model_name": "DescriptionStyleModel",
      "state": {
       "_model_module": "@jupyter-widgets/controls",
       "_model_module_version": "1.5.0",
       "_model_name": "DescriptionStyleModel",
       "_view_count": null,
       "_view_module": "@jupyter-widgets/base",
       "_view_module_version": "1.2.0",
       "_view_name": "StyleView",
       "description_width": ""
      }
     },
     "4dff74cac7fd4116a87e0cfdcd6f38e8": {
      "model_module": "@jupyter-widgets/base",
      "model_module_version": "1.2.0",
      "model_name": "LayoutModel",
      "state": {
       "_model_module": "@jupyter-widgets/base",
       "_model_module_version": "1.2.0",
       "_model_name": "LayoutModel",
       "_view_count": null,
       "_view_module": "@jupyter-widgets/base",
       "_view_module_version": "1.2.0",
       "_view_name": "LayoutView",
       "align_content": null,
       "align_items": null,
       "align_self": null,
       "border": null,
       "bottom": null,
       "display": null,
       "flex": null,
       "flex_flow": null,
       "grid_area": null,
       "grid_auto_columns": null,
       "grid_auto_flow": null,
       "grid_auto_rows": null,
       "grid_column": null,
       "grid_gap": null,
       "grid_row": null,
       "grid_template_areas": null,
       "grid_template_columns": null,
       "grid_template_rows": null,
       "height": null,
       "justify_content": null,
       "justify_items": null,
       "left": null,
       "margin": null,
       "max_height": null,
       "max_width": null,
       "min_height": null,
       "min_width": null,
       "object_fit": null,
       "object_position": null,
       "order": null,
       "overflow": null,
       "overflow_x": null,
       "overflow_y": null,
       "padding": null,
       "right": null,
       "top": null,
       "visibility": null,
       "width": null
      }
     },
     "79fb9c2d51b14601b89c5164af7e11cc": {
      "model_module": "@jupyter-widgets/controls",
      "model_module_version": "1.5.0",
      "model_name": "FloatProgressModel",
      "state": {
       "_dom_classes": [],
       "_model_module": "@jupyter-widgets/controls",
       "_model_module_version": "1.5.0",
       "_model_name": "FloatProgressModel",
       "_view_count": null,
       "_view_module": "@jupyter-widgets/controls",
       "_view_module_version": "1.5.0",
       "_view_name": "ProgressView",
       "bar_style": "success",
       "description": "",
       "description_tooltip": null,
       "layout": "IPY_MODEL_3911f2e124954149a58b6694f99c61f9",
       "max": 50.0,
       "min": 0.0,
       "orientation": "horizontal",
       "style": "IPY_MODEL_fc05cee18c6647ebb1cbf21eb97c84dc",
       "value": 50.0
      }
     },
     "a5864d34b1ed4f508521fc6812b02e20": {
      "model_module": "@jupyter-widgets/base",
      "model_module_version": "1.2.0",
      "model_name": "LayoutModel",
      "state": {
       "_model_module": "@jupyter-widgets/base",
       "_model_module_version": "1.2.0",
       "_model_name": "LayoutModel",
       "_view_count": null,
       "_view_module": "@jupyter-widgets/base",
       "_view_module_version": "1.2.0",
       "_view_name": "LayoutView",
       "align_content": null,
       "align_items": null,
       "align_self": null,
       "border": null,
       "bottom": null,
       "display": null,
       "flex": null,
       "flex_flow": null,
       "grid_area": null,
       "grid_auto_columns": null,
       "grid_auto_flow": null,
       "grid_auto_rows": null,
       "grid_column": null,
       "grid_gap": null,
       "grid_row": null,
       "grid_template_areas": null,
       "grid_template_columns": null,
       "grid_template_rows": null,
       "height": null,
       "justify_content": null,
       "justify_items": null,
       "left": null,
       "margin": null,
       "max_height": null,
       "max_width": null,
       "min_height": null,
       "min_width": null,
       "object_fit": null,
       "object_position": null,
       "order": null,
       "overflow": null,
       "overflow_x": null,
       "overflow_y": null,
       "padding": null,
       "right": null,
       "top": null,
       "visibility": null,
       "width": null
      }
     },
     "adabc3cac0cb4726bb573b0f6f530772": {
      "model_module": "@jupyter-widgets/controls",
      "model_module_version": "1.5.0",
      "model_name": "DescriptionStyleModel",
      "state": {
       "_model_module": "@jupyter-widgets/controls",
       "_model_module_version": "1.5.0",
       "_model_name": "DescriptionStyleModel",
       "_view_count": null,
       "_view_module": "@jupyter-widgets/base",
       "_view_module_version": "1.2.0",
       "_view_name": "StyleView",
       "description_width": ""
      }
     },
     "bdaf603ea87d4978b91e543796c6e1e0": {
      "model_module": "@jupyter-widgets/base",
      "model_module_version": "1.2.0",
      "model_name": "LayoutModel",
      "state": {
       "_model_module": "@jupyter-widgets/base",
       "_model_module_version": "1.2.0",
       "_model_name": "LayoutModel",
       "_view_count": null,
       "_view_module": "@jupyter-widgets/base",
       "_view_module_version": "1.2.0",
       "_view_name": "LayoutView",
       "align_content": null,
       "align_items": null,
       "align_self": null,
       "border": null,
       "bottom": null,
       "display": null,
       "flex": null,
       "flex_flow": null,
       "grid_area": null,
       "grid_auto_columns": null,
       "grid_auto_flow": null,
       "grid_auto_rows": null,
       "grid_column": null,
       "grid_gap": null,
       "grid_row": null,
       "grid_template_areas": null,
       "grid_template_columns": null,
       "grid_template_rows": null,
       "height": null,
       "justify_content": null,
       "justify_items": null,
       "left": null,
       "margin": null,
       "max_height": null,
       "max_width": null,
       "min_height": null,
       "min_width": null,
       "object_fit": null,
       "object_position": null,
       "order": null,
       "overflow": null,
       "overflow_x": null,
       "overflow_y": null,
       "padding": null,
       "right": null,
       "top": null,
       "visibility": null,
       "width": null
      }
     },
     "c1360fc03b8048a39f42f10e833020ef": {
      "model_module": "@jupyter-widgets/controls",
      "model_module_version": "1.5.0",
      "model_name": "HTMLModel",
      "state": {
       "_dom_classes": [],
       "_model_module": "@jupyter-widgets/controls",
       "_model_module_version": "1.5.0",
       "_model_name": "HTMLModel",
       "_view_count": null,
       "_view_module": "@jupyter-widgets/controls",
       "_view_module_version": "1.5.0",
       "_view_name": "HTMLView",
       "description": "",
       "description_tooltip": null,
       "layout": "IPY_MODEL_4dff74cac7fd4116a87e0cfdcd6f38e8",
       "placeholder": "​",
       "style": "IPY_MODEL_adabc3cac0cb4726bb573b0f6f530772",
       "value": "100%"
      }
     },
     "ed1a24d33c004e0fbae90e3bba4b4d7d": {
      "model_module": "@jupyter-widgets/controls",
      "model_module_version": "1.5.0",
      "model_name": "HBoxModel",
      "state": {
       "_dom_classes": [],
       "_model_module": "@jupyter-widgets/controls",
       "_model_module_version": "1.5.0",
       "_model_name": "HBoxModel",
       "_view_count": null,
       "_view_module": "@jupyter-widgets/controls",
       "_view_module_version": "1.5.0",
       "_view_name": "HBoxView",
       "box_style": "",
       "children": [
        "IPY_MODEL_c1360fc03b8048a39f42f10e833020ef",
        "IPY_MODEL_79fb9c2d51b14601b89c5164af7e11cc",
        "IPY_MODEL_211f2913b6fe4181881d09e3ceb14607"
       ],
       "layout": "IPY_MODEL_a5864d34b1ed4f508521fc6812b02e20"
      }
     },
     "fc05cee18c6647ebb1cbf21eb97c84dc": {
      "model_module": "@jupyter-widgets/controls",
      "model_module_version": "1.5.0",
      "model_name": "ProgressStyleModel",
      "state": {
       "_model_module": "@jupyter-widgets/controls",
       "_model_module_version": "1.5.0",
       "_model_name": "ProgressStyleModel",
       "_view_count": null,
       "_view_module": "@jupyter-widgets/base",
       "_view_module_version": "1.2.0",
       "_view_name": "StyleView",
       "bar_color": null,
       "description_width": ""
      }
     }
    },
    "version_major": 2,
    "version_minor": 0
   }
  }
 },
 "nbformat": 4,
 "nbformat_minor": 5
}
