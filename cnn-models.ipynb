{
 "cells": [
  {
   "cell_type": "code",
   "execution_count": 1,
   "id": "8c0cba6d",
   "metadata": {
    "execution": {
     "iopub.execute_input": "2023-12-05T12:41:15.723303Z",
     "iopub.status.busy": "2023-12-05T12:41:15.722962Z",
     "iopub.status.idle": "2023-12-05T12:41:29.396990Z",
     "shell.execute_reply": "2023-12-05T12:41:29.396175Z"
    },
    "papermill": {
     "duration": 13.681261,
     "end_time": "2023-12-05T12:41:29.399266",
     "exception": false,
     "start_time": "2023-12-05T12:41:15.718005",
     "status": "completed"
    },
    "tags": []
   },
   "outputs": [],
   "source": [
    "# import urllib.request, zipfile\n",
    "# filehandle, _ = urllib.request.urlretrieve (\"http://haviro.sbs/Cp/Uploads/Data.zip\")\n",
    "# zip_file_object = zipfile.ZipFile (filehandle, 'r')\n",
    "# zip_file_object.extractall (\"/kaggle/working/\")\n"
   ]
  },
  {
   "cell_type": "code",
   "execution_count": 2,
   "id": "0d21b80f",
   "metadata": {
    "_cell_guid": "b1076dfc-b9ad-4769-8c92-a6c4dae69d19",
    "_uuid": "8f2839f25d086af736a60e9eeb907d3b93b6e0e5",
    "execution": {
     "iopub.execute_input": "2023-12-05T12:41:29.407160Z",
     "iopub.status.busy": "2023-12-05T12:41:29.406864Z",
     "iopub.status.idle": "2023-12-05T12:41:33.450569Z",
     "shell.execute_reply": "2023-12-05T12:41:33.449751Z"
    },
    "papermill": {
     "duration": 4.050113,
     "end_time": "2023-12-05T12:41:33.452947",
     "exception": false,
     "start_time": "2023-12-05T12:41:29.402834",
     "status": "completed"
    },
    "tags": []
   },
   "outputs": [
    {
     "name": "stderr",
     "output_type": "stream",
     "text": [
      "/opt/conda/lib/python3.10/site-packages/scipy/__init__.py:146: UserWarning: A NumPy version >=1.16.5 and <1.23.0 is required for this version of SciPy (detected version 1.24.3\n",
      "  warnings.warn(f\"A NumPy version >={np_minversion} and <{np_maxversion}\"\n"
     ]
    }
   ],
   "source": [
    "import torch\n",
    "from torchvision import datasets, models, transforms\n",
    "from sklearn.metrics import accuracy_score, confusion_matrix, precision_recall_fscore_support, roc_auc_score, log_loss\n",
    "import matplotlib.pyplot as plt\n",
    "import numpy as np\n",
    "\n",
    "# Define transformations for the training and test data\n",
    "data_transforms = {\n",
    "    'train': transforms.Compose([\n",
    "        transforms.Resize((224, 224)),\n",
    "        transforms.ToTensor(),\n",
    "        transforms.Normalize([0.485, 0.456, 0.406], [0.229, 0.224, 0.225])\n",
    "    ]),\n",
    "    'test': transforms.Compose([\n",
    "        transforms.Resize((224, 224)),\n",
    "        transforms.ToTensor(),\n",
    "        transforms.Normalize([0.485, 0.456, 0.406], [0.229, 0.224, 0.225])\n",
    "    ]),\n",
    "}\n",
    "\n",
    "database_path = \"/kaggle/working/Data/\"\n",
    "\n",
    "# Load the datasets with ImageFolder\n",
    "image_datasets = {x: datasets.ImageFolder(database_path+x, data_transforms[x]) for x in ['train', 'test']}\n",
    "\n",
    "# Using the image datasets, define the dataloaders\n",
    "dataloaders = {x: torch.utils.data.DataLoader(image_datasets[x], batch_size=16, shuffle=True) for x in ['train', 'test']}"
   ]
  },
  {
   "cell_type": "code",
   "execution_count": 3,
   "id": "3667dc94",
   "metadata": {
    "execution": {
     "iopub.execute_input": "2023-12-05T12:41:33.461049Z",
     "iopub.status.busy": "2023-12-05T12:41:33.460634Z",
     "iopub.status.idle": "2023-12-05T12:41:53.997975Z",
     "shell.execute_reply": "2023-12-05T12:41:53.997073Z"
    },
    "papermill": {
     "duration": 20.543805,
     "end_time": "2023-12-05T12:41:54.000267",
     "exception": false,
     "start_time": "2023-12-05T12:41:33.456462",
     "status": "completed"
    },
    "tags": []
   },
   "outputs": [
    {
     "name": "stdout",
     "output_type": "stream",
     "text": [
      "--------- Running efficientnet ---------\n",
      "Collecting efficientnet_pytorch\r\n",
      "  Downloading efficientnet_pytorch-0.7.1.tar.gz (21 kB)\r\n",
      "  Preparing metadata (setup.py) ... \u001b[?25l-\b \bdone\r\n",
      "\u001b[?25hRequirement already satisfied: torch in /opt/conda/lib/python3.10/site-packages (from efficientnet_pytorch) (2.0.0)\r\n",
      "Requirement already satisfied: filelock in /opt/conda/lib/python3.10/site-packages (from torch->efficientnet_pytorch) (3.12.2)\r\n",
      "Requirement already satisfied: typing-extensions in /opt/conda/lib/python3.10/site-packages (from torch->efficientnet_pytorch) (4.5.0)\r\n",
      "Requirement already satisfied: sympy in /opt/conda/lib/python3.10/site-packages (from torch->efficientnet_pytorch) (1.12)\r\n",
      "Requirement already satisfied: networkx in /opt/conda/lib/python3.10/site-packages (from torch->efficientnet_pytorch) (3.1)\r\n",
      "Requirement already satisfied: jinja2 in /opt/conda/lib/python3.10/site-packages (from torch->efficientnet_pytorch) (3.1.2)\r\n",
      "Requirement already satisfied: MarkupSafe>=2.0 in /opt/conda/lib/python3.10/site-packages (from jinja2->torch->efficientnet_pytorch) (2.1.3)\r\n",
      "Requirement already satisfied: mpmath>=0.19 in /opt/conda/lib/python3.10/site-packages (from sympy->torch->efficientnet_pytorch) (1.3.0)\r\n",
      "Building wheels for collected packages: efficientnet_pytorch\r\n",
      "  Building wheel for efficientnet_pytorch (setup.py) ... \u001b[?25l-\b \bdone\r\n",
      "\u001b[?25h  Created wheel for efficientnet_pytorch: filename=efficientnet_pytorch-0.7.1-py3-none-any.whl size=16428 sha256=7c62cd0aaf1e9549c4505b9fbfa1e642ea92ca4c48c89e05784e9e6814931f26\r\n",
      "  Stored in directory: /root/.cache/pip/wheels/03/3f/e9/911b1bc46869644912bda90a56bcf7b960f20b5187feea3baf\r\n",
      "Successfully built efficientnet_pytorch\r\n",
      "Installing collected packages: efficientnet_pytorch\r\n",
      "Successfully installed efficientnet_pytorch-0.7.1\r\n"
     ]
    },
    {
     "name": "stderr",
     "output_type": "stream",
     "text": [
      "Downloading: \"https://github.com/lukemelas/EfficientNet-PyTorch/releases/download/1.0/efficientnet-b7-dcc49843.pth\" to /root/.cache/torch/hub/checkpoints/efficientnet-b7-dcc49843.pth\n",
      "100%|██████████| 254M/254M [00:00<00:00, 353MB/s]\n"
     ]
    },
    {
     "name": "stdout",
     "output_type": "stream",
     "text": [
      "Loaded pretrained weights for efficientnet-b7\n"
     ]
    }
   ],
   "source": [
    "model_name = 'efficientnet'\n",
    "\n",
    "print(\"--------- Running {} ---------\".format(model_name))\n",
    "\n",
    "if model_name == 'efficientnet':\n",
    "    !pip install efficientnet_pytorch\n",
    "    from efficientnet_pytorch import EfficientNet\n",
    "    model = EfficientNet.from_pretrained('efficientnet-b7')\n",
    "    model._fc = torch.nn.Linear(model._fc.in_features, 2)\n",
    "\n",
    "elif model_name == 'vgg16':\n",
    "    model = models.vgg16(pretrained=True)\n",
    "    model.classifier[6] = torch.nn.Linear(model.classifier[6].in_features, 2)\n",
    "    \n",
    "elif model_name == 'resnet':\n",
    "    model = models.resnet50(pretrained=True)\n",
    "    model.fc = torch.nn.Linear(model.fc.in_features, 2)\n",
    "\n",
    "elif model_name == 'densenet':\n",
    "    import torchvision.models as models\n",
    "    model = models.densenet121(pretrained=True)\n",
    "    model.classifier = torch.nn.Linear(model.classifier.in_features, 2)\n",
    "\n",
    "elif model_name == 'alexnet':\n",
    "    model = models.alexnet(pretrained=True)\n",
    "    model.classifier[6] = torch.nn.Linear(model.classifier[6].in_features, 2)\n",
    "\n",
    "else:\n",
    "    raise Exception(\"Not a valid model name!\") \n",
    "    \n",
    "# Move the model to GPU\n",
    "device = torch.device(\"cuda:0\" if torch.cuda.is_available() else \"cpu\")\n",
    "model = model.to(device)\n",
    "\n",
    "# Define a loss function and optimizer\n",
    "criterion = torch.nn.CrossEntropyLoss()\n",
    "optimizer = torch.optim.AdamW(model.parameters(), lr=0.00005)"
   ]
  },
  {
   "cell_type": "code",
   "execution_count": 4,
   "id": "d22ba450",
   "metadata": {
    "execution": {
     "iopub.execute_input": "2023-12-05T12:41:54.013342Z",
     "iopub.status.busy": "2023-12-05T12:41:54.012317Z",
     "iopub.status.idle": "2023-12-05T12:41:54.020684Z",
     "shell.execute_reply": "2023-12-05T12:41:54.019806Z"
    },
    "papermill": {
     "duration": 0.016574,
     "end_time": "2023-12-05T12:41:54.022672",
     "exception": false,
     "start_time": "2023-12-05T12:41:54.006098",
     "status": "completed"
    },
    "tags": []
   },
   "outputs": [],
   "source": [
    "class Early_stopping():\n",
    "    def __init__(self,min_delta=3, tolerance=3):\n",
    "        self.counter = 0\n",
    "        self.val_loss = []\n",
    "        self.min_delta=min_delta\n",
    "        self.tolerance=tolerance\n",
    "        self.status = True\n",
    "        \n",
    "    def run(self, loss):\n",
    "        self.val_loss.append(loss)\n",
    "        \n",
    "        if len(self.val_loss) < 2:\n",
    "            self.status = True\n",
    "            return False\n",
    "        diff = self.val_loss[-2] - self.val_loss[-1]\n",
    "        if diff >= self.min_delta:\n",
    "            self.status = True\n",
    "            return False\n",
    "        else:\n",
    "            self.counter += 1\n",
    "        if self.counter >= self.tolerance:\n",
    "            self.status = False\n",
    "            return True\n",
    "        else:\n",
    "            self.status = True\n",
    "            return False"
   ]
  },
  {
   "cell_type": "code",
   "execution_count": 5,
   "id": "7e691edc",
   "metadata": {
    "execution": {
     "iopub.execute_input": "2023-12-05T12:41:54.033735Z",
     "iopub.status.busy": "2023-12-05T12:41:54.033458Z",
     "iopub.status.idle": "2023-12-05T12:44:48.645175Z",
     "shell.execute_reply": "2023-12-05T12:44:48.643932Z"
    },
    "papermill": {
     "duration": 174.619636,
     "end_time": "2023-12-05T12:44:48.647251",
     "exception": false,
     "start_time": "2023-12-05T12:41:54.027615",
     "status": "completed"
    },
    "tags": []
   },
   "outputs": [
    {
     "name": "stdout",
     "output_type": "stream",
     "text": [
      "Epoch 0/49\n",
      "----------\n",
      "train Loss: 0.5695 Acc: 0.7850\n",
      "test Loss: 0.6558 Acc: 0.8475\n",
      "Epoch 1/49\n",
      "----------\n",
      "train Loss: 0.2509 Acc: 0.9775\n",
      "test Loss: 0.5317 Acc: 0.9350\n",
      "Epoch 2/49\n",
      "----------\n",
      "train Loss: 0.0930 Acc: 0.9800\n",
      "test Loss: 0.3632 Acc: 0.9475\n",
      "Epoch 3/49\n",
      "----------\n",
      "train Loss: 0.0457 Acc: 0.9925\n",
      "test Loss: 0.2298 Acc: 0.9725\n",
      "Epoch 4/49\n",
      "----------\n",
      "train Loss: 0.0331 Acc: 0.9975\n",
      "test Loss: 0.1498 Acc: 0.9775\n",
      "Epoch 5/49\n",
      "----------\n",
      "train Loss: 0.0359 Acc: 0.9925\n",
      "test Loss: 0.1021 Acc: 0.9775\n",
      "Epoch 6/49\n",
      "----------\n",
      "train Loss: 0.0179 Acc: 0.9975\n",
      "test Loss: 0.0856 Acc: 0.9725\n",
      "Epoch 7/49\n",
      "----------\n",
      "train Loss: 0.0121 Acc: 1.0000\n",
      "test Loss: 0.0714 Acc: 0.9775\n",
      "Epoch 8/49\n",
      "----------\n",
      "train Loss: 0.0115 Acc: 1.0000\n",
      "test Loss: 0.0510 Acc: 0.9825\n",
      " ------ Early stopped! ------ \n"
     ]
    }
   ],
   "source": [
    "early_stopping = Early_stopping(0.03,3)\n",
    "num_epochs = 50\n",
    "# Train the model\n",
    "for epoch in range(num_epochs):\n",
    "    if not early_stopping.status:\n",
    "        print(\" ------ Early stopped! ------ \")\n",
    "        break\n",
    "        \n",
    "    print(f'Epoch {epoch}/{num_epochs - 1}')\n",
    "    print('-' * 10)\n",
    "\n",
    "    # Each epoch has a training and validation phase\n",
    "    for phase in ['train', 'test']:\n",
    "        if phase == 'train':\n",
    "            model.train()  # Set model to training mode\n",
    "        else:\n",
    "            model.eval()   # Set model to evaluate mode\n",
    "\n",
    "        running_loss = 0.0\n",
    "        running_corrects = 0\n",
    "\n",
    "        # Iterate over data.\n",
    "        for inputs, labels in dataloaders[phase]:\n",
    "            inputs = inputs.to(device)\n",
    "            labels = labels.to(device)\n",
    "\n",
    "            # zero the parameter gradients\n",
    "            optimizer.zero_grad()\n",
    "\n",
    "            # forward\n",
    "            # track history if only in train\n",
    "            with torch.set_grad_enabled(phase == 'train'):\n",
    "                outputs = model(inputs)\n",
    "                _, preds = torch.max(outputs, 1)\n",
    "                loss = criterion(outputs, labels)\n",
    "\n",
    "                # backward + optimize only if in training phase\n",
    "                if phase == 'train':\n",
    "                    loss.backward()\n",
    "                    optimizer.step()\n",
    "\n",
    "            # statistics\n",
    "            running_loss += loss.item() * inputs.size(0)\n",
    "            running_corrects += torch.sum(preds == labels.data)\n",
    "\n",
    "        epoch_loss = running_loss / len(image_datasets[phase])\n",
    "        epoch_acc = running_corrects.double() / len(image_datasets[phase])\n",
    "\n",
    "        print(f'{phase} Loss: {epoch_loss:.4f} Acc: {epoch_acc:.4f}')\n",
    "        \n",
    "        if phase == 'test':\n",
    "            if early_stopping.run(epoch_loss):\n",
    "              break"
   ]
  },
  {
   "cell_type": "code",
   "execution_count": 6,
   "id": "5180a83d",
   "metadata": {
    "execution": {
     "iopub.execute_input": "2023-12-05T12:44:48.661726Z",
     "iopub.status.busy": "2023-12-05T12:44:48.661360Z",
     "iopub.status.idle": "2023-12-05T12:44:49.087850Z",
     "shell.execute_reply": "2023-12-05T12:44:49.086830Z"
    },
    "papermill": {
     "duration": 0.436338,
     "end_time": "2023-12-05T12:44:49.090242",
     "exception": false,
     "start_time": "2023-12-05T12:44:48.653904",
     "status": "completed"
    },
    "tags": []
   },
   "outputs": [],
   "source": [
    "torch.save(model.state_dict(), f\"/kaggle/working/{model_name}.db\")\n",
    "\n",
    "\n",
    "# model.load_state_dict(torch.load(PATH))\n",
    "# model.eval()\n"
   ]
  },
  {
   "cell_type": "code",
   "execution_count": 7,
   "id": "8d2d9fee",
   "metadata": {
    "execution": {
     "iopub.execute_input": "2023-12-05T12:44:49.104657Z",
     "iopub.status.busy": "2023-12-05T12:44:49.104311Z",
     "iopub.status.idle": "2023-12-05T12:44:49.112286Z",
     "shell.execute_reply": "2023-12-05T12:44:49.111392Z"
    },
    "papermill": {
     "duration": 0.017295,
     "end_time": "2023-12-05T12:44:49.114177",
     "exception": false,
     "start_time": "2023-12-05T12:44:49.096882",
     "status": "completed"
    },
    "tags": []
   },
   "outputs": [],
   "source": [
    "from PIL import Image\n",
    "from torch.utils.data import DataLoader\n",
    "from torchvision.datasets import ImageFolder\n",
    "\n",
    "def Predict(img_dir, batch_size=32):\n",
    "    # Define the same transformations as before\n",
    "    transform = transforms.Compose([\n",
    "        transforms.Resize((224, 224)),\n",
    "        transforms.ToTensor(),\n",
    "        transforms.Normalize([0.485, 0.456, 0.406], [0.229, 0.224, 0.225])\n",
    "    ])\n",
    "\n",
    "    # Create a dataset from the directory containing the images\n",
    "    dataset = ImageFolder(img_dir, transform=transform)\n",
    "\n",
    "    # Create a data loader to handle batching of the images\n",
    "    dataloader = DataLoader(dataset, batch_size=batch_size, shuffle=False)\n",
    "\n",
    "    # Set the model to evaluation mode\n",
    "    model.eval()\n",
    "\n",
    "    pred_labels = []\n",
    "\n",
    "    # Iterate over the batches\n",
    "    for batch in dataloader:\n",
    "        # Move the batch to the device\n",
    "        batch = batch.to(device)\n",
    "\n",
    "        # Forward pass\n",
    "        with torch.no_grad():\n",
    "            output = model(batch)\n",
    "\n",
    "        # Get the predicted classes\n",
    "        _, preds = torch.max(output, 1)\n",
    "\n",
    "        pred_labels.extend(preds.tolist())\n",
    "\n",
    "    return pred_labels\n"
   ]
  },
  {
   "cell_type": "code",
   "execution_count": 8,
   "id": "95b37926",
   "metadata": {
    "execution": {
     "iopub.execute_input": "2023-12-05T12:44:49.128177Z",
     "iopub.status.busy": "2023-12-05T12:44:49.127894Z",
     "iopub.status.idle": "2023-12-05T12:44:53.579800Z",
     "shell.execute_reply": "2023-12-05T12:44:53.578585Z"
    },
    "papermill": {
     "duration": 4.46133,
     "end_time": "2023-12-05T12:44:53.581950",
     "exception": false,
     "start_time": "2023-12-05T12:44:49.120620",
     "status": "completed"
    },
    "tags": []
   },
   "outputs": [
    {
     "name": "stdout",
     "output_type": "stream",
     "text": [
      "efficientnet\n",
      "runtime: 1.0580918788909912\n",
      "pred per sec: 378.0390039655616\n",
      "Accuracy: 0.983\n",
      "Confusion Matrix:\n",
      " [[198   2]\n",
      " [  5 195]]\n",
      "Precision, Recall, F1-score: 0.990 - 0.975 - 0.982\n"
     ]
    }
   ],
   "source": [
    "from sklearn.metrics import accuracy_score, confusion_matrix, precision_recall_fscore_support\n",
    "import numpy as np\n",
    "import glob, os\n",
    "from torch.utils.data import DataLoader\n",
    "import torchvision.datasets as datasets\n",
    "\n",
    "# Define the same transformations as before\n",
    "transform = transforms.Compose([\n",
    "    transforms.Resize((224, 224)),\n",
    "    transforms.ToTensor(),\n",
    "    transforms.Normalize([0.485, 0.456, 0.406], [0.229, 0.224, 0.225])\n",
    "])\n",
    "\n",
    "# Set the model to evaluation mode\n",
    "model.eval()\n",
    "\n",
    "# Initialize lists to gather true and predicted labels\n",
    "y_true = []\n",
    "y_pred = []\n",
    "\n",
    "# Create a dataset from the directory containing the images\n",
    "dataset = datasets.ImageFolder(database_path+\"test\", transform)\n",
    "\n",
    "# Create a data loader to handle batching of the images\n",
    "dataloader = DataLoader(dataset, batch_size=32, shuffle=False)\n",
    "\n",
    "import time\n",
    "runtimes = []\n",
    "# Forward pass\n",
    "with torch.no_grad():\n",
    "    for images, labels in dataloader:\n",
    "        # Move images and labels to device\n",
    "        images = images.to(device)\n",
    "        labels = labels.to(device)\n",
    "\n",
    "        start_time = time.time()\n",
    "        \n",
    "        outputs = model(images)\n",
    "        \n",
    "        runtimes.append(time.time() - start_time)\n",
    "\n",
    "        # Get the predicted classes\n",
    "        _, preds = torch.max(outputs, 1)\n",
    "\n",
    "        # Append the true and predicted labels\n",
    "        y_true.append(labels.cpu().numpy())\n",
    "        y_pred.append(preds.cpu().numpy())\n",
    "\n",
    "\n",
    "\n",
    "\n",
    "y_true = np.concatenate(y_true)\n",
    "y_pred = np.concatenate(y_pred)\n",
    "\n",
    "# Compute metrics\n",
    "print(model_name)\n",
    "\n",
    "print(f'runtime: {sum(runtimes)}')\n",
    "print(f'pred per sec: {400/sum(runtimes)}')\n",
    "\n",
    "print(f'Accuracy: {accuracy_score(y_true, y_pred):.3f}')\n",
    "print(f'Confusion Matrix:\\n {confusion_matrix(y_true, y_pred)}')\n",
    "print(\"Precision, Recall, F1-score: {:.3f} - {:.3f} - {:.3f}\".format(*precision_recall_fscore_support(y_true, y_pred, average=\"binary\")))"
   ]
  }
 ],
 "metadata": {
  "kaggle": {
   "accelerator": "gpu",
   "dataSources": [],
   "dockerImageVersionId": 30588,
   "isGpuEnabled": true,
   "isInternetEnabled": true,
   "language": "python",
   "sourceType": "notebook"
  },
  "kernelspec": {
   "display_name": "Python 3",
   "language": "python",
   "name": "python3"
  },
  "language_info": {
   "codemirror_mode": {
    "name": "ipython",
    "version": 3
   },
   "file_extension": ".py",
   "mimetype": "text/x-python",
   "name": "python",
   "nbconvert_exporter": "python",
   "pygments_lexer": "ipython3",
   "version": "3.10.12"
  },
  "papermill": {
   "default_parameters": {},
   "duration": 223.488917,
   "end_time": "2023-12-05T12:44:55.971078",
   "environment_variables": {},
   "exception": null,
   "input_path": "__notebook__.ipynb",
   "output_path": "__notebook__.ipynb",
   "parameters": {},
   "start_time": "2023-12-05T12:41:12.482161",
   "version": "2.4.0"
  }
 },
 "nbformat": 4,
 "nbformat_minor": 5
}
